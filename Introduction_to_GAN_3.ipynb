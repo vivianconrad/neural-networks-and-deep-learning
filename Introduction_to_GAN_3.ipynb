{
  "nbformat": 4,
  "nbformat_minor": 0,
  "metadata": {
    "colab": {
      "name": "Introduction_to_GAN_3.ipynb",
      "provenance": [],
      "collapsed_sections": [],
      "include_colab_link": true
    },
    "kernelspec": {
      "name": "python3",
      "display_name": "Python 3"
    },
    "language_info": {
      "name": "python"
    },
    "accelerator": "GPU"
  },
  "cells": [
    {
      "cell_type": "markdown",
      "metadata": {
        "id": "view-in-github",
        "colab_type": "text"
      },
      "source": [
        "<a href=\"https://colab.research.google.com/github/vivianconrad/neural-networks-and-deep-learning/blob/main/Introduction_to_GAN_3.ipynb\" target=\"_parent\"><img src=\"https://colab.research.google.com/assets/colab-badge.svg\" alt=\"Open In Colab\"/></a>"
      ]
    },
    {
      "cell_type": "markdown",
      "metadata": {
        "id": "qi3Wb9OH1FjS"
      },
      "source": [
        "# Upsample Layer"
      ]
    },
    {
      "cell_type": "code",
      "metadata": {
        "id": "oqUUO1eIzQ-j",
        "colab": {
          "base_uri": "https://localhost:8080/"
        },
        "outputId": "0ecbd9ac-827d-4dac-9e8e-aa0e799c602d"
      },
      "source": [
        "from numpy import asarray\n",
        "from keras.models import Sequential\n",
        "from keras.layers import UpSampling2D\n",
        "\n",
        "\n",
        "input_data = asarray([[1, 2],\n",
        "\t\t\t [3, 4]])\n",
        "print(input_data)\n",
        "\n",
        "reshape_input = input_data.reshape((1, 2, 2, 1))\n",
        "\n",
        "model = Sequential()\n",
        "model.add(UpSampling2D(input_shape=(2, 2, 1)))\n",
        "model.summary()\n",
        "\n",
        "prediction = model.predict(reshape_input)\n",
        "prediction = prediction.reshape((4, 4))\n",
        "print(prediction)"
      ],
      "execution_count": null,
      "outputs": [
        {
          "output_type": "stream",
          "text": [
            "[[1 2]\n",
            " [3 4]]\n",
            "Model: \"sequential_9\"\n",
            "_________________________________________________________________\n",
            "Layer (type)                 Output Shape              Param #   \n",
            "=================================================================\n",
            "up_sampling2d_9 (UpSampling2 (None, 4, 4, 1)           0         \n",
            "=================================================================\n",
            "Total params: 0\n",
            "Trainable params: 0\n",
            "Non-trainable params: 0\n",
            "_________________________________________________________________\n",
            "WARNING:tensorflow:10 out of the last 10 calls to <function Model.make_predict_function.<locals>.predict_function at 0x7f8a30071dd0> triggered tf.function retracing. Tracing is expensive and the excessive number of tracings could be due to (1) creating @tf.function repeatedly in a loop, (2) passing tensors with different shapes, (3) passing Python objects instead of tensors. For (1), please define your @tf.function outside of the loop. For (2), @tf.function has experimental_relax_shapes=True option that relaxes argument shapes that can avoid unnecessary retracing. For (3), please refer to https://www.tensorflow.org/guide/function#controlling_retracing and https://www.tensorflow.org/api_docs/python/tf/function for  more details.\n",
            "[[1. 1. 2. 2.]\n",
            " [1. 1. 2. 2.]\n",
            " [3. 3. 4. 4.]\n",
            " [3. 3. 4. 4.]]\n"
          ],
          "name": "stdout"
        }
      ]
    },
    {
      "cell_type": "markdown",
      "metadata": {
        "id": "TLzPyGbv1QS3"
      },
      "source": [
        "# Upsample Generator"
      ]
    },
    {
      "cell_type": "code",
      "metadata": {
        "colab": {
          "base_uri": "https://localhost:8080/"
        },
        "id": "yyGby2GdzVer",
        "outputId": "b91e344c-d1f9-4c0c-91eb-167d5e8bd52f"
      },
      "source": [
        "from keras.models import Sequential\n",
        "from keras.layers import Dense\n",
        "from keras.layers import Reshape\n",
        "from keras.layers import UpSampling2D\n",
        "from keras.layers import Conv2D\n",
        "\n",
        "\n",
        "model = Sequential()\n",
        "# input shape, output activations for 128 7x7 image\n",
        "model.add(Dense(128 * 7 * 7, input_dim=100))\n",
        "# reshaping vector of activations into 128 feature maps with 7x7\n",
        "model.add(Reshape((7, 7, 128)))\n",
        "# doubling the input from 128 5x5 to 1 10x10 feature map\n",
        "model.add(UpSampling2D())\n",
        "# filling the upsampled feature maps and output a single image\n",
        "model.add(Conv2D(1, (3,3), padding='same'))\n",
        "model.summary()"
      ],
      "execution_count": null,
      "outputs": [
        {
          "output_type": "stream",
          "text": [
            "Model: \"sequential_15\"\n",
            "_________________________________________________________________\n",
            "Layer (type)                 Output Shape              Param #   \n",
            "=================================================================\n",
            "dense_5 (Dense)              (None, 6272)              633472    \n",
            "_________________________________________________________________\n",
            "reshape_5 (Reshape)          (None, 7, 7, 128)         0         \n",
            "_________________________________________________________________\n",
            "up_sampling2d_14 (UpSampling (None, 14, 14, 128)       0         \n",
            "_________________________________________________________________\n",
            "conv2d_4 (Conv2D)            (None, 14, 14, 1)         1153      \n",
            "=================================================================\n",
            "Total params: 634,625\n",
            "Trainable params: 634,625\n",
            "Non-trainable params: 0\n",
            "_________________________________________________________________\n"
          ],
          "name": "stdout"
        }
      ]
    },
    {
      "cell_type": "markdown",
      "metadata": {
        "id": "EMFyv7Zw1X3Q"
      },
      "source": [
        "# Transpose Layer"
      ]
    },
    {
      "cell_type": "code",
      "metadata": {
        "colab": {
          "base_uri": "https://localhost:8080/"
        },
        "id": "HZ-ouCYSzduw",
        "outputId": "4b91029f-3d93-4c39-947b-75895fb6397a"
      },
      "source": [
        "\n",
        "from numpy import asarray\n",
        "from keras.models import Sequential\n",
        "from keras.layers import Conv2DTranspose\n",
        "\n",
        "X = asarray([[1, 2],\n",
        "\t\t\t [3, 4]])\n",
        "\n",
        "print(X)\n",
        "\n",
        "X = X.reshape((1, 2, 2, 1))\n",
        "\n",
        "model = Sequential()\n",
        "model.add(Conv2DTranspose(1, (1,1), strides=(2,2), input_shape=(2, 2, 1)))\n",
        "model.summary()\n",
        "\n",
        "# defining weights that they do nothing\n",
        "weights = [asarray([[[[1]]]]), asarray([0])]\n",
        "\n",
        "# storing the weights in the model\n",
        "model.set_weights(weights)\n",
        "\n",
        "# making a prediction with the model\n",
        "yhat = model.predict(X)\n",
        "\n",
        "# reshaping output to remove channel to make printing easier\n",
        "yhat = yhat.reshape((4, 4))\n",
        "\n",
        "# summarizing output\n",
        "print(yhat)"
      ],
      "execution_count": null,
      "outputs": [
        {
          "output_type": "stream",
          "text": [
            "[[1 2]\n",
            " [3 4]]\n",
            "Model: \"sequential_16\"\n",
            "_________________________________________________________________\n",
            "Layer (type)                 Output Shape              Param #   \n",
            "=================================================================\n",
            "conv2d_transpose (Conv2DTran (None, 4, 4, 1)           2         \n",
            "=================================================================\n",
            "Total params: 2\n",
            "Trainable params: 2\n",
            "Non-trainable params: 0\n",
            "_________________________________________________________________\n",
            "WARNING:tensorflow:11 out of the last 11 calls to <function Model.make_predict_function.<locals>.predict_function at 0x7f89ebfd5710> triggered tf.function retracing. Tracing is expensive and the excessive number of tracings could be due to (1) creating @tf.function repeatedly in a loop, (2) passing tensors with different shapes, (3) passing Python objects instead of tensors. For (1), please define your @tf.function outside of the loop. For (2), @tf.function has experimental_relax_shapes=True option that relaxes argument shapes that can avoid unnecessary retracing. For (3), please refer to https://www.tensorflow.org/guide/function#controlling_retracing and https://www.tensorflow.org/api_docs/python/tf/function for  more details.\n",
            "[[1. 0. 2. 0.]\n",
            " [0. 0. 0. 0.]\n",
            " [3. 0. 4. 0.]\n",
            " [0. 0. 0. 0.]]\n"
          ],
          "name": "stdout"
        }
      ]
    },
    {
      "cell_type": "markdown",
      "metadata": {
        "id": "7AGnVfJ21eeh"
      },
      "source": [
        "# Transpose Generator"
      ]
    },
    {
      "cell_type": "code",
      "metadata": {
        "colab": {
          "base_uri": "https://localhost:8080/"
        },
        "id": "Uvuv3KVXzd1X",
        "outputId": "358fe8cc-52a3-4e09-e63b-12580432991b"
      },
      "source": [
        "from keras.models import Sequential\n",
        "from keras.layers import Dense\n",
        "from keras.layers import Reshape\n",
        "from keras.layers import Conv2DTranspose\n",
        "\n",
        "model = Sequential()\n",
        "model.add(Dense(128 * 5 * 5, input_dim=100))\n",
        "# reshaping vector of activations into 128 feature maps with 5x5\n",
        "model.add(Reshape((5, 5, 128)))\n",
        "# doubling the input from 128 5x5 to 1 10x10 feature map\n",
        "model.add(Conv2DTranspose(1, (3,3), strides=(2,2), padding='same'))\n",
        "model.summary()"
      ],
      "execution_count": null,
      "outputs": [
        {
          "output_type": "stream",
          "text": [
            "Model: \"sequential\"\n",
            "_________________________________________________________________\n",
            "Layer (type)                 Output Shape              Param #   \n",
            "=================================================================\n",
            "dense (Dense)                (None, 3200)              323200    \n",
            "_________________________________________________________________\n",
            "reshape (Reshape)            (None, 5, 5, 128)         0         \n",
            "_________________________________________________________________\n",
            "conv2d_transpose (Conv2DTran (None, 10, 10, 1)         1153      \n",
            "=================================================================\n",
            "Total params: 324,353\n",
            "Trainable params: 324,353\n",
            "Non-trainable params: 0\n",
            "_________________________________________________________________\n"
          ],
          "name": "stdout"
        }
      ]
    },
    {
      "cell_type": "markdown",
      "metadata": {
        "id": "xv_sKAW0FT4b"
      },
      "source": [
        " # Strided Downsample"
      ]
    },
    {
      "cell_type": "code",
      "metadata": {
        "id": "fJ0MT6EIFYkA"
      },
      "source": [
        "from keras.models import Sequential\n",
        "from keras.layers import Conv2D\n",
        "model = Sequential()\n",
        "model.add(Conv2D(64, (3,3), strides=(2,2), padding='same', input_shape=(64,64,3)))\n",
        "model.summary()"
      ],
      "execution_count": null,
      "outputs": []
    },
    {
      "cell_type": "markdown",
      "metadata": {
        "id": "Pmj3Wut4Fb2f"
      },
      "source": [
        "# Strided Upsample"
      ]
    },
    {
      "cell_type": "code",
      "metadata": {
        "id": "7izvtPCVFk5v"
      },
      "source": [
        "from keras.models import Sequential\n",
        "from keras.layers import Conv2DTranspose\n",
        "model = Sequential()\n",
        "model.add(Conv2DTranspose(64, (4,4), strides=(2,2), padding='same', input_shape=(64,64,3)))\n",
        "model.summary()"
      ],
      "execution_count": null,
      "outputs": []
    },
    {
      "cell_type": "markdown",
      "metadata": {
        "id": "Gvz_MpCaFnS2"
      },
      "source": [
        "## Leaky Relu"
      ]
    },
    {
      "cell_type": "code",
      "metadata": {
        "id": "sQOrfUmMFupK",
        "colab": {
          "base_uri": "https://localhost:8080/"
        },
        "outputId": "559f2dc8-4743-4e58-c915-fc60cb459837"
      },
      "source": [
        "from keras.models import Sequential\n",
        "from keras.layers import Conv2D\n",
        "from keras.layers import LeakyReLU\n",
        "model = Sequential()\n",
        "model.add(Conv2D(64, (3,3), strides=(2,2), padding='same', input_shape=(64,64,3)))\n",
        "model.add(LeakyReLU(0.2))\n",
        "model.summary()"
      ],
      "execution_count": null,
      "outputs": [
        {
          "output_type": "stream",
          "text": [
            "Model: \"sequential_1\"\n",
            "_________________________________________________________________\n",
            "Layer (type)                 Output Shape              Param #   \n",
            "=================================================================\n",
            "conv2d (Conv2D)              (None, 32, 32, 64)        1792      \n",
            "_________________________________________________________________\n",
            "leaky_re_lu (LeakyReLU)      (None, 32, 32, 64)        0         \n",
            "=================================================================\n",
            "Total params: 1,792\n",
            "Trainable params: 1,792\n",
            "Non-trainable params: 0\n",
            "_________________________________________________________________\n"
          ],
          "name": "stdout"
        }
      ]
    },
    {
      "cell_type": "markdown",
      "metadata": {
        "id": "cBkm0hIoGHuR"
      },
      "source": [
        "# Batch Normalization"
      ]
    },
    {
      "cell_type": "code",
      "metadata": {
        "id": "o37PnvuqGPO9",
        "colab": {
          "base_uri": "https://localhost:8080/"
        },
        "outputId": "fadc2d94-88be-482f-9c20-28974e32ec6b"
      },
      "source": [
        "from keras.models import Sequential\n",
        "from keras.layers import Conv2D\n",
        "from keras.layers import BatchNormalization\n",
        "from keras.layers import LeakyReLU\n",
        "model = Sequential()\n",
        "model.add(Conv2D(64, (3,3), strides=(2,2), padding='same', input_shape=(64,64,3)))\n",
        "model.add(BatchNormalization())\n",
        "#standardizes the activations from a prior layer to have a zero mean and unit variance.\n",
        "model.add(LeakyReLU(0.2))\n",
        "model.summary()"
      ],
      "execution_count": null,
      "outputs": [
        {
          "output_type": "stream",
          "text": [
            "Model: \"sequential_3\"\n",
            "_________________________________________________________________\n",
            "Layer (type)                 Output Shape              Param #   \n",
            "=================================================================\n",
            "conv2d_2 (Conv2D)            (None, 32, 32, 64)        1792      \n",
            "_________________________________________________________________\n",
            "batch_normalization_1 (Batch (None, 32, 32, 64)        256       \n",
            "_________________________________________________________________\n",
            "leaky_re_lu_2 (LeakyReLU)    (None, 32, 32, 64)        0         \n",
            "=================================================================\n",
            "Total params: 2,048\n",
            "Trainable params: 1,920\n",
            "Non-trainable params: 128\n",
            "_________________________________________________________________\n"
          ],
          "name": "stdout"
        }
      ]
    },
    {
      "cell_type": "markdown",
      "metadata": {
        "id": "Al2nbpd-GYDd"
      },
      "source": [
        "# Gaussian Weight Initilization"
      ]
    },
    {
      "cell_type": "code",
      "metadata": {
        "id": "iPJvCy11Gcwj"
      },
      "source": [
        "from keras.models import Sequential\n",
        "from keras.layers import Conv2DTranspose\n",
        "from keras.initializers import RandomNormal\n",
        "\n",
        "model = Sequential()\n",
        "init = RandomNormal(mean=0.0, stddev=0.02)\n",
        "model.add(Conv2DTranspose(64, (4,4), strides=(2,2), padding='same', kernel_initializer=init, input_shape=(64,64,3)))"
      ],
      "execution_count": null,
      "outputs": []
    },
    {
      "cell_type": "markdown",
      "metadata": {
        "id": "FMaXF8zQGenj"
      },
      "source": [
        "# Adam Optimizer"
      ]
    },
    {
      "cell_type": "code",
      "metadata": {
        "id": "PIkr63x-Gnqi"
      },
      "source": [
        "from keras.models import Sequential\n",
        "from keras.layers import Conv2D\n",
        "from keras.optimizers import Adam\n",
        "\n",
        "model = Sequential()\n",
        "model.add(Conv2D(64, (3,3), strides=(2,2), padding='same', input_shape=(64,64,3)))\n",
        "\n",
        "opt = Adam(lr=0.0002, beta_1=0.5)\n",
        "model.compile(loss='binary_crossentropy', optimizer=opt, metrics=['accuracy'])"
      ],
      "execution_count": null,
      "outputs": []
    },
    {
      "cell_type": "markdown",
      "metadata": {
        "id": "STZaMiAV-Uga"
      },
      "source": [
        "Acknowledgement: Jason Brownlee, Generative Adversarial Networks with Python, Machine Learning Mastery, Available from https://machinelearningmastery.com/generative_adversarial_networks/, accessed  March 15th, 2021."
      ]
    }
  ]
}