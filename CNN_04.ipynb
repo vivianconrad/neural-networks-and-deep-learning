{
  "nbformat": 4,
  "nbformat_minor": 0,
  "metadata": {
    "colab": {
      "name": "CNN_04.ipynb",
      "provenance": [],
      "collapsed_sections": [],
      "include_colab_link": true
    },
    "kernelspec": {
      "name": "python3",
      "display_name": "Python 3"
    },
    "accelerator": "TPU"
  },
  "cells": [
    {
      "cell_type": "markdown",
      "metadata": {
        "id": "view-in-github",
        "colab_type": "text"
      },
      "source": [
        "<a href=\"https://colab.research.google.com/github/vivianconrad/neural-networks-and-deep-learning/blob/main/CNN_04.ipynb\" target=\"_parent\"><img src=\"https://colab.research.google.com/assets/colab-badge.svg\" alt=\"Open In Colab\"/></a>"
      ]
    },
    {
      "cell_type": "markdown",
      "metadata": {
        "id": "3DR-eO17geWu"
      },
      "source": [
        "# Convolutional Neural Network"
      ]
    },
    {
      "cell_type": "code",
      "metadata": {
        "id": "L4srCe4Fitx1"
      },
      "source": [
        ""
      ],
      "execution_count": null,
      "outputs": []
    },
    {
      "cell_type": "markdown",
      "metadata": {
        "id": "EMefrVPCg-60"
      },
      "source": [
        "### Importing the libraries"
      ]
    },
    {
      "cell_type": "code",
      "metadata": {
        "id": "sCV30xyVhFbE",
        "colab": {
          "base_uri": "https://localhost:8080/",
          "height": 131
        },
        "outputId": "895b7522-c704-4e1a-b620-a4b152c44947"
      },
      "source": [
        "import tensorflow as tf\n",
        "from keras.preprocessing.image import ImageDataGenerator\n",
        "from tf.keras.datasets.cifar100.load_data(label_mode=\"fine\")"
      ],
      "execution_count": null,
      "outputs": [
        {
          "output_type": "error",
          "ename": "SyntaxError",
          "evalue": "ignored",
          "traceback": [
            "\u001b[0;36m  File \u001b[0;32m\"<ipython-input-1-9639685e0e10>\"\u001b[0;36m, line \u001b[0;32m3\u001b[0m\n\u001b[0;31m    from tf.keras.datasets.cifar100.load_data(label_mode=\"fine\")\u001b[0m\n\u001b[0m                                             ^\u001b[0m\n\u001b[0;31mSyntaxError\u001b[0m\u001b[0;31m:\u001b[0m invalid syntax\n"
          ]
        }
      ]
    },
    {
      "cell_type": "code",
      "metadata": {
        "id": "FIleuCAjoFD8",
        "colab": {
          "base_uri": "https://localhost:8080/",
          "height": 35
        },
        "outputId": "7dd32642-6595-4ca5-ac49-15f7e674945a"
      },
      "source": [
        "tf.__version__"
      ],
      "execution_count": null,
      "outputs": [
        {
          "output_type": "execute_result",
          "data": {
            "application/vnd.google.colaboratory.intrinsic+json": {
              "type": "string"
            },
            "text/plain": [
              "'2.4.1'"
            ]
          },
          "metadata": {
            "tags": []
          },
          "execution_count": 19
        }
      ]
    },
    {
      "cell_type": "code",
      "metadata": {
        "colab": {
          "base_uri": "https://localhost:8080/"
        },
        "id": "j6oykqF9rT46",
        "outputId": "42541ca8-d20c-4f04-a2fa-27aee4778b5d"
      },
      "source": [
        "!wget -O CNN_Dataset.zip https://www.dropbox.com/s/l6gcv55l0mk1kgc/CNN_Dataset.zip?dl=0"
      ],
      "execution_count": null,
      "outputs": [
        {
          "output_type": "stream",
          "text": [
            "--2021-03-22 07:24:38--  https://www.dropbox.com/s/l6gcv55l0mk1kgc/CNN_Dataset.zip?dl=0\n",
            "Resolving www.dropbox.com (www.dropbox.com)... 162.125.3.18, 2620:100:6018:18::a27d:312\n",
            "Connecting to www.dropbox.com (www.dropbox.com)|162.125.3.18|:443... connected.\n",
            "HTTP request sent, awaiting response... 301 Moved Permanently\n",
            "Location: /s/raw/l6gcv55l0mk1kgc/CNN_Dataset.zip [following]\n",
            "--2021-03-22 07:24:38--  https://www.dropbox.com/s/raw/l6gcv55l0mk1kgc/CNN_Dataset.zip\n",
            "Reusing existing connection to www.dropbox.com:443.\n",
            "HTTP request sent, awaiting response... 302 Found\n",
            "Location: https://ucf8d33d5fb44abf479f271c6825.dl.dropboxusercontent.com/cd/0/inline/BLLWUPuti8vxmBPicC_frODHHBhn1VCDdTIUdD-KesYun4zqiBhHXIjd_NeSdWQ8Ji3Z-Kkk0eKISK5bI8fngRh7kqgJ1g_KarNi2mUkStLGXtC8Db1liv690ozYz5sWXME23rS2MYetKmLj1N5Wj3mn/file# [following]\n",
            "--2021-03-22 07:24:39--  https://ucf8d33d5fb44abf479f271c6825.dl.dropboxusercontent.com/cd/0/inline/BLLWUPuti8vxmBPicC_frODHHBhn1VCDdTIUdD-KesYun4zqiBhHXIjd_NeSdWQ8Ji3Z-Kkk0eKISK5bI8fngRh7kqgJ1g_KarNi2mUkStLGXtC8Db1liv690ozYz5sWXME23rS2MYetKmLj1N5Wj3mn/file\n",
            "Resolving ucf8d33d5fb44abf479f271c6825.dl.dropboxusercontent.com (ucf8d33d5fb44abf479f271c6825.dl.dropboxusercontent.com)... 162.125.3.15, 2620:100:601b:15::a27d:80f\n",
            "Connecting to ucf8d33d5fb44abf479f271c6825.dl.dropboxusercontent.com (ucf8d33d5fb44abf479f271c6825.dl.dropboxusercontent.com)|162.125.3.15|:443... connected.\n",
            "HTTP request sent, awaiting response... 302 Found\n",
            "Location: /cd/0/inline2/BLLubnqv6UdPaGPrRf66CGQLgAmd1J6wDvFAkCyTz8Xu7CabaBi3W9gq0ktoynwdWJdyOBjRYKbfbXplBI6bFAAk2yU7XLFpDqoByZdbBrtsAb__oFWHPNAf3A5btRLobxplD7AbR0-9PDdz8ioCWenhXJ2RSoq_IbYUZcD9jYdAc1IaZ3ZpjN4tBRphyUrvAwm6a9cflaGAsoEMeh96ZuMcPPQXBOQTewMKdWH4JAROJZCVSpBPxOqefBtj7_MpvLEmkICs_Xnst2P-AXpzt4wNISCpgyH6JYqhNhLwrMH_2ZYJP4oP23HxBIU5DQUYC_ZrSrWygVj-3YEup2F52G_RVTNpPdl4aFDbgnxBaCK0QjSGVCe3tLY9xGFu5n4VUNk/file [following]\n",
            "--2021-03-22 07:24:39--  https://ucf8d33d5fb44abf479f271c6825.dl.dropboxusercontent.com/cd/0/inline2/BLLubnqv6UdPaGPrRf66CGQLgAmd1J6wDvFAkCyTz8Xu7CabaBi3W9gq0ktoynwdWJdyOBjRYKbfbXplBI6bFAAk2yU7XLFpDqoByZdbBrtsAb__oFWHPNAf3A5btRLobxplD7AbR0-9PDdz8ioCWenhXJ2RSoq_IbYUZcD9jYdAc1IaZ3ZpjN4tBRphyUrvAwm6a9cflaGAsoEMeh96ZuMcPPQXBOQTewMKdWH4JAROJZCVSpBPxOqefBtj7_MpvLEmkICs_Xnst2P-AXpzt4wNISCpgyH6JYqhNhLwrMH_2ZYJP4oP23HxBIU5DQUYC_ZrSrWygVj-3YEup2F52G_RVTNpPdl4aFDbgnxBaCK0QjSGVCe3tLY9xGFu5n4VUNk/file\n",
            "Reusing existing connection to ucf8d33d5fb44abf479f271c6825.dl.dropboxusercontent.com:443.\n",
            "HTTP request sent, awaiting response... 200 OK\n",
            "Length: 232760475 (222M) [application/zip]\n",
            "Saving to: ‘CNN_Dataset.zip’\n",
            "\n",
            "CNN_Dataset.zip     100%[===================>] 221.98M  82.0MB/s    in 2.7s    \n",
            "\n",
            "2021-03-22 07:24:43 (82.0 MB/s) - ‘CNN_Dataset.zip’ saved [232760475/232760475]\n",
            "\n"
          ],
          "name": "stdout"
        }
      ]
    },
    {
      "cell_type": "code",
      "metadata": {
        "colab": {
          "base_uri": "https://localhost:8080/"
        },
        "id": "72B46ABfsk60",
        "outputId": "72783299-e75c-43c8-fba9-9dc273289aa2"
      },
      "source": [
        "!unzip CNN_Dataset.zip"
      ],
      "execution_count": null,
      "outputs": [
        {
          "output_type": "stream",
          "text": [
            "Archive:  CNN_Dataset.zip\n",
            "replace __MACOSX/._dataset? [y]es, [n]o, [A]ll, [N]one, [r]ename: "
          ],
          "name": "stdout"
        }
      ]
    },
    {
      "cell_type": "markdown",
      "metadata": {
        "id": "oxQxCBWyoGPE"
      },
      "source": [
        "## Part 1 - Data Preprocessing"
      ]
    },
    {
      "cell_type": "markdown",
      "metadata": {
        "id": "MvE-heJNo3GG"
      },
      "source": [
        "### Preprocessing the Training set"
      ]
    },
    {
      "cell_type": "code",
      "metadata": {
        "id": "0koUcJMJpEBD",
        "colab": {
          "base_uri": "https://localhost:8080/"
        },
        "outputId": "ac607493-b173-4fb3-996b-0bc0001e07e3"
      },
      "source": [
        "train_data_gen = ImageDataGenerator(rescale = 1./255,\n",
        "                                   shear_range = 0.2,\n",
        "                                   zoom_range = 0.2,\n",
        "                                   horizontal_flip = True)\n",
        "training_set = train_data_gen.flow_from_directory('dataset/training_set',\n",
        "                                                 target_size = (64, 64),\n",
        "                                                 batch_size = 32,\n",
        "                                                 class_mode = 'binary')"
      ],
      "execution_count": null,
      "outputs": [
        {
          "output_type": "stream",
          "text": [
            "Found 8000 images belonging to 2 classes.\n"
          ],
          "name": "stdout"
        }
      ]
    },
    {
      "cell_type": "markdown",
      "metadata": {
        "id": "mrCMmGw9pHys"
      },
      "source": [
        "### Preprocessing the Test set"
      ]
    },
    {
      "cell_type": "code",
      "metadata": {
        "id": "SH4WzfOhpKc3",
        "colab": {
          "base_uri": "https://localhost:8080/"
        },
        "outputId": "4c020c98-0ef6-4019-d775-ab51cf546be0"
      },
      "source": [
        "test_data_gen = ImageDataGenerator(rescale = 1./255)\n",
        "test_set = test_data_gen.flow_from_directory('dataset/test_set',\n",
        "                                            target_size = (64, 64),\n",
        "                                            batch_size = 32,\n",
        "                                            class_mode = 'binary')"
      ],
      "execution_count": null,
      "outputs": [
        {
          "output_type": "stream",
          "text": [
            "Found 2000 images belonging to 2 classes.\n"
          ],
          "name": "stdout"
        }
      ]
    },
    {
      "cell_type": "markdown",
      "metadata": {
        "id": "af8O4l90gk7B"
      },
      "source": [
        "## Part 2 - Building the CNN"
      ]
    },
    {
      "cell_type": "markdown",
      "metadata": {
        "id": "ces1gXY2lmoX"
      },
      "source": [
        "### Initialising the CNN"
      ]
    },
    {
      "cell_type": "code",
      "metadata": {
        "id": "SAUt4UMPlhLS"
      },
      "source": [
        "cnn = tf.keras.models.Sequential()"
      ],
      "execution_count": null,
      "outputs": []
    },
    {
      "cell_type": "markdown",
      "metadata": {
        "id": "u5YJj_XMl5LF"
      },
      "source": [
        "### Step 1 - Convolution"
      ]
    },
    {
      "cell_type": "code",
      "metadata": {
        "id": "XPzPrMckl-hV"
      },
      "source": [
        "cnn.add(tf.keras.layers.Conv2D(filters=32, kernel_size=3, activation='relu', input_shape=[64, 64, 3]))"
      ],
      "execution_count": null,
      "outputs": []
    },
    {
      "cell_type": "markdown",
      "metadata": {
        "id": "tf87FpvxmNOJ"
      },
      "source": [
        "### Step 2 - Pooling"
      ]
    },
    {
      "cell_type": "code",
      "metadata": {
        "id": "ncpqPl69mOac"
      },
      "source": [
        "cnn.add(tf.keras.layers.MaxPool2D(pool_size=2, strides=2))"
      ],
      "execution_count": null,
      "outputs": []
    },
    {
      "cell_type": "markdown",
      "metadata": {
        "id": "xaTOgD8rm4mU"
      },
      "source": [
        "### Adding a second convolutional layer"
      ]
    },
    {
      "cell_type": "code",
      "metadata": {
        "id": "i_-FZjn_m8gk"
      },
      "source": [
        "cnn.add(tf.keras.layers.Conv2D(filters=32, kernel_size=3, activation='relu'))\n",
        "cnn.add(tf.keras.layers.MaxPool2D(pool_size=2, strides=2))"
      ],
      "execution_count": null,
      "outputs": []
    },
    {
      "cell_type": "markdown",
      "metadata": {
        "id": "tmiEuvTunKfk"
      },
      "source": [
        "### Step 3 - Flattening"
      ]
    },
    {
      "cell_type": "code",
      "metadata": {
        "id": "6AZeOGCvnNZn"
      },
      "source": [
        "cnn.add(tf.keras.layers.Flatten())"
      ],
      "execution_count": null,
      "outputs": []
    },
    {
      "cell_type": "markdown",
      "metadata": {
        "id": "dAoSECOm203v"
      },
      "source": [
        "### Step 4 - Full Connection"
      ]
    },
    {
      "cell_type": "code",
      "metadata": {
        "id": "8GtmUlLd26Nq"
      },
      "source": [
        "cnn.add(tf.keras.layers.Dense(units=128, activation='relu'))"
      ],
      "execution_count": null,
      "outputs": []
    },
    {
      "cell_type": "markdown",
      "metadata": {
        "id": "yTldFvbX28Na"
      },
      "source": [
        "### Step 5 - Output Layer"
      ]
    },
    {
      "cell_type": "code",
      "metadata": {
        "id": "1p_Zj1Mc3Ko_"
      },
      "source": [
        "cnn.add(tf.keras.layers.Dense(units=1, activation='sigmoid'))"
      ],
      "execution_count": null,
      "outputs": []
    },
    {
      "cell_type": "markdown",
      "metadata": {
        "id": "D6XkI90snSDl"
      },
      "source": [
        "## Part 3 - Training the CNN"
      ]
    },
    {
      "cell_type": "markdown",
      "metadata": {
        "id": "vfrFQACEnc6i"
      },
      "source": [
        "### Compiling the CNN"
      ]
    },
    {
      "cell_type": "code",
      "metadata": {
        "id": "NALksrNQpUlJ"
      },
      "source": [
        "cnn.compile(optimizer = 'adam', loss = 'binary_crossentropy', metrics = ['accuracy'])"
      ],
      "execution_count": null,
      "outputs": []
    },
    {
      "cell_type": "markdown",
      "metadata": {
        "id": "ehS-v3MIpX2h"
      },
      "source": [
        "### Training the CNN on the Training set and evaluating it on the Test set"
      ]
    },
    {
      "cell_type": "code",
      "metadata": {
        "id": "XUj1W4PJptta",
        "colab": {
          "base_uri": "https://localhost:8080/"
        },
        "outputId": "63dd01ac-7e84-4eb8-865a-bc44e10541d3"
      },
      "source": [
        "cnn.fit(x = training_set, validation_data = test_set, epochs = 25)"
      ],
      "execution_count": null,
      "outputs": [
        {
          "output_type": "stream",
          "text": [
            "Epoch 1/25\n",
            "250/250 [==============================] - 67s 265ms/step - loss: 0.6758 - accuracy: 0.5604 - val_loss: 0.6271 - val_accuracy: 0.6650\n",
            "Epoch 2/25\n",
            "250/250 [==============================] - 66s 265ms/step - loss: 0.5974 - accuracy: 0.6771 - val_loss: 0.5732 - val_accuracy: 0.6995\n",
            "Epoch 3/25\n",
            "250/250 [==============================] - 67s 266ms/step - loss: 0.5495 - accuracy: 0.7233 - val_loss: 0.5093 - val_accuracy: 0.7570\n",
            "Epoch 4/25\n",
            "250/250 [==============================] - 67s 267ms/step - loss: 0.5206 - accuracy: 0.7435 - val_loss: 0.4994 - val_accuracy: 0.7625\n",
            "Epoch 5/25\n",
            "250/250 [==============================] - 67s 267ms/step - loss: 0.4974 - accuracy: 0.7527 - val_loss: 0.5228 - val_accuracy: 0.7420\n",
            "Epoch 6/25\n",
            "250/250 [==============================] - 67s 267ms/step - loss: 0.4828 - accuracy: 0.7680 - val_loss: 0.4834 - val_accuracy: 0.7755\n",
            "Epoch 7/25\n",
            "250/250 [==============================] - 67s 268ms/step - loss: 0.4648 - accuracy: 0.7753 - val_loss: 0.5397 - val_accuracy: 0.7375\n",
            "Epoch 8/25\n",
            "250/250 [==============================] - 67s 267ms/step - loss: 0.4597 - accuracy: 0.7801 - val_loss: 0.4770 - val_accuracy: 0.7850\n",
            "Epoch 9/25\n",
            "250/250 [==============================] - 66s 265ms/step - loss: 0.4316 - accuracy: 0.7920 - val_loss: 0.4515 - val_accuracy: 0.8005\n",
            "Epoch 10/25\n",
            "250/250 [==============================] - 66s 264ms/step - loss: 0.4257 - accuracy: 0.8059 - val_loss: 0.4619 - val_accuracy: 0.7895\n",
            "Epoch 11/25\n",
            "250/250 [==============================] - 66s 264ms/step - loss: 0.4039 - accuracy: 0.8070 - val_loss: 0.4700 - val_accuracy: 0.7925\n",
            "Epoch 12/25\n",
            "250/250 [==============================] - 66s 264ms/step - loss: 0.3904 - accuracy: 0.8234 - val_loss: 0.4508 - val_accuracy: 0.7970\n",
            "Epoch 13/25\n",
            "250/250 [==============================] - 66s 263ms/step - loss: 0.3659 - accuracy: 0.8297 - val_loss: 0.4888 - val_accuracy: 0.7845\n",
            "Epoch 14/25\n",
            "250/250 [==============================] - 66s 262ms/step - loss: 0.3796 - accuracy: 0.8263 - val_loss: 0.4597 - val_accuracy: 0.7940\n",
            "Epoch 15/25\n",
            "250/250 [==============================] - 66s 263ms/step - loss: 0.3585 - accuracy: 0.8383 - val_loss: 0.4321 - val_accuracy: 0.8185\n",
            "Epoch 16/25\n",
            "250/250 [==============================] - 66s 263ms/step - loss: 0.3404 - accuracy: 0.8519 - val_loss: 0.4531 - val_accuracy: 0.8100\n",
            "Epoch 17/25\n",
            "250/250 [==============================] - 66s 264ms/step - loss: 0.3417 - accuracy: 0.8470 - val_loss: 0.4411 - val_accuracy: 0.8130\n",
            "Epoch 18/25\n",
            "250/250 [==============================] - 66s 265ms/step - loss: 0.3202 - accuracy: 0.8593 - val_loss: 0.4378 - val_accuracy: 0.8110\n",
            "Epoch 19/25\n",
            "250/250 [==============================] - 66s 265ms/step - loss: 0.3071 - accuracy: 0.8664 - val_loss: 0.4712 - val_accuracy: 0.8100\n",
            "Epoch 20/25\n",
            "250/250 [==============================] - 66s 265ms/step - loss: 0.2984 - accuracy: 0.8775 - val_loss: 0.5115 - val_accuracy: 0.7810\n",
            "Epoch 21/25\n",
            "250/250 [==============================] - 66s 265ms/step - loss: 0.2801 - accuracy: 0.8775 - val_loss: 0.4840 - val_accuracy: 0.8160\n",
            "Epoch 22/25\n",
            "250/250 [==============================] - 66s 264ms/step - loss: 0.2880 - accuracy: 0.8669 - val_loss: 0.4617 - val_accuracy: 0.8090\n",
            "Epoch 23/25\n",
            "250/250 [==============================] - 66s 265ms/step - loss: 0.2559 - accuracy: 0.8933 - val_loss: 0.4923 - val_accuracy: 0.8135\n",
            "Epoch 24/25\n",
            "250/250 [==============================] - 66s 265ms/step - loss: 0.2399 - accuracy: 0.8997 - val_loss: 0.4912 - val_accuracy: 0.7980\n",
            "Epoch 25/25\n",
            "250/250 [==============================] - 66s 263ms/step - loss: 0.2523 - accuracy: 0.8892 - val_loss: 0.5470 - val_accuracy: 0.7700\n"
          ],
          "name": "stdout"
        },
        {
          "output_type": "execute_result",
          "data": {
            "text/plain": [
              "<tensorflow.python.keras.callbacks.History at 0x7f71ad2d4690>"
            ]
          },
          "metadata": {
            "tags": []
          },
          "execution_count": 32
        }
      ]
    },
    {
      "cell_type": "markdown",
      "metadata": {
        "id": "U3PZasO0006Z"
      },
      "source": [
        "## Part 4 - Making a single prediction"
      ]
    },
    {
      "cell_type": "code",
      "metadata": {
        "id": "gsSiWEJY1BPB"
      },
      "source": [
        "import numpy as np\n",
        "from keras.preprocessing import image\n",
        "testing_image = image.load_img('dataset/single_prediction/cat_or_dog_1.jpg', target_size = (64, 64))\n",
        "testing_image = image.img_to_array(testing_image)\n",
        "testing_image = np.expand_dims(testing_image, axis = 0)\n",
        "result = cnn.predict(testing_image)\n",
        "training_set.class_indices\n",
        "if result[0][0] == 1:\n",
        "  prediction = 'dog'\n",
        "else:\n",
        "  prediction = 'cat'"
      ],
      "execution_count": null,
      "outputs": []
    },
    {
      "cell_type": "code",
      "metadata": {
        "id": "ED9KB3I54c1i",
        "colab": {
          "base_uri": "https://localhost:8080/"
        },
        "outputId": "3414716f-9f2f-4ec0-ae34-6d7a7aab2b88"
      },
      "source": [
        "print(prediction)"
      ],
      "execution_count": null,
      "outputs": [
        {
          "output_type": "stream",
          "text": [
            "dog\n"
          ],
          "name": "stdout"
        }
      ]
    }
  ]
}