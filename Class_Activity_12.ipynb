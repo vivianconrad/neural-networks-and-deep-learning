{
  "nbformat": 4,
  "nbformat_minor": 0,
  "metadata": {
    "colab": {
      "name": "Class_Activity_12.ipynb",
      "provenance": [],
      "collapsed_sections": []
    },
    "kernelspec": {
      "name": "python3",
      "display_name": "Python 3"
    },
    "language_info": {
      "name": "python"
    }
  },
  "cells": [
    {
      "cell_type": "markdown",
      "metadata": {
        "id": "u9IIQvlr1U-8"
      },
      "source": [
        "Write Python code that does the following. \n",
        "\n",
        "- Create the following function: **elevator_finite_state_machine**, which will updated the **Class elevatorFSM** attribute value of **current_state** where we move from one state to anothe based on the input values where Input: **floor_visit_value** which will be an integer value.\n",
        " - Ex: Consider an Elevator which starts at the lowest floor and then operates where we try to understand the direction as the current state \n",
        " - In the above example if current_state value is None then we set the current_state to UP and the current_floor is set to the floor we visit\n",
        " - If the next floor we visit is higher than the current floor then we need to set the current state as **UP** and set the current floor to the floor we visit\n",
        " - If the next floor we visit is lower than the current floor then we need to set the current state as **DOWN** and set the current floor to the floor we visit\n",
        "\n",
        "**Conditions to follow:**\n",
        "- The output should be a string format similar to test cases mentioned below\n",
        "- Inbuilt functions which require no import and Datatype methods can be used to solve this problem but No arbitray functions or library can be used.\n",
        "- No other function name can be defined/declared than the ones asked to be declared in any of the questions presented in this notebook.\n",
        "- The code you write should pass all the test cases given.\n",
        "\n",
        "\n",
        "---\n",
        "\n",
        "TEST CASES:\n",
        "\n",
        "```\n",
        "Elevator FSM Current State: UP, Visiting Floor No.: 4\n",
        "\n",
        "Elevator FSM Current State: DOWN, Visiting Floor No.: 2\n",
        "\n",
        "Elevator FSM Current State: UP, Visiting Floor No.: 5\n",
        "\n",
        "Elevator FSM Current State: DOWN, Visiting Floor No.: 3\n",
        "\n",
        "Elevator FSM Current State: UP, Visiting Floor No.: 6\n",
        "\n",
        "Elevator FSM Current State: UP, Visiting Floor No.: 7\n",
        "```\n",
        "---\n",
        "\n",
        "Hint: You can use built in methods and data type/string methods to create the solution to solve this problem. Simple nested If-Elif-Else conditions can be used to solve this problem."
      ]
    },
    {
      "cell_type": "markdown",
      "metadata": {
        "id": "IeVxf2yk1U--"
      },
      "source": [
        "### Code"
      ]
    },
    {
      "cell_type": "code",
      "metadata": {
        "id": "MGqFsaIE1U_A",
        "colab": {
          "base_uri": "https://localhost:8080/"
        },
        "outputId": "0668160a-1894-4449-cd82-605f152358ea"
      },
      "source": [
        "# The Current updated state object\n",
        "class elevatorFSM:\n",
        "  # We will initialize the starting state as None - This is what we will have\n",
        "  # to update as currrent state\n",
        "  current_state = None\n",
        "  current_floor = 0\n",
        "  # We will set the states of the elevator FSM as class variables\n",
        "  UP = \"UP\"\n",
        "  DOWN = \"DOWN\"\n",
        "\n",
        "# DECLARE the function elevator_finite_state_machine()\n",
        "def elevator_finite_state_machine(floor_visit_value):\n",
        "  # write code here\n",
        "    if floor_visit_value > elevatorFSM.current_floor:\n",
        "      elevatorFSM.current_state = elevatorFSM.UP\n",
        "    else:\n",
        "      elevatorFSM.current_state = elevatorFSM.DOWN\n",
        "    elevatorFSM.current_floor = floor_visit_value\n",
        "\n",
        "### TEST CASES ###\n",
        "\n",
        "# Initialise the floor visit values\n",
        "floor_visit_value_list = [4, 2, 5, 3, 6, 7]\n",
        "\n",
        "for floor_visit_value in floor_visit_value_list:\n",
        "  # CALL the elevator_finite_state_machine with required parameters\n",
        "  elevator_finite_state_machine(floor_visit_value=floor_visit_value)\n",
        "  # Print the output\n",
        "  print(\"Elevator FSM Current State: {0}, Visiting Floor No.: {1}\\n\".format(elevatorFSM.current_state, floor_visit_value))"
      ],
      "execution_count": null,
      "outputs": [
        {
          "output_type": "stream",
          "name": "stdout",
          "text": [
            "Elevator FSM Current State: UP, Visiting Floor No.: 4\n",
            "\n",
            "Elevator FSM Current State: DOWN, Visiting Floor No.: 2\n",
            "\n",
            "Elevator FSM Current State: UP, Visiting Floor No.: 5\n",
            "\n",
            "Elevator FSM Current State: DOWN, Visiting Floor No.: 3\n",
            "\n",
            "Elevator FSM Current State: UP, Visiting Floor No.: 6\n",
            "\n",
            "Elevator FSM Current State: UP, Visiting Floor No.: 7\n",
            "\n"
          ]
        }
      ]
    }
  ]
}