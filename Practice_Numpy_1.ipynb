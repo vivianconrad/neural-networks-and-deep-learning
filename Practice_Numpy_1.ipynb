{
  "nbformat": 4,
  "nbformat_minor": 0,
  "metadata": {
    "colab": {
      "name": "Practice_Numpy_1.ipynb",
      "provenance": [],
      "collapsed_sections": [],
      "include_colab_link": true
    },
    "kernelspec": {
      "name": "python3",
      "display_name": "Python 3"
    }
  },
  "cells": [
    {
      "cell_type": "markdown",
      "metadata": {
        "id": "view-in-github",
        "colab_type": "text"
      },
      "source": [
        "<a href=\"https://colab.research.google.com/github/vivianconrad/neural-networks-and-deep-learning/blob/main/Practice_Numpy_1.ipynb\" target=\"_parent\"><img src=\"https://colab.research.google.com/assets/colab-badge.svg\" alt=\"Open In Colab\"/></a>"
      ]
    },
    {
      "cell_type": "markdown",
      "metadata": {
        "id": "4WbZ4U5NupOS"
      },
      "source": [
        "## Array Attributes"
      ]
    },
    {
      "cell_type": "code",
      "metadata": {
        "id": "5Iqb51WVur26"
      },
      "source": [
        "import numpy as np\n",
        "np.random.seed(0)  # seed value to maintain reproducibility\n",
        "\n",
        "x1 = np.random.randint(10, size=8)  # One-dimensional array\n",
        "x2 = np.random.randint(10, size=(2, 3))  # Two-dimensional array\n",
        "x3 = np.random.randint(10, size=(2, 3, 4))  # Three-dimensional array"
      ],
      "execution_count": null,
      "outputs": []
    },
    {
      "cell_type": "code",
      "metadata": {
        "colab": {
          "base_uri": "https://localhost:8080/"
        },
        "id": "NdFVzvzaqXOn",
        "outputId": "52b698fb-2cce-4532-ed27-d5e8f346ba8e"
      },
      "source": [
        "print(\"x3 ndim: \", x3.ndim)  # ndarray.ndim: Number of array dimensions.\n",
        "print(\"x3 shape:\", x3.shape) # numpy.shape(a): Return the shape of an array.\n",
        "print(\"x3 size: \", x3.size)  # ndarray.size: Number of elements in the array.\n",
        "print(\"dtype:\",   x3.dtype)  # https://numpy.org/doc/stable/reference/arrays.dtypes.html\n",
        "print(\"itemsize:\", x3.itemsize, \"bytes\") # itemsize,lists the size (in bytes) of each array element.\n",
        "print(\"nbytes:\", x3.nbytes, \"bytes\")  # nbytes, lists the total size (in bytes) of the array."
      ],
      "execution_count": null,
      "outputs": [
        {
          "output_type": "stream",
          "text": [
            "x3 ndim:  3\n",
            "x3 shape: (2, 3, 4)\n",
            "x3 size:  24\n",
            "dtype: int64\n",
            "itemsize: 8 bytes\n",
            "nbytes: 192 bytes\n"
          ],
          "name": "stdout"
        }
      ]
    },
    {
      "cell_type": "markdown",
      "metadata": {
        "id": "ENzVa6mbuvDn"
      },
      "source": [
        "## Array Indexing"
      ]
    },
    {
      "cell_type": "code",
      "metadata": {
        "colab": {
          "base_uri": "https://localhost:8080/"
        },
        "id": "oBRelgBHrS0Q",
        "outputId": "2194f189-aae6-4a0e-ea7e-94b7589b9986"
      },
      "source": [
        "x1 = np.random.randint(10, size=8)\n",
        "print(x1)\n",
        "print(x1[0])\n",
        "print(x1[4])\n",
        "print(x1[-1])\n",
        "print(x1[-2])\n"
      ],
      "execution_count": null,
      "outputs": [
        {
          "output_type": "stream",
          "text": [
            "[0 1 9 9 0 4 7 3]\n",
            "0\n",
            "0\n",
            "3\n",
            "7\n"
          ],
          "name": "stdout"
        }
      ]
    },
    {
      "cell_type": "code",
      "metadata": {
        "colab": {
          "base_uri": "https://localhost:8080/"
        },
        "id": "orK8DTRKvb2h",
        "outputId": "02d19ec6-76a1-46ff-c464-59ea32945785"
      },
      "source": [
        "x2 = np.random.randint(10, size=(2, 3))\n",
        "print(x2)\n",
        "print(x2[0, 0])\n",
        "print(x2[1, 0])\n",
        "print(x2[1, -1])"
      ],
      "execution_count": null,
      "outputs": [
        {
          "output_type": "stream",
          "text": [
            "[[2 7 2]\n",
            " [0 0 4]]\n",
            "2\n",
            "0\n",
            "4\n"
          ],
          "name": "stdout"
        }
      ]
    },
    {
      "cell_type": "code",
      "metadata": {
        "colab": {
          "base_uri": "https://localhost:8080/"
        },
        "id": "Ns6SKH_cv-d9",
        "outputId": "95fc319f-220a-4150-a0cd-5f15cbc37a64"
      },
      "source": [
        "x2[0, 0] = 10\n",
        "print(x2)"
      ],
      "execution_count": null,
      "outputs": [
        {
          "output_type": "stream",
          "text": [
            "[[10  7  2]\n",
            " [ 0  0  4]]\n"
          ],
          "name": "stdout"
        }
      ]
    },
    {
      "cell_type": "code",
      "metadata": {
        "colab": {
          "base_uri": "https://localhost:8080/"
        },
        "id": "1z4VXj04wKNq",
        "outputId": "51ec6544-5fac-4d35-e251-7b0cdcab0ff3"
      },
      "source": [
        "x1[0] = 5.694159  # this will be truncated!\n",
        "print(x1)"
      ],
      "execution_count": null,
      "outputs": [
        {
          "output_type": "stream",
          "text": [
            "[5 0 3 3 7 9 3 5]\n"
          ],
          "name": "stdout"
        }
      ]
    },
    {
      "cell_type": "markdown",
      "metadata": {
        "id": "JPfzcl1FwYdY"
      },
      "source": [
        "## Array Slicing"
      ]
    },
    {
      "cell_type": "markdown",
      "metadata": {
        "id": "2hleceWVzKdx"
      },
      "source": [
        "### One-dimensional subarrays"
      ]
    },
    {
      "cell_type": "code",
      "metadata": {
        "colab": {
          "base_uri": "https://localhost:8080/"
        },
        "id": "BnX-xpx_wap6",
        "outputId": "fbe59438-1785-4c26-d452-21cf9ff6de61"
      },
      "source": [
        "# x[start:stop:step]\n",
        "y1 = np.arange(12)\n",
        "print(y1)"
      ],
      "execution_count": null,
      "outputs": [
        {
          "output_type": "stream",
          "text": [
            "[ 0  1  2  3  4  5  6  7  8  9 10 11]\n"
          ],
          "name": "stdout"
        }
      ]
    },
    {
      "cell_type": "markdown",
      "metadata": {
        "id": "y3Ik8z_PJihQ"
      },
      "source": [
        "## Q1: Create a 1D array\n",
        "\n",
        "Expected output: array([0, 1, 2, 3, 4, 5, 6, 7, 8, 9])\n"
      ]
    },
    {
      "cell_type": "code",
      "metadata": {
        "id": "rWteIRUEJpVR",
        "colab": {
          "base_uri": "https://localhost:8080/"
        },
        "outputId": "5c382283-05a7-4047-ab29-75d488e4d5c2"
      },
      "source": [
        "\n",
        "q1 = np.arange(10)\n",
        "print(q1)"
      ],
      "execution_count": null,
      "outputs": [
        {
          "output_type": "stream",
          "text": [
            "[0 1 2 3 4 5 6 7 8 9]\n"
          ],
          "name": "stdout"
        }
      ]
    },
    {
      "cell_type": "code",
      "metadata": {
        "colab": {
          "base_uri": "https://localhost:8080/"
        },
        "id": "3UqkkHbKwqtk",
        "outputId": "a14e4c88-f059-4f75-aa88-f0316f316258"
      },
      "source": [
        "y2=x[:6] # first six elements\n",
        "print(y2)"
      ],
      "execution_count": null,
      "outputs": [
        {
          "output_type": "stream",
          "text": [
            "[0 1 2 3 4 5]\n"
          ],
          "name": "stdout"
        }
      ]
    },
    {
      "cell_type": "code",
      "metadata": {
        "colab": {
          "base_uri": "https://localhost:8080/"
        },
        "id": "YjWM36XPxIEF",
        "outputId": "9c37fa9f-7e24-415b-e11e-eae12c39895d"
      },
      "source": [
        "y3=x[6:] # elements after index 6\n",
        "print(y3)"
      ],
      "execution_count": null,
      "outputs": [
        {
          "output_type": "stream",
          "text": [
            "[ 6  7  8  9 10 11]\n"
          ],
          "name": "stdout"
        }
      ]
    },
    {
      "cell_type": "code",
      "metadata": {
        "colab": {
          "base_uri": "https://localhost:8080/"
        },
        "id": "4siLzKdixtwr",
        "outputId": "de37bf29-f311-4dac-f597-72bbde310e18"
      },
      "source": [
        "y4=x[4:8] # middle sub-array\n",
        "print(y4)"
      ],
      "execution_count": null,
      "outputs": [
        {
          "output_type": "stream",
          "text": [
            "[4 5 6 7]\n"
          ],
          "name": "stdout"
        }
      ]
    },
    {
      "cell_type": "code",
      "metadata": {
        "colab": {
          "base_uri": "https://localhost:8080/"
        },
        "id": "JcPoHnD6x5RG",
        "outputId": "583bf6d8-8b69-4704-9009-df6ef0a4d72a"
      },
      "source": [
        "y5=x[::2] # every other element\n",
        "print(y5)"
      ],
      "execution_count": null,
      "outputs": [
        {
          "output_type": "stream",
          "text": [
            "[ 0  2  4  6  8 10]\n"
          ],
          "name": "stdout"
        }
      ]
    },
    {
      "cell_type": "code",
      "metadata": {
        "colab": {
          "base_uri": "https://localhost:8080/"
        },
        "id": "G9OG3anQydfo",
        "outputId": "f5e9cfa0-71ae-4951-e4f1-fedc5de0ffa9"
      },
      "source": [
        "y6=x[1::2]  # every other element, starting at index 1\n",
        "print(y6)"
      ],
      "execution_count": null,
      "outputs": [
        {
          "output_type": "stream",
          "text": [
            "[ 1  3  5  7  9 11]\n"
          ],
          "name": "stdout"
        }
      ]
    },
    {
      "cell_type": "code",
      "metadata": {
        "colab": {
          "base_uri": "https://localhost:8080/"
        },
        "id": "4Ih9MoSXyuWc",
        "outputId": "5f7de6dc-74cf-40c6-f040-15e62b59241e"
      },
      "source": [
        "y7=x[::-1]  # all elements, reversed\n",
        "print(y7)"
      ],
      "execution_count": null,
      "outputs": [
        {
          "output_type": "stream",
          "text": [
            "[11 10  9  8  7  6  5  4  3  2  1  0]\n"
          ],
          "name": "stdout"
        }
      ]
    },
    {
      "cell_type": "code",
      "metadata": {
        "colab": {
          "base_uri": "https://localhost:8080/"
        },
        "id": "RUXGnCLmy9Ef",
        "outputId": "9d36562b-b47c-4392-af83-92fbccaa6c29"
      },
      "source": [
        "y8=x[6::-2]  # reversed every other from index 6\n",
        "print(y8)"
      ],
      "execution_count": null,
      "outputs": [
        {
          "output_type": "stream",
          "text": [
            "[6 4 2 0]\n"
          ],
          "name": "stdout"
        }
      ]
    },
    {
      "cell_type": "markdown",
      "metadata": {
        "id": "V-1gwSe7KshE"
      },
      "source": [
        "## Q2: Extract all odd numbers from 1D array\n",
        "- **Input** arr = np.array([0, 1, 2, 3, 4, 5, 6, 7, 8, 9])\n",
        "- **Expected Output** array([1, 3, 5, 7, 9])"
      ]
    },
    {
      "cell_type": "code",
      "metadata": {
        "colab": {
          "base_uri": "https://localhost:8080/"
        },
        "id": "YOWktZ0-LZlY",
        "outputId": "7469498f-78ff-425a-d20f-38721631ed0c"
      },
      "source": [
        "\n",
        "arr = np.array([0, 1, 2, 3, 4, 5, 6, 7, 8, 9])\n",
        "\n",
        "\n",
        "arr[arr % 2 == 1]"
      ],
      "execution_count": null,
      "outputs": [
        {
          "output_type": "execute_result",
          "data": {
            "text/plain": [
              "array([1, 3, 5, 7, 9])"
            ]
          },
          "metadata": {
            "tags": []
          },
          "execution_count": 26
        }
      ]
    },
    {
      "cell_type": "markdown",
      "metadata": {
        "id": "DknzW4A2Lnel"
      },
      "source": [
        "## Q3: Replace all odd numbers in arr with -1\n",
        "- **Input** arr = np.array([0, 1, 2, 3, 4, 5, 6, 7, 8, 9])\n",
        "- **Expected Output** [ 0, -1,  2, -1,  4, -1,  6, -1,  8, -1]"
      ]
    },
    {
      "cell_type": "code",
      "metadata": {
        "colab": {
          "base_uri": "https://localhost:8080/"
        },
        "id": "jvxttoBmL0gT",
        "outputId": "1ea99556-df28-4b8c-daca-f3c0878dfb5d"
      },
      "source": [
        "\n",
        "arr = np.array([0, 1, 2, 3, 4, 5, 6, 7, 8, 9])\n",
        "arr[arr % 2 == 1] = -1\n",
        "print(arr)"
      ],
      "execution_count": null,
      "outputs": [
        {
          "output_type": "stream",
          "text": [
            "[ 0 -1  2 -1  4 -1  6 -1  8 -1]\n"
          ],
          "name": "stdout"
        }
      ]
    },
    {
      "cell_type": "markdown",
      "metadata": {
        "id": "XvocHX0FMBYI"
      },
      "source": [
        "## Q4: Replace all odd numbers in arr with -1 without changing arr\n",
        "- **Input** arr = np.array([0, 1, 2, 3, 4, 5, 6, 7, 8, 9])\n",
        "- **Expected Output** \n",
        "- [ 0, -1,  2, -1,  4, -1,  6, -1,  8, -1]\n",
        "- [0, 1, 2, 3, 4, 5, 6, 7, 8, 9]"
      ]
    },
    {
      "cell_type": "code",
      "metadata": {
        "colab": {
          "base_uri": "https://localhost:8080/"
        },
        "id": "EVgVvHllM6e7",
        "outputId": "cdc512ce-e6e4-44e2-b61b-c0567d496115"
      },
      "source": [
        "\n",
        "arr = np.arange(10)\n",
        "out = np.where(arr % 2 == 1, -1, arr)\n",
        "print(out)\n",
        "print(arr)"
      ],
      "execution_count": null,
      "outputs": [
        {
          "output_type": "stream",
          "text": [
            "[ 0 -1  2 -1  4 -1  6 -1  8 -1]\n",
            "[0 1 2 3 4 5 6 7 8 9]\n"
          ],
          "name": "stdout"
        }
      ]
    },
    {
      "cell_type": "markdown",
      "metadata": {
        "id": "3qSgfQ-AzSrj"
      },
      "source": [
        "### Multi-dimensional subarrays"
      ]
    },
    {
      "cell_type": "code",
      "metadata": {
        "colab": {
          "base_uri": "https://localhost:8080/"
        },
        "id": "pfpNkqORzVcI",
        "outputId": "3dfd90e8-a7ed-48a5-9832-eeed680c037d"
      },
      "source": [
        "x2 = np.random.randint(10, size=(4, 5))\n",
        "print(x2)"
      ],
      "execution_count": null,
      "outputs": [
        {
          "output_type": "stream",
          "text": [
            "[[7 3 2 7 2]\n",
            " [0 0 4 5 5]\n",
            " [6 8 4 1 4]\n",
            " [9 8 1 1 7]]\n"
          ],
          "name": "stdout"
        }
      ]
    },
    {
      "cell_type": "code",
      "metadata": {
        "colab": {
          "base_uri": "https://localhost:8080/"
        },
        "id": "uWOzQ3ya1jZu",
        "outputId": "ac625d60-58cd-4e4e-85bc-a61962f3cead"
      },
      "source": [
        "z1=x2[:3, :4]  # three rows, four columns\n",
        "print(z1)"
      ],
      "execution_count": null,
      "outputs": [
        {
          "output_type": "stream",
          "text": [
            "[[7 3 2 7]\n",
            " [0 0 4 5]\n",
            " [6 8 4 1]]\n"
          ],
          "name": "stdout"
        }
      ]
    },
    {
      "cell_type": "code",
      "metadata": {
        "colab": {
          "base_uri": "https://localhost:8080/"
        },
        "id": "GsQYtpNy2JAn",
        "outputId": "ba62ba97-be59-4690-b598-f77a373dc896"
      },
      "source": [
        "z2=x2[:4, ::2]  # all rows, every other column\n",
        "print(z2)"
      ],
      "execution_count": null,
      "outputs": [
        {
          "output_type": "stream",
          "text": [
            "[[7 2 2]\n",
            " [0 4 5]\n",
            " [6 4 4]\n",
            " [9 1 7]]\n"
          ],
          "name": "stdout"
        }
      ]
    },
    {
      "cell_type": "code",
      "metadata": {
        "colab": {
          "base_uri": "https://localhost:8080/"
        },
        "id": "Jn3q7HE-2ZEY",
        "outputId": "425b3cab-a7e4-4fd7-f9ad-eaed472ca3ab"
      },
      "source": [
        "z3=x2[::-1, ::-1] # subarray dimensions reversed together\n",
        "print(z3)"
      ],
      "execution_count": null,
      "outputs": [
        {
          "output_type": "stream",
          "text": [
            "[[7 1 1 8 9]\n",
            " [4 1 4 8 6]\n",
            " [5 5 4 0 0]\n",
            " [2 7 2 3 7]]\n"
          ],
          "name": "stdout"
        }
      ]
    },
    {
      "cell_type": "code",
      "metadata": {
        "colab": {
          "base_uri": "https://localhost:8080/"
        },
        "id": "eXxi6P1B22Su",
        "outputId": "3acff523-0842-4b43-a5c7-958c2ad7d97c"
      },
      "source": [
        "z4=(x2[:, 1])  #second column of x2\n",
        "print(z4)"
      ],
      "execution_count": null,
      "outputs": [
        {
          "output_type": "stream",
          "text": [
            "[3 0 8 8]\n"
          ],
          "name": "stdout"
        }
      ]
    },
    {
      "cell_type": "code",
      "metadata": {
        "colab": {
          "base_uri": "https://localhost:8080/"
        },
        "id": "h8CrSPFY3H_1",
        "outputId": "74837960-f652-440a-8335-b25edd7e68a6"
      },
      "source": [
        "z5=x2[2, :] # third row of x2\n",
        "print(z5)"
      ],
      "execution_count": null,
      "outputs": [
        {
          "output_type": "stream",
          "text": [
            "[6 8 4 1 4]\n"
          ],
          "name": "stdout"
        }
      ]
    },
    {
      "cell_type": "code",
      "metadata": {
        "colab": {
          "base_uri": "https://localhost:8080/"
        },
        "id": "q-1aTFrr3dzW",
        "outputId": "013fb0e3-c0a8-435d-fc71-9b98f8736238"
      },
      "source": [
        "z6=(x2[1]) # same as x2[1, :]\n",
        "print(z6)"
      ],
      "execution_count": null,
      "outputs": [
        {
          "output_type": "stream",
          "text": [
            "[0 0 4 5 5]\n"
          ],
          "name": "stdout"
        }
      ]
    },
    {
      "cell_type": "code",
      "metadata": {
        "colab": {
          "base_uri": "https://localhost:8080/"
        },
        "id": "Je4qhmUf3_iJ",
        "outputId": "9bb6196c-3313-4ed8-acb7-07824d02c976"
      },
      "source": [
        "z7= x2[:2, :2] # extract 2 x 2 subarray\n",
        "print(z7)"
      ],
      "execution_count": null,
      "outputs": [
        {
          "output_type": "stream",
          "text": [
            "[[7 3]\n",
            " [0 0]]\n"
          ],
          "name": "stdout"
        }
      ]
    },
    {
      "cell_type": "code",
      "metadata": {
        "colab": {
          "base_uri": "https://localhost:8080/"
        },
        "id": "NkIOkq0s4OL2",
        "outputId": "d18b7586-5114-4859-bc29-41d1ea1d4498"
      },
      "source": [
        "print(x2)"
      ],
      "execution_count": null,
      "outputs": [
        {
          "output_type": "stream",
          "text": [
            "[[7 3 2 7 2]\n",
            " [0 0 4 5 5]\n",
            " [6 8 4 1 4]\n",
            " [9 8 1 1 7]]\n"
          ],
          "name": "stdout"
        }
      ]
    },
    {
      "cell_type": "code",
      "metadata": {
        "colab": {
          "base_uri": "https://localhost:8080/"
        },
        "id": "FDCjwrDO4aAM",
        "outputId": "c31968a9-b25e-4372-dd78-c53a9d03b854"
      },
      "source": [
        "z8=x2\n",
        "z8[0, 0] = 999\n",
        "print(z8)"
      ],
      "execution_count": null,
      "outputs": [
        {
          "output_type": "stream",
          "text": [
            "[[999   3   2   7   2]\n",
            " [  0   0   4   5   5]\n",
            " [  6   8   4   1   4]\n",
            " [  9   8   1   1   7]]\n"
          ],
          "name": "stdout"
        }
      ]
    },
    {
      "cell_type": "markdown",
      "metadata": {
        "id": "Zox7Etsb8-R8"
      },
      "source": [
        "## Reshaping of Arrays"
      ]
    },
    {
      "cell_type": "code",
      "metadata": {
        "colab": {
          "base_uri": "https://localhost:8080/"
        },
        "id": "dVejgHdQ7z_d",
        "outputId": "eb6642a8-b758-4a85-e1a1-9efe20338e81"
      },
      "source": [
        "a1 = np.arange(0, 16).reshape((4, 4)) #put the numbers 0 through 15 in a 4 x 4 grid. \n",
        "print(a1)"
      ],
      "execution_count": null,
      "outputs": [
        {
          "output_type": "stream",
          "text": [
            "[[ 0  1  2  3]\n",
            " [ 4  5  6  7]\n",
            " [ 8  9 10 11]\n",
            " [12 13 14 15]]\n"
          ],
          "name": "stdout"
        }
      ]
    },
    {
      "cell_type": "code",
      "metadata": {
        "colab": {
          "base_uri": "https://localhost:8080/"
        },
        "id": "DvcZGIxe9Qot",
        "outputId": "4d959076-0489-4243-bcb3-b376449df213"
      },
      "source": [
        "a2 = np.array([1, 2, 3, 4, 5, 6, 7, 8, 9])\n",
        "print(a2)\n",
        "a3=a2.reshape((3, 3)) #Gives a new shape to an array without changing its data.\n",
        "print(a3)"
      ],
      "execution_count": null,
      "outputs": [
        {
          "output_type": "stream",
          "text": [
            "[1 2 3 4 5 6 7 8 9]\n",
            "[[1 2 3]\n",
            " [4 5 6]\n",
            " [7 8 9]]\n"
          ],
          "name": "stdout"
        }
      ]
    },
    {
      "cell_type": "code",
      "metadata": {
        "colab": {
          "base_uri": "https://localhost:8080/"
        },
        "id": "i1NutfxE-ns9",
        "outputId": "08d3f092-60bf-4bb4-d000-c914f8df3492"
      },
      "source": [
        "a4 = a2[np.newaxis, :] #row vector via newaxis\n",
        "print(a4)"
      ],
      "execution_count": null,
      "outputs": [
        {
          "output_type": "stream",
          "text": [
            "[[1 2 3 4 5 6 7 8 9]]\n"
          ],
          "name": "stdout"
        }
      ]
    },
    {
      "cell_type": "code",
      "metadata": {
        "colab": {
          "base_uri": "https://localhost:8080/"
        },
        "id": "_sbLbsxa_l1B",
        "outputId": "9436f34e-9acf-4f11-d7b7-55c97d70e650"
      },
      "source": [
        "a5=a2[:, np.newaxis] #column vector via newaxis\n",
        "print(a5)"
      ],
      "execution_count": null,
      "outputs": [
        {
          "output_type": "stream",
          "text": [
            "[[1]\n",
            " [2]\n",
            " [3]\n",
            " [4]\n",
            " [5]\n",
            " [6]\n",
            " [7]\n",
            " [8]\n",
            " [9]]\n"
          ],
          "name": "stdout"
        }
      ]
    },
    {
      "cell_type": "markdown",
      "metadata": {
        "id": "8tRbcgRz-PyK"
      },
      "source": [
        "## Q5: Convert a 1D array to a 2D array with 2 rows\n",
        "- **Input** np.arange(10)\n",
        "- **Expected Output** \n",
        "\n",
        "array([[0, 1, 2, 3, 4],\n",
        "\n",
        "[5, 6, 7, 8, 9]])"
      ]
    },
    {
      "cell_type": "code",
      "metadata": {
        "colab": {
          "base_uri": "https://localhost:8080/"
        },
        "id": "oZF4xulJpjCT",
        "outputId": "9a54e1d1-a2be-4379-b281-6bda61abeb3c"
      },
      "source": [
        "z = np.arange(0, 10).reshape((2, 5)) \n",
        "print(z)"
      ],
      "execution_count": null,
      "outputs": [
        {
          "output_type": "stream",
          "text": [
            "[[0 1 2 3 4]\n",
            " [5 6 7 8 9]]\n"
          ],
          "name": "stdout"
        }
      ]
    },
    {
      "cell_type": "markdown",
      "metadata": {
        "id": "_SYJwZyoDF-w"
      },
      "source": [
        "## Array Concatenation"
      ]
    },
    {
      "cell_type": "code",
      "metadata": {
        "colab": {
          "base_uri": "https://localhost:8080/"
        },
        "id": "yeCH-4vVEDiL",
        "outputId": "c01d81db-b2e6-45a2-c5c7-357918d79872"
      },
      "source": [
        "b1 = np.array([1, 2, 3, 4, 5])\n",
        "b2 = np.array([3, 2, 1, 4, 1])\n",
        "np.concatenate([b1, b2])"
      ],
      "execution_count": null,
      "outputs": [
        {
          "output_type": "execute_result",
          "data": {
            "text/plain": [
              "array([1, 2, 3, 4, 5, 3, 2, 1, 4, 1])"
            ]
          },
          "metadata": {
            "tags": []
          },
          "execution_count": 77
        }
      ]
    },
    {
      "cell_type": "code",
      "metadata": {
        "colab": {
          "base_uri": "https://localhost:8080/"
        },
        "id": "Hilt4bSzErzl",
        "outputId": "3570ac25-b26f-47a5-a53c-580da257be2d"
      },
      "source": [
        "b3 = [901, 902, 903]\n",
        "print(np.concatenate([b1, b2, b3]))"
      ],
      "execution_count": null,
      "outputs": [
        {
          "output_type": "stream",
          "text": [
            "[  1   2   3   4   5   3   2   1   4   1 901 902 903]\n"
          ],
          "name": "stdout"
        }
      ]
    },
    {
      "cell_type": "code",
      "metadata": {
        "colab": {
          "base_uri": "https://localhost:8080/"
        },
        "id": "Hlw7CFChE-Rh",
        "outputId": "9c067b4f-2fe8-4bee-e2a2-e8d31724ee77"
      },
      "source": [
        "b4 = np.array([[1, 2, 3],\n",
        "               [4, 5, 6]])\n",
        "print(b4)"
      ],
      "execution_count": null,
      "outputs": [
        {
          "output_type": "stream",
          "text": [
            "[[1 2 3]\n",
            " [4 5 6]]\n"
          ],
          "name": "stdout"
        }
      ]
    },
    {
      "cell_type": "code",
      "metadata": {
        "colab": {
          "base_uri": "https://localhost:8080/"
        },
        "id": "zs2FfmXKFGAv",
        "outputId": "cff12152-6163-4900-c875-0667fae6cece"
      },
      "source": [
        "np.concatenate([b4, b4]) # concatenate along the first axis"
      ],
      "execution_count": null,
      "outputs": [
        {
          "output_type": "execute_result",
          "data": {
            "text/plain": [
              "array([[1, 2, 3],\n",
              "       [4, 5, 6],\n",
              "       [1, 2, 3],\n",
              "       [4, 5, 6]])"
            ]
          },
          "metadata": {
            "tags": []
          },
          "execution_count": 80
        }
      ]
    },
    {
      "cell_type": "code",
      "metadata": {
        "colab": {
          "base_uri": "https://localhost:8080/"
        },
        "id": "iktWy4tCFeTr",
        "outputId": "32c9ebf6-1e24-4983-8c09-35d625af1cd8"
      },
      "source": [
        "b5=np.concatenate([b4, b4], axis=1) # concatenate along the second axis (zero-indexed)\n",
        "print(b5)"
      ],
      "execution_count": null,
      "outputs": [
        {
          "output_type": "stream",
          "text": [
            "[[1 2 3 1 2 3]\n",
            " [4 5 6 4 5 6]]\n"
          ],
          "name": "stdout"
        }
      ]
    },
    {
      "cell_type": "code",
      "metadata": {
        "colab": {
          "base_uri": "https://localhost:8080/"
        },
        "id": "il0y8ns7F-80",
        "outputId": "884eda98-edbe-4296-f021-d1e05b85bd75"
      },
      "source": [
        "b6 = np.array([1, 2, 3])\n",
        "b7 = np.array([[9, 8, 7],\n",
        "               [6, 5, 4]])\n",
        "\n",
        "np.vstack([b6, b7]) # vertically stack the arrays"
      ],
      "execution_count": null,
      "outputs": [
        {
          "output_type": "execute_result",
          "data": {
            "text/plain": [
              "array([[1, 2, 3],\n",
              "       [9, 8, 7],\n",
              "       [6, 5, 4]])"
            ]
          },
          "metadata": {
            "tags": []
          },
          "execution_count": 86
        }
      ]
    },
    {
      "cell_type": "code",
      "metadata": {
        "colab": {
          "base_uri": "https://localhost:8080/"
        },
        "id": "HK-KpgjVGXT2",
        "outputId": "6e07be92-f796-4b8c-cc13-ff0d33497497"
      },
      "source": [
        "b8 = np.array([[990],\n",
        "              [990]])\n",
        "np.hstack([b7, b8]) # horizontally stack the arrays"
      ],
      "execution_count": null,
      "outputs": [
        {
          "output_type": "execute_result",
          "data": {
            "text/plain": [
              "array([[  9,   8,   7, 990],\n",
              "       [  6,   5,   4, 990]])"
            ]
          },
          "metadata": {
            "tags": []
          },
          "execution_count": 88
        }
      ]
    },
    {
      "cell_type": "markdown",
      "metadata": {
        "id": "t1OhKOQfEzMl"
      },
      "source": [
        "## Q6: Swap columns 1 and 2 in the array x\n",
        "- **Input** x = np.arange(9).reshape(3,3)"
      ]
    },
    {
      "cell_type": "code",
      "metadata": {
        "colab": {
          "base_uri": "https://localhost:8080/"
        },
        "id": "NlQ9dyHrFQqK",
        "outputId": "6690656e-b7be-4a5c-b6a0-f6be3a5f026f"
      },
      "source": [
        "x = np.arange(9).reshape(3,3)\n",
        "x[:, [1,0,2]]"
      ],
      "execution_count": null,
      "outputs": [
        {
          "output_type": "execute_result",
          "data": {
            "text/plain": [
              "array([[1, 0, 2],\n",
              "       [4, 3, 5],\n",
              "       [7, 6, 8]])"
            ]
          },
          "metadata": {
            "tags": []
          },
          "execution_count": 29
        }
      ]
    },
    {
      "cell_type": "markdown",
      "metadata": {
        "id": "EZB9Wi9hFsAE"
      },
      "source": [
        "## Q7:  Reverse the rows of a 2D array x\n",
        "- **Input** x=np.arange(9).reshape(3,3)"
      ]
    },
    {
      "cell_type": "code",
      "metadata": {
        "colab": {
          "base_uri": "https://localhost:8080/"
        },
        "id": "golBy-reF4BT",
        "outputId": "23355dbd-3bed-4a8d-b554-7c4597a83185"
      },
      "source": [
        "x=np.arange(9).reshape(3,3)\n",
        "y=x[::-1]\n",
        "print(y)"
      ],
      "execution_count": null,
      "outputs": [
        {
          "output_type": "stream",
          "text": [
            "[[6 7 8]\n",
            " [3 4 5]\n",
            " [0 1 2]]\n"
          ],
          "name": "stdout"
        }
      ]
    },
    {
      "cell_type": "markdown",
      "metadata": {
        "id": "yc-wGGQxGxqo"
      },
      "source": [
        "## Array Splitting\n"
      ]
    },
    {
      "cell_type": "code",
      "metadata": {
        "colab": {
          "base_uri": "https://localhost:8080/"
        },
        "id": "F7rkdaJFGsC3",
        "outputId": "7549cd1b-7382-4823-9d5a-49770f80af25"
      },
      "source": [
        "c1 = [1, 2, 3, 4, 5, 990, 990, 3, 2, 1]\n",
        "c2, c3, c4 = np.split(c1, [5, 7]) # N split-points, leads to N + 1 subarrays.\n",
        "print(c2, c3, c4)"
      ],
      "execution_count": null,
      "outputs": [
        {
          "output_type": "stream",
          "text": [
            "[1 2 3 4 5] [990 990] [3 2 1]\n"
          ],
          "name": "stdout"
        }
      ]
    },
    {
      "cell_type": "code",
      "metadata": {
        "colab": {
          "base_uri": "https://localhost:8080/"
        },
        "id": "rWzPur8TINrj",
        "outputId": "738880e8-d14e-439d-eb2d-9eeca224b9bf"
      },
      "source": [
        "c5 = np.arange(25).reshape((5, 5))\n",
        "print(c5)"
      ],
      "execution_count": null,
      "outputs": [
        {
          "output_type": "stream",
          "text": [
            "[[ 0  1  2  3  4]\n",
            " [ 5  6  7  8  9]\n",
            " [10 11 12 13 14]\n",
            " [15 16 17 18 19]\n",
            " [20 21 22 23 24]]\n"
          ],
          "name": "stdout"
        }
      ]
    },
    {
      "cell_type": "code",
      "metadata": {
        "colab": {
          "base_uri": "https://localhost:8080/"
        },
        "id": "Xus3nfUWIZPC",
        "outputId": "12a19c36-f448-4ec7-c87e-0584fa515ffd"
      },
      "source": [
        "c6, c7 = np.vsplit(c5, [2]) # vertical split\n",
        "print(c6)\n",
        "print(c7)"
      ],
      "execution_count": null,
      "outputs": [
        {
          "output_type": "stream",
          "text": [
            "[[0 1 2 3 4]\n",
            " [5 6 7 8 9]]\n",
            "[[10 11 12 13 14]\n",
            " [15 16 17 18 19]\n",
            " [20 21 22 23 24]]\n"
          ],
          "name": "stdout"
        }
      ]
    },
    {
      "cell_type": "code",
      "metadata": {
        "colab": {
          "base_uri": "https://localhost:8080/"
        },
        "id": "SEZlFt_uIrnC",
        "outputId": "b9cf2929-4c1c-4731-ef96-7d13361384db"
      },
      "source": [
        "c8, c9 = np.vsplit(c5, [2]) # vertical split\n",
        "print(c8)\n",
        "print(c9)"
      ],
      "execution_count": null,
      "outputs": [
        {
          "output_type": "stream",
          "text": [
            "[[0 1 2 3 4]\n",
            " [5 6 7 8 9]]\n",
            "[[10 11 12 13 14]\n",
            " [15 16 17 18 19]\n",
            " [20 21 22 23 24]]\n"
          ],
          "name": "stdout"
        }
      ]
    }
  ]
}