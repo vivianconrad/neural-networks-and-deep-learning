{
  "nbformat": 4,
  "nbformat_minor": 0,
  "metadata": {
    "colab": {
      "name": "CO_Assignment_3_Part_3_Solution.ipynb",
      "provenance": [],
      "collapsed_sections": []
    },
    "kernelspec": {
      "name": "python3",
      "display_name": "Python 3"
    }
  },
  "cells": [
    {
      "cell_type": "markdown",
      "metadata": {
        "id": "UX2IkvQgN0EZ"
      },
      "source": [
        "## Question - 1\n",
        "Write Python code that does the following. \n",
        "\n",
        "- Create a function: **two_bit_comparator()**, Input: **input_value_a**, **input_value_b** where input_value_a and input_value_b should be unsigned two bit binary value. This function should COMPARE the two bits and return the appropraite value, Here the output should be a three bit binary value where LSB signifies that input_a is greater than input_b, MSB signifies that input_b is greater than input_a and the Middle bit signifies that input_a is equal to input_b.\n",
        "\n",
        "    - Ex: input_value_a = 10, input_value_b = 00 then input_value_a COMPARED with input_value_b would result in output_value = 100 (Here MSB is 1 and rest are 0 signifying that input_value_a is greater than input_value_b\n",
        "    - Ex: input_value_a = 01, input_value_b = 10 then input_value_a COMPARED with input_value_b would result in output_value = 001 (Here MSB is 1 and rest are 0 signifying that input_value_b is greater than input_value_a\n",
        "    - Ex: input_value_a = 01, input_value_b = 01 then input_value_a COMPARED with input_value_b would result in output_value = 010 (Here Middle bit is 1 and rest are 0 signifying that input_value_a is greater than input_value_b\n",
        "\n",
        "**Conditions to follow:**\n",
        "- The output should be a string format similar to test cases mentioned below\n",
        "- **IMPORTANT: You cannot use any Python [mathematical operators](https://www.w3schools.com/python/gloss_python_arithmetic_operators.asp) in your solution.**\n",
        "- Inbuilt functions which require no import and Datatype methods can be used to solve this problem but No arbitray functions or library can be used.\n",
        "- No other function name can be defined/declared than the ones asked to be declared in any of the questions presented in this notebook. \n",
        "- The code you write should pass all the test cases given. \n",
        "\n",
        "\n",
        "---\n",
        "\n",
        "TEST CASES:\n",
        "\n",
        "```\n",
        "Input A: 11 COMPARED with Input B: 00 is 100\n",
        "\n",
        "Input A: 10 COMPARED with Input B: 10 is 010\n",
        "\n",
        "Input A: 00 COMPARED with Input B: 11 is 001\n",
        "\n",
        "Input A: 10 COMPARED with Input B: 01 is 100\n",
        "```\n",
        "---\n",
        "\n",
        "Hint: You can use built in methods and data type/string methods to create the solution to solve this problem. Consider using logic gates from above solutions and solving the k-map equation using those gates for a two bit comparator \n"
      ]
    },
    {
      "cell_type": "markdown",
      "metadata": {
        "id": "9Bt0n4fAN0Ef"
      },
      "source": [
        "### Code"
      ]
    },
    {
      "cell_type": "code",
      "metadata": {
        "id": "m-ZK0sT2N0Ei"
      },
      "source": [
        "# DECLARE the function two_bit_comparator()\n",
        "def two_bit_comparator(input_value_a, input_value_b):\n",
        "    # write code here\n",
        "\n",
        "### TEST CASES ###\n",
        "\n",
        "# Initialize the input values\n",
        "input_value_tuple_list = [('11', '00'), ('10', '10'), ('00', '11'), ('10', '01')]\n",
        "for input_value_a, input_value_b in input_value_tuple_list:\n",
        "    # CALL the two_bit_comparator with required parameters\n",
        "    output_value = two_bit_comparator(input_value_a=input_value_a, input_value_b=input_value_b)\n",
        "    # Print the output\n",
        "    print(\"Input A: {0} COMPARED with Input B: {1} is {2}\\n\".format(input_value_a, input_value_b, output_value))"
      ],
      "execution_count": null,
      "outputs": []
    },
    {
      "cell_type": "markdown",
      "metadata": {
        "id": "Tq5Q_pIJN0Ek"
      },
      "source": [
        "### Solution"
      ]
    },
    {
      "cell_type": "code",
      "source": [
        "# DECLARE the function and_gate()\n",
        "def and_gate(input_value_a, input_value_b):\n",
        "    # We will add zeros to the MSB if the length is less than 4\n",
        "    input_value_a = input_value_a.zfill(4)\n",
        "    input_value_b = input_value_b.zfill(4)\n",
        "    # Initialize the output_value_list\n",
        "    output_value_list = []\n",
        "    # Iterate over both input, bit by bit\n",
        "    for bit_a, bit_b in zip(input_value_a, input_value_b):\n",
        "        # AND GATE output is 1 only when both inputs are 1 and 0 otherwise\n",
        "        output_value_list.append('1' if (bit_a == '1') and (bit_b == '1') else '0')\n",
        "    # Return the output value as string        \n",
        "    return \"\".join(output_value_list)\n",
        "\n",
        "# DECLARE the function or_gate()\n",
        "def or_gate(input_value_a, input_value_b):\n",
        "    # We will add zeros to the MSB if the length is less than 4\n",
        "    input_value_a = input_value_a.zfill(4)\n",
        "    input_value_b = input_value_b.zfill(4)\n",
        "    # Initialize the output_value_list\n",
        "    output_value_list = []\n",
        "    # Iterate over both input, bit by bit\n",
        "    for bit_a, bit_b in zip(input_value_a, input_value_b):\n",
        "        # OR GATE output is 1 only when either inputs are 1 and 0 otherwise\n",
        "        output_value_list.append('1' if (bit_a == '1') or (bit_b == '1') else '0')\n",
        "    # Return the output value as string        \n",
        "    return \"\".join(output_value_list)\n",
        "\n",
        "# DECLARE the function xor_gate()\n",
        "def xor_gate(input_value_a, input_value_b):\n",
        "    # We will add zeros to the MSB if the length is less than 4\n",
        "    input_value_a = input_value_a.zfill(4)\n",
        "    input_value_b = input_value_b.zfill(4)\n",
        "    # Initialize the output_value_list\n",
        "    output_value_list = []\n",
        "    # Iterate over both input, bit by bit\n",
        "    for bit_a, bit_b in zip(input_value_a, input_value_b):\n",
        "        # XOR GATE output is 1 only when both inputs are not equal to each other and 0 otherwise\n",
        "        output_value_list.append('1' if (bit_a != bit_b) else '0')\n",
        "    # Return the output value as string        \n",
        "    return \"\".join(output_value_list)\n",
        "\n",
        "# DECLARE the function not_gate()\n",
        "def not_gate(input_value):\n",
        "    # Switch the places of 1 and 0 in the input value string\n",
        "    input_value = input_value.replace('1', 'X').replace('0', '1').replace('X', '0')\n",
        "    # Return the output value as string        \n",
        "    return input_value\n",
        "\n",
        "### TEST CASES ###\n",
        "\n",
        "# Initialize the input values\n",
        "input_value_tuple_list = [('01', '1111'), ('1010', '101')]\n",
        "for input_value_a, input_value_b in input_value_tuple_list:\n",
        "        # CALL the and_gate with required parameters\n",
        "    and_gate_output_value = and_gate(input_value_a=input_value_a, input_value_b=input_value_b)\n",
        "    # CALL the or_gate with required parameters\n",
        "    or_gate_output_value = or_gate(input_value_a=input_value_a, input_value_b=input_value_b)\n",
        "    # CALL the xor_gate with required parameters\n",
        "    xor_gate_output_value = xor_gate(input_value_a=input_value_a, input_value_b=input_value_b)\n",
        "    # CALL the not_gate with required parameters\n",
        "    not_gate_a_output_value = not_gate(input_value=input_value_a)\n",
        "    not_gate_b_output_value = not_gate(input_value=input_value_b)\n",
        "    # Print the output\n",
        "    print(\"Input A: {0} AND Input B: {1} is {2}\\n\".format(input_value_a, input_value_b, and_gate_output_value))\n",
        "    print(\"Input A: {0} OR Input B: {1} is {2}\\n\".format(input_value_a, input_value_b, or_gate_output_value))\n",
        "    print(\"Input A: {0} XOR Input B: {1} is {2}\\n\".format(input_value_a, input_value_b, xor_gate_output_value))\n",
        "    print(\"Input A: {0} NOT is {2}, Input B: {1} NOT is {3}\\n\".format(input_value_a, input_value_b, not_gate_a_output_value, not_gate_b_output_value))"
      ],
      "metadata": {
        "colab": {
          "base_uri": "https://localhost:8080/"
        },
        "id": "7eOLYYpO9p3j",
        "outputId": "c35b66d9-61d8-4441-d5b1-3cd18af844d0"
      },
      "execution_count": 2,
      "outputs": [
        {
          "output_type": "stream",
          "name": "stdout",
          "text": [
            "Input A: 01 AND Input B: 1111 is 0001\n",
            "\n",
            "Input A: 01 OR Input B: 1111 is 1111\n",
            "\n",
            "Input A: 01 XOR Input B: 1111 is 1110\n",
            "\n",
            "Input A: 01 NOT is 10, Input B: 1111 NOT is 0000\n",
            "\n",
            "Input A: 1010 AND Input B: 101 is 0000\n",
            "\n",
            "Input A: 1010 OR Input B: 101 is 1111\n",
            "\n",
            "Input A: 1010 XOR Input B: 101 is 1111\n",
            "\n",
            "Input A: 1010 NOT is 0101, Input B: 101 NOT is 010\n",
            "\n"
          ]
        }
      ]
    },
    {
      "cell_type": "code",
      "metadata": {
        "colab": {
          "base_uri": "https://localhost:8080/"
        },
        "id": "-A8TGEeDN0Em",
        "outputId": "a4060479-7bf8-4036-f9e4-28ca1d972d8a"
      },
      "source": [
        "# DECLARE the function two_bit_comparator()\n",
        "def two_bit_comparator(input_value_a, input_value_b):\n",
        "    a_greater_than_b = '0'\n",
        "    a_equal_to_b = '0'\n",
        "    a_lesser_than_b = '0'\n",
        "    a2, a1 = input_value_a\n",
        "    b2, b1 = input_value_b\n",
        "    # We will get all the formulas once we solve the k-map\n",
        "    # A > B = ~B2.A2 + ~B1.A2.A1 + ~B2.~B1.A1\n",
        "    # ~B2.A2\n",
        "    part_1 = and_gate(not_gate(b2), a2)[-1]\n",
        "    # ~B1.A2.A1\n",
        "    part_2 = and_gate(and_gate(not_gate(b1), a2)[-1], a1)[-1]\n",
        "    # ~B2.~B1.A1\n",
        "    part_3 = and_gate(and_gate(not_gate(b2), not_gate(b1))[-1], a1)[-1]\n",
        "    a_greater_than_b = or_gate(or_gate(part_1, part_2)[-1], part_3)[-1]\n",
        "    # A = B = (A2 XNOR B2) . (A1 XNOR B1)\n",
        "    # (A2 XNOR B2)\n",
        "    part_1 = not_gate(xor_gate(a2, b2)[-1])\n",
        "    # (A1 XNOR B1)\n",
        "    part_2 = not_gate(xor_gate(a1, b1)[-1])\n",
        "    a_equal_to_b = and_gate(part_1, part_2)[-1]\n",
        "    # A > B = B2.~A2 + B1.~A2.~A1 + B2.B1.~A1\n",
        "    # B2.~A2\n",
        "    part_1 = and_gate(b2, not_gate(a2))[-1]\n",
        "    # B1.~A2.~A1\n",
        "    part_2 = and_gate(and_gate(b1, not_gate(a2))[-1], not_gate(a1))[-1]\n",
        "    # B2.B1.~A1\n",
        "    part_3 = and_gate(and_gate(b2, b1)[-1], not_gate(a1))[-1]\n",
        "    a_lesser_than_b = or_gate(or_gate(part_1, part_2)[-1], part_3)[-1]\n",
        "    return f\"{a_greater_than_b}{a_equal_to_b}{a_lesser_than_b}\"\n",
        "\n",
        "### TEST CASES ###\n",
        "\n",
        "# Initialize the input values\n",
        "input_value_tuple_list = [('11', '00'), ('10', '10'), ('00', '11'), ('10', '01')]\n",
        "for input_value_a, input_value_b in input_value_tuple_list:\n",
        "    # CALL the two_bit_comparator with required parameters\n",
        "    output_value = two_bit_comparator(input_value_a=input_value_a, input_value_b=input_value_b)\n",
        "    # Print the output\n",
        "    print(\"Input A: {0} COMPARED with Input B: {1} is {2}\\n\".format(input_value_a, input_value_b, output_value))"
      ],
      "execution_count": 3,
      "outputs": [
        {
          "output_type": "stream",
          "name": "stdout",
          "text": [
            "Input A: 11 COMPARED with Input B: 00 is 100\n",
            "\n",
            "Input A: 10 COMPARED with Input B: 10 is 010\n",
            "\n",
            "Input A: 00 COMPARED with Input B: 11 is 001\n",
            "\n",
            "Input A: 10 COMPARED with Input B: 01 is 100\n",
            "\n"
          ]
        }
      ]
    },
    {
      "cell_type": "markdown",
      "metadata": {
        "id": "tP4KmSnb4PTU"
      },
      "source": [
        "## Question - 2\n",
        "Write Python code that does the following. \n",
        "\n",
        "- Create the following functions, that will return the appropriate response as mentioned below for a given input bit.\n",
        "    - function: **n_bit_left_shifter()**, Input: **input_value**, **n**. **input_value** where input_value will be unsigned n bit binary value and **n** will be an integer value which is the number of bits we want to left shift the input_value. This function should return the appropraite value as applied by LEFT SHIFT operation on the respective input_value bits\n",
        "        - Ex: input_value = 1110, n = 2 then input_value LEFT SHIFT by n bits would result in output_value = 1000\n",
        "        - Ex: input_value = 1001, n = 3 then input_value LEFT SHIFT by n bits would result in output_value = 0100\n",
        "    - function: **n_bit_right_shifter()**, Input: **input_value**, **input_value** where input_value will be unsigned n bit binary value and n will be the number of bits we want to right shift the input_value. This function should return the appropraite value as applied by RIGHT SHIFT operation on the respective input_value bits\n",
        "        - Ex: input_value = 1110, n = 2 then input_value RIGHT SHIFT by n bits would result in output_value = 0011\n",
        "        - Ex: input_value = 1001, n = 3 then input_value RIGHT SHIFT by n bits would result in output_value = 0001\n",
        "\n",
        "**Conditions to follow:**\n",
        "- The output should be a string format similar to test cases mentioned below\n",
        "- Inbuilt functions which require no import and Datatype methods can be used to solve this problem but No arbitray functions or library can be used.\n",
        "- No other function name can be defined/declared than the ones asked to be declared in any of the questions presented in this notebook. \n",
        "- The code you write should pass all the test cases given. \n",
        "\n",
        "\n",
        "---\n",
        "\n",
        "TEST CASES:\n",
        "\n",
        "```\n",
        "Input: 1010 when LEFT SHIFTED by N: 3 bits is 0000\n",
        "\n",
        "Input: 1010 when RIGHT SHIFTED by N: 3 bits is 0001\n",
        "\n",
        "Input: 101110 when LEFT SHIFTED by N: 4 bits is 100000\n",
        "\n",
        "Input: 101110 when RIGHT SHIFTED by N: 4 bits is 000010\n",
        "\n",
        "Input: 1111 when LEFT SHIFTED by N: 3 bits is 1000\n",
        "\n",
        "Input: 1111 when RIGHT SHIFTED by N: 3 bits is 0001\n",
        "```\n",
        "---\n",
        "\n",
        "Hint: You can use built in methods and data type/string methods to create the solution, Consider list slicing to achieve the solution."
      ]
    },
    {
      "cell_type": "markdown",
      "metadata": {
        "id": "OpXXyIBN4PTY"
      },
      "source": [
        "### Code"
      ]
    },
    {
      "cell_type": "code",
      "metadata": {
        "id": "yZxqrLRO4PTc"
      },
      "source": [
        "# DECLARE the function n_bit_left_shifter()\n",
        "def n_bit_left_shifter(input_value, n):\n",
        "    # write code here\n",
        "\n",
        "# DECLARE the function n_bit_right_shifter()\n",
        "def n_bit_right_shifter(input_value, n):\n",
        "    # write code here\n",
        "\n",
        "### TEST CASES ###\n",
        "\n",
        "# Initialize the input values\n",
        "input_value_tuple_list = [('10101', 2), ('10100', 1), ('01011', 4), ('111011', 5)]\n",
        "for input_value, n in input_value_tuple_list:\n",
        "    # CALL the n_bit_left_shifter with required parameters\n",
        "    left_shift_output_value = n_bit_left_shifter(input_value=input_value, n=n)\n",
        "    # CALL the n_bit_right_shifter with required parameters\n",
        "    right_shift_output_value = n_bit_right_shifter(input_value=input_value, n=n)\n",
        "    # Print the output\n",
        "    print(\"Input: {0} when LEFT SHIFTED by N: {1} bits is {2}\\n\".format(input_value, n, left_shift_output_value))\n",
        "    print(\"Input: {0} when RIGHT SHIFTED by N: {1} bits is {2}\\n\".format(input_value, n, right_shift_output_value))"
      ],
      "execution_count": null,
      "outputs": []
    },
    {
      "cell_type": "markdown",
      "metadata": {
        "id": "fzk2hksT4PTf"
      },
      "source": [
        "### Solution"
      ]
    },
    {
      "cell_type": "code",
      "metadata": {
        "colab": {
          "base_uri": "https://localhost:8080/"
        },
        "id": "QhGwZTQW4PTh",
        "outputId": "c4c188d2-58ee-4d48-ce9f-44ec00aa2e81"
      },
      "source": [
        "# DECLARE the function n_bit_left_shifter()\n",
        "def n_bit_left_shifter(input_value, n):\n",
        "    output_value = \"\"\n",
        "    n = int(n)\n",
        "    len_input_value = len(input_value)\n",
        "    if n >= len_input_value:\n",
        "        output_value = \"0\" * len_input_value\n",
        "    else:\n",
        "        output_value = input_value[n:] + \"0\" * n\n",
        "    return output_value\n",
        "\n",
        "# DECLARE the function n_bit_right_shifter()\n",
        "def n_bit_right_shifter(input_value, n):\n",
        "    output_value = \"\"\n",
        "    n = int(n)\n",
        "    len_input_value = len(input_value)\n",
        "    if n >= len_input_value:\n",
        "        output_value = \"0\" * len_input_value\n",
        "    else:\n",
        "        output_value = \"0\" * n + input_value[:(len_input_value - n)]\n",
        "    return output_value\n",
        "\n",
        "### TEST CASES ###\n",
        "\n",
        "# Initialize the input values\n",
        "input_value_tuple_list = [('10101', 2), ('10100', 1), ('01011', 4), ('111011', 5)]\n",
        "for input_value, n in input_value_tuple_list:\n",
        "    # CALL the n_bit_left_shifter with required parameters\n",
        "    left_shift_output_value = n_bit_left_shifter(input_value=input_value, n=n)\n",
        "    # CALL the n_bit_right_shifter with required parameters\n",
        "    right_shift_output_value = n_bit_right_shifter(input_value=input_value, n=n)\n",
        "    # Print the output\n",
        "    print(\"Input: {0} when LEFT SHIFTED by N: {1} bits is {2}\\n\".format(input_value, n, left_shift_output_value))\n",
        "    print(\"Input: {0} when RIGHT SHIFTED by N: {1} bits is {2}\\n\".format(input_value, n, right_shift_output_value))"
      ],
      "execution_count": 4,
      "outputs": [
        {
          "output_type": "stream",
          "name": "stdout",
          "text": [
            "Input: 10101 when LEFT SHIFTED by N: 2 bits is 10100\n",
            "\n",
            "Input: 10101 when RIGHT SHIFTED by N: 2 bits is 00101\n",
            "\n",
            "Input: 10100 when LEFT SHIFTED by N: 1 bits is 01000\n",
            "\n",
            "Input: 10100 when RIGHT SHIFTED by N: 1 bits is 01010\n",
            "\n",
            "Input: 01011 when LEFT SHIFTED by N: 4 bits is 10000\n",
            "\n",
            "Input: 01011 when RIGHT SHIFTED by N: 4 bits is 00000\n",
            "\n",
            "Input: 111011 when LEFT SHIFTED by N: 5 bits is 100000\n",
            "\n",
            "Input: 111011 when RIGHT SHIFTED by N: 5 bits is 000001\n",
            "\n"
          ]
        }
      ]
    },
    {
      "cell_type": "markdown",
      "metadata": {
        "id": "SXU9Osq04PTt"
      },
      "source": [
        "## Question - 3\n",
        "Write Python code that does the following. \n",
        "\n",
        "- Create a function: **logical_alu()**, Input: **opcode**, **input_value_a**, **input_value_b**, **n** where input_value_a and input_value_b should be unsigned n bit binary value based on the opcode which is a strictly a 3 bit binary value and n is an integer. This function should perform the operations for the respective opcodes.\n",
        "    - When opcode is of value 1 (001) then we perform AND GATE operation on the input_a and input_b values\n",
        "    - When opcode is of value 2 (010) then we perform OR GATE operation on the input_a and input_b values\n",
        "    - When opcode is of value 3 (011) then we perform XOR GATE operation on the input_a and input_b values\n",
        "    - When opcode is of value 4 (100) then we perform FOUR BIT UNSIGNED ADDITION operation on the input_a and input_b values\n",
        "    - When opcode is of value 5 (101) then we perform TWO BIT COMPARISON  operation on the input_a and input_b values\n",
        "    - When opcode is of value 6 (110) then we perform N BIT LEFT SHIFT operation on the input_a values by n bits\n",
        "    - When opcode is of value 6 (110) then we perform N BIT RIGHT SHIFT operation on the input_a values by n bits\n",
        "\n",
        "**Conditions to follow:**\n",
        "- The output should be a string format similar to test cases mentioned below\n",
        "- Inbuilt functions which require no import and Datatype methods can be used to solve this problem but No arbitray functions or library can be used.\n",
        "- No other function name can be defined/declared than the ones asked to be declared in any of the questions presented in this notebook. \n",
        "- The code you write should pass all the test cases given. \n",
        "\n",
        "\n",
        "---\n",
        "\n",
        "TEST CASES:\n",
        "\n",
        "```\n",
        "Input A: 1101, Input B: 1001 for opcode: 001 is 1001\n",
        "\n",
        "Input A: 101, Input B: 0011 for opcode: 010 is 0111\n",
        "\n",
        "Input A: 0101, Input B: 1101 for opcode: 011 is 1000\n",
        "\n",
        "Input A: 001, Input B: 1101 for opcode: 100 is 1110\n",
        "\n",
        "Input A: 10, Input B: 01 for opcode: 101 is 100\n",
        "\n",
        "Input A: 11101 with n: 3 for opcode: 110 is 01000\n",
        "\n",
        "Input A: 11101010 with n: 4 for opcode: 111 is 00001110\n",
        "```\n",
        "---\n",
        "\n",
        "Hint: You can use built in methods and data type/string methods to create the solution to solve this problem. Consider using the logic you have coded so far and converting the opcode to base 10 for easier handling."
      ]
    },
    {
      "cell_type": "markdown",
      "metadata": {
        "id": "H7yAya8h4PTw"
      },
      "source": [
        "### Code"
      ]
    },
    {
      "cell_type": "code",
      "metadata": {
        "id": "EpBs2x6u4PT4"
      },
      "source": [
        "# DECLARE the function logical_alu()\n",
        "def logical_alu(opcode, input_value_a=\"0000\", input_value_b=\"0000\", n=0):\n",
        "    # write code here\n",
        "\n",
        "### TEST CASES ###\n",
        "\n",
        "# Initialize the input values\n",
        "input_value_tuple_list = [('1101', '1001', None, '001'),('101', '0011', None, '010'),('0101', '1101', None, '011'),('001', '1101', None, '100'),('10', '01', None, '101'),('11101', '', 3, '110'),('11101010', '', 4, '111')]\n",
        "for input_value_a, input_value_b, n, opcode in input_value_tuple_list:\n",
        "    # CALL the logical_alu with required parameters\n",
        "    output_value = logical_alu(opcode=opcode, input_value_a=input_value_a, input_value_b=input_value_b, n=n)\n",
        "    # Print the output\n",
        "    if input_value_b:\n",
        "        print(\"Input A: {0}, Input B: {1} for opcode: {2} is {3}\\n\".format(input_value_a, input_value_b, opcode, output_value))\n",
        "    elif n:\n",
        "        print(\"Input A: {0} with n: {1} for opcode: {2} is {3}\\n\".format(input_value_a, n, opcode, output_value))"
      ],
      "execution_count": null,
      "outputs": []
    },
    {
      "cell_type": "markdown",
      "metadata": {
        "id": "uWLlHt6P4PT6"
      },
      "source": [
        "### Solution"
      ]
    },
    {
      "cell_type": "code",
      "source": [
        "# DECLARE the function four_bit_unsigned_adder()\n",
        "def four_bit_unsigned_adder(input_value_a, input_value_b):\n",
        "    # We will use a 4-bit parallel adder logic\n",
        "    input_value_a = input_value_a.zfill(4)\n",
        "    input_value_b = input_value_b.zfill(4)\n",
        "    # Initialize the output_value_list\n",
        "    output_value_list = []\n",
        "    # Initialize the carry from each addition which is initally 0\n",
        "    carry = '0'\n",
        "    # Iterate over each bit and add them, We need to start operating from LSB to MSB\n",
        "    for bit_a, bit_b in zip(input_value_a[::-1], input_value_b[::-1]):\n",
        "        # SUM = A XOR B XOR Ci\n",
        "        sum = xor_gate(xor_gate(bit_a, bit_b)[-1], carry)[-1]\n",
        "        # Insert Sum at MSB\n",
        "        output_value_list.insert(0, sum)\n",
        "        # CARRY = A.B + B.C + C.A\n",
        "        a_and_b, b_and_c, c_and_a = and_gate(bit_a, bit_b)[-1], and_gate(bit_b, carry)[-1], and_gate(carry, bit_a)[-1]\n",
        "        carry = or_gate(or_gate(a_and_b, b_and_c)[-1], c_and_a)[-1]\n",
        "    # Add the carry bit to the MSB\n",
        "    output_value_list.insert(0, carry)\n",
        "    # Return the output value as string\n",
        "    return \"\".join(output_value_list).lstrip('0')\n",
        "\n",
        "### TEST CASES ###\n",
        "\n",
        "# Initialize the input values\n",
        "input_value_tuple_list = [('1000', '01'), ('1010', '0101'), ('1110', '0111'), ('010', '111')]\n",
        "for input_value_a, input_value_b in input_value_tuple_list:\n",
        "    # CALL the four_bit_unsigned_adder with required parameters\n",
        "    output_value = four_bit_unsigned_adder(input_value_a=input_value_a, input_value_b=input_value_b)\n",
        "    # Print the output\n",
        "    print(\"Input A: {0} ADDED Input B: {1} is {2}\\n\".format(input_value_a, input_value_b, output_value))"
      ],
      "metadata": {
        "colab": {
          "base_uri": "https://localhost:8080/"
        },
        "id": "hudCezAf-B0g",
        "outputId": "1a5576fb-74f1-430d-85b3-fe7da73e5ca6"
      },
      "execution_count": 7,
      "outputs": [
        {
          "output_type": "stream",
          "name": "stdout",
          "text": [
            "Input A: 1000 ADDED Input B: 01 is 1001\n",
            "\n",
            "Input A: 1010 ADDED Input B: 0101 is 1111\n",
            "\n",
            "Input A: 1110 ADDED Input B: 0111 is 10101\n",
            "\n",
            "Input A: 010 ADDED Input B: 111 is 1001\n",
            "\n"
          ]
        }
      ]
    },
    {
      "cell_type": "code",
      "source": [
        "# DECLARE the function four_bit_unsigned_subtractor()\n",
        "def four_bit_unsigned_subtractor(input_value_a, input_value_b):\n",
        "    # We will use a 4-bit parallel adder logic\n",
        "    input_value_a = input_value_a.zfill(4)\n",
        "    input_value_b = input_value_b.zfill(4)\n",
        "    # We will create 1's compliment of the input_value_b using by using XOR gate on each bit with 1\n",
        "    input_value_b = \"\".join([xor_gate(bit_b, '1')[-1] for bit_b in input_value_b])\n",
        "    # Initialize the output_value_list\n",
        "    output_value_list = []\n",
        "    # Initialize the carry from each addition which is initally 1 which should make the input_value_b into 2's compliment\n",
        "    carry = '1'\n",
        "    # Iterate over each bit and add them, We need to start operating from LSB to MSB\n",
        "    for bit_a, bit_b in zip(input_value_a[::-1], input_value_b[::-1]):\n",
        "        # SUM = A XOR B XOR Ci\n",
        "        sum = xor_gate(xor_gate(bit_a, bit_b)[-1], carry)[-1]\n",
        "        # Insert Sum at MSB\n",
        "        output_value_list.insert(0, sum)\n",
        "        # CARRY = A.B + B.C + C.A\n",
        "        a_and_b, b_and_c, c_and_a = and_gate(bit_a, bit_b)[-1], and_gate(bit_b, carry)[-1], and_gate(carry, bit_a)[-1]\n",
        "        carry = or_gate(or_gate(a_and_b, b_and_c)[-1], c_and_a)[-1]\n",
        "    if carry == '0':\n",
        "        output_value_list = [xor_gate(output_bit, '1')[-1] for output_bit in output_value_list]\n",
        "        output_value_list = list(four_bit_unsigned_adder(input_value_a=\"\".join(output_value_list), input_value_b='1')[-4:])\n",
        "        output_value_list.insert(0, '-')\n",
        "    else:\n",
        "        output_value_list.insert(0, '+')\n",
        "    # Return the output value as string\n",
        "    return \"\".join(output_value_list)\n",
        "\n",
        "### TEST CASES ###\n",
        "\n",
        "# Initialize the input values\n",
        "input_value_tuple_list = [('111', '010'), ('1010', '0101'), ('1110', '0111'), ('010', '111')]\n",
        "for input_value_a, input_value_b in input_value_tuple_list:\n",
        "    # CALL the four_bit_unsigned_subtractor with required parameters\n",
        "    output_value = four_bit_unsigned_subtractor(input_value_a=input_value_a, input_value_b=input_value_b)\n",
        "    # Print the output\n",
        "    print(\"Input A: {0} SUBTRACTED Input B: {1} is {2}\\n\".format(input_value_a, input_value_b, output_value))"
      ],
      "metadata": {
        "colab": {
          "base_uri": "https://localhost:8080/"
        },
        "id": "QrD4PkGF9_7V",
        "outputId": "accb42a7-633b-448f-a24a-d4b870446c2f"
      },
      "execution_count": 8,
      "outputs": [
        {
          "output_type": "stream",
          "name": "stdout",
          "text": [
            "Input A: 111 SUBTRACTED Input B: 010 is +0101\n",
            "\n",
            "Input A: 1010 SUBTRACTED Input B: 0101 is +0101\n",
            "\n",
            "Input A: 1110 SUBTRACTED Input B: 0111 is +0111\n",
            "\n",
            "Input A: 010 SUBTRACTED Input B: 111 is -101\n",
            "\n"
          ]
        }
      ]
    },
    {
      "cell_type": "code",
      "metadata": {
        "colab": {
          "base_uri": "https://localhost:8080/"
        },
        "id": "UGNemmqo4PT7",
        "outputId": "f43b1b02-f295-4c62-f0b9-0beaf36fbcc0"
      },
      "source": [
        "# DECLARE the function logical_alu()\n",
        "def logical_alu(opcode, input_value_a=\"0000\", input_value_b=\"0000\", n=0):\n",
        "    output_value = \"\"\n",
        "    opcode_in_base_10 = int(opcode, 2)\n",
        "    if opcode_in_base_10 == 1:\n",
        "        output_value = and_gate(input_value_a, input_value_b)\n",
        "    elif opcode_in_base_10 == 2:\n",
        "        output_value = or_gate(input_value_a, input_value_b)\n",
        "    elif opcode_in_base_10 == 3:\n",
        "        output_value = xor_gate(input_value_a, input_value_b)\n",
        "    elif opcode_in_base_10 == 4:\n",
        "        output_value = four_bit_unsigned_adder(input_value_a, input_value_b)\n",
        "    elif opcode_in_base_10 == 5:\n",
        "        output_value = two_bit_comparator(input_value_a[:2], input_value_b[:2])\n",
        "    elif opcode_in_base_10 == 6:\n",
        "        output_value = n_bit_left_shifter(input_value_a, n)\n",
        "    elif opcode_in_base_10 == 7:\n",
        "        output_value = n_bit_right_shifter(input_value_a, n)\n",
        "    return output_value\n",
        "\n",
        "### TEST CASES ###\n",
        "\n",
        "# Initialize the input values\n",
        "input_value_tuple_list = [('1101', '1001', None, '001'),('101', '0011', None, '010'),('0101', '1101', None, '011'),('001', '1101', None, '100'),('10', '01', None, '101'),('11101', '', 3, '110'),('11101010', '', 4, '111')]\n",
        "for input_value_a, input_value_b, n, opcode in input_value_tuple_list:\n",
        "    # CALL the logical_alu with required parameters\n",
        "    output_value = logical_alu(opcode=opcode, input_value_a=input_value_a, input_value_b=input_value_b, n=n)\n",
        "    # Print the output\n",
        "    if input_value_b:\n",
        "        print(\"Input A: {0}, Input B: {1} for opcode: {2} is {3}\\n\".format(input_value_a, input_value_b, opcode, output_value))\n",
        "    elif n:\n",
        "        print(\"Input A: {0} with n: {1} for opcode: {2} is {3}\\n\".format(input_value_a, n, opcode, output_value))"
      ],
      "execution_count": 9,
      "outputs": [
        {
          "output_type": "stream",
          "name": "stdout",
          "text": [
            "Input A: 1101, Input B: 1001 for opcode: 001 is 1001\n",
            "\n",
            "Input A: 101, Input B: 0011 for opcode: 010 is 0111\n",
            "\n",
            "Input A: 0101, Input B: 1101 for opcode: 011 is 1000\n",
            "\n",
            "Input A: 001, Input B: 1101 for opcode: 100 is 1110\n",
            "\n",
            "Input A: 10, Input B: 01 for opcode: 101 is 100\n",
            "\n",
            "Input A: 11101 with n: 3 for opcode: 110 is 01000\n",
            "\n",
            "Input A: 11101010 with n: 4 for opcode: 111 is 00001110\n",
            "\n"
          ]
        }
      ]
    }
  ]
}