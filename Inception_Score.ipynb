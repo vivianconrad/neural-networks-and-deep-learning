{
  "nbformat": 4,
  "nbformat_minor": 0,
  "metadata": {
    "colab": {
      "name": "Inception_Score.ipynb",
      "provenance": [],
      "collapsed_sections": [],
      "machine_shape": "hm",
      "include_colab_link": true
    },
    "kernelspec": {
      "name": "python3",
      "display_name": "Python 3"
    },
    "language_info": {
      "name": "python"
    },
    "accelerator": "GPU"
  },
  "cells": [
    {
      "cell_type": "markdown",
      "metadata": {
        "id": "view-in-github",
        "colab_type": "text"
      },
      "source": [
        "<a href=\"https://colab.research.google.com/github/vivianconrad/neural-networks-and-deep-learning/blob/main/Inception_Score.ipynb\" target=\"_parent\"><img src=\"https://colab.research.google.com/assets/colab-badge.svg\" alt=\"Open In Colab\"/></a>"
      ]
    },
    {
      "cell_type": "markdown",
      "metadata": {
        "id": "oleuMW_w-92V"
      },
      "source": [
        "# Inception Score using Keras - CIFAR10 dataset"
      ]
    },
    {
      "cell_type": "code",
      "metadata": {
        "id": "3XTCdRRo-_wU"
      },
      "source": [
        "# calculating inception score for cifar-10 in Keras\n",
        "from math import floor\n",
        "from numpy import expand_dims\n",
        "from numpy import log\n",
        "from numpy import mean\n",
        "from numpy import std\n",
        "from numpy import exp\n",
        "from numpy.random import shuffle\n",
        "from keras.applications.inception_v3 import InceptionV3\n",
        "from keras.applications.inception_v3 import preprocess_input\n",
        "from keras.datasets import cifar10\n",
        "from skimage.transform import resize\n",
        "from numpy import asarray"
      ],
      "execution_count": null,
      "outputs": []
    },
    {
      "cell_type": "code",
      "metadata": {
        "id": "pBxbBhqptoQU"
      },
      "source": [
        "# scaling an array of images to a new size\n",
        "def scale_images(images, new_shape):\n",
        "\timages_list = list()\n",
        " \n",
        "\tfor image in images:\n",
        "\t\t# resizing with nearest neighbor interpolation\n",
        "\t\tnew_image = resize(image, new_shape, 0)\n",
        "\t\t# store\n",
        "\t\timages_list.append(new_image)\n",
        "\treturn asarray(images_list)"
      ],
      "execution_count": null,
      "outputs": []
    },
    {
      "cell_type": "code",
      "metadata": {
        "id": "yMKMdXNjtoVs"
      },
      "source": [
        "# assuming images having any shape and pixels in [0,255]\n",
        "def calculate_incp_score(images, n_split=10, eps=1E-16):\n",
        "\n",
        "\t# loading inception v3 model\n",
        "\tmodel = InceptionV3()\n",
        " \n",
        "\t# enumerating splits of images/predictions\n",
        "\tscores = list()\n",
        "\tn_part = floor(images.shape[0] / n_split)\n",
        " \n",
        "\tfor i in range(n_split):\n",
        "\t\t# retrieving images\n",
        "\t\tix_start, ix_end = i * n_part, (i+1) * n_part\n",
        "\t\tsubset = images[ix_start:ix_end]\n",
        "\n",
        "\t\t# converting from uint8 to float32\n",
        "\t\tsubset = subset.astype('float32')\n",
        "  \n",
        "\t\t# scaling images to the required size\n",
        "\t\tsubset = scale_images(subset, (299,299,3))\n",
        "  \n",
        "\t\t# pre-processing images, scale to [-1,1]\n",
        "\t\tsubset = preprocess_input(subset)\n",
        "  \n",
        "\t\t# predicting p(y|x)\n",
        "\t\tp_yx = model.predict(subset)\n",
        "  \n",
        "\t\t# calculating p(y)\n",
        "\t\tp_y = expand_dims(p_yx.mean(axis=0), 0)\n",
        "  \n",
        "\t\t# calculating KL divergence using log probabilities\n",
        "\t\tkl_d = p_yx * (log(p_yx + eps) - log(p_y + eps))\n",
        "  \n",
        "\t\t# summing over classes\n",
        "\t\tsum_kl_d = kl_d.sum(axis=1)\n",
        "  \n",
        "\t\t# averaging over images\n",
        "\t\tavg_kl_d = mean(sum_kl_d)\n",
        "  \n",
        "\t\t# undo the log\n",
        "\t\tincp_score = exp(avg_kl_d)\n",
        "  \n",
        "\t\t# store\n",
        "\t\tscores.append(incp_score)\n",
        "  \n",
        "\t# averaging across images\n",
        "\tis_avg, is_std = mean(scores), std(scores)\n",
        "\treturn is_avg, is_std"
      ],
      "execution_count": null,
      "outputs": []
    },
    {
      "cell_type": "code",
      "metadata": {
        "colab": {
          "base_uri": "https://localhost:8080/"
        },
        "id": "ZN97zM0XtoaJ",
        "outputId": "ee37a4dc-7516-4bdc-bb72-298b9ee8f515"
      },
      "source": [
        "# load cifar10 images\n",
        "(images, _), (_, _) = cifar10.load_data()\n",
        "\n",
        "# shuffle images\n",
        "shuffle(images)\n",
        "images = images[:5000]\n",
        "print('loaded', images.shape)\n",
        "\n",
        "# calculate inception score\n",
        "is_avg, is_std = calculate_incp_score(images)\n",
        "print('score', is_avg, is_std)"
      ],
      "execution_count": null,
      "outputs": [
        {
          "output_type": "stream",
          "text": [
            "loaded (5000, 32, 32, 3)\n",
            "score 10.724917 0.22169621\n"
          ],
          "name": "stdout"
        }
      ]
    }
  ]
}