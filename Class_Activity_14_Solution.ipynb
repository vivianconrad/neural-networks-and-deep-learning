{
  "nbformat": 4,
  "nbformat_minor": 0,
  "metadata": {
    "colab": {
      "name": "Class_Activity_14_Solution.ipynb",
      "provenance": [],
      "collapsed_sections": []
    },
    "kernelspec": {
      "name": "python3",
      "display_name": "Python 3"
    },
    "language_info": {
      "name": "python"
    }
  },
  "cells": [
    {
      "cell_type": "markdown",
      "metadata": {
        "id": "KKKkBMkPSLCQ"
      },
      "source": [
        "\n",
        "Write Python code that does the following. \n",
        "\n",
        "- Create the following function: **candy_vending_box_finite_state_machine**, where **current_amount_in_vending_box** is the total amount inserted into the candy vending machine before we open the slot and take the candy out for the respective amount inserted  and we will updated the **Class CandyVendingBoxFSM** attribute value of **current_state** where we move from one state to another based on the input values where Input: **amount_inserted** as an integer, **open_slot** as a boolean value and **candy_and_price_tuple_list** which will already be defined as a list where each element is a tuple and each tuple will contain only two values where\n",
        " - The two values mean that when the index 0 value is the state which could be the current_state  and index 1 value is the amount required for that state to be set as the current state\n",
        " \n",
        "  The following example represents the behavior we expect when get the respective input values\n",
        " - Consider a Candy Vending Machine, that has unique candy dispensed for unique amounts and you can keep inserting the amount until the desired candy is set as the current_state and then you can open the slot and remove the candy where the candy_and_price_tuple_list = [(CandyVendingBoxFSM.MARS, 10,),(CandyVendingBoxFSM.SKITTLES, 15,),(CandyVendingBoxFSM.SNICKERS, 20,),(CandyVendingBoxFSM.KITKAT, 25,),(CandyVendingBoxFSM.CADBURY, 30,),(CandyVendingBoxFSM.TWIX, 35,),(CandyVendingBoxFSM.GUMBALL, 40,),(CandyVendingBoxFSM.TOBLERONE, 45,)]\n",
        " - Ex: We provide to amount=5 and open_slot=False and the current state is None since we do not have any candy that is worth the amount 5\n",
        " - `Candy Vending Box FSM Current State: None, Current Amount: 5, Amount Inserted: 5, Open Slot: False`\n",
        " - We provide to amount=10 and open_slot=False and the current state is SKITTLES since that is worth the amount 10 and our current amount in vending box is 15\n",
        " - `Candy Vending Box FSM Current State: SKITTLES, Current Amount: 15, Amount Inserted: 10, Open Slot: False`\n",
        "  - We provide to amount=15 and open_slot=False and the current state is CADBURY since that is worth the amount 30 and our current amount in vending box is 30\n",
        " - `Candy Vending Box FSM Current State: CADBURY, Current Amount: 30, Amount Inserted: 15, Open Slot: False`\n",
        "  - We provide to amount=5 and open_slot=True and the current state is TWIX since that is worth the amount 30+5 = 35 and our current amount in vending box will be made to 0\n",
        " - `Candy Vending Box FSM Current State: TWIX, Current Amount: 0, Amount Inserted: 5, Open Slot: True`\n",
        " - We provide to amount=25 and open_slot=False and the current state is KITKAT since that is worth the amount 25 and our current amount in vending box is 25\n",
        " - `Candy Vending Box FSM Current State: KITKAT, Current Amount: 25, Amount Inserted: 25, Open Slot: False`\n",
        "  - We provide to amount=5 and open_slot=False and the current state is CADBURY since that is worth the amount 30 and our current amount in vending box is 30\n",
        " - `Candy Vending Box FSM Current State: CADBURY, Current Amount: 30, Amount Inserted: 5, Open Slot: False`\n",
        "  - We provide to amount=10 and open_slot=True and the current state is GUMBALL since that is worth the amount 30+10 = 40 and our current amount in vending box will be made to 0\n",
        " - `Candy Vending Box FSM Current State: GUMBALL, Current Amount: 0, Amount Inserted: 10, Open Slot: True`\n",
        " - We provide to amount=5 and open_slot=False and the current state is None since we do not have any candy that is worth the amount 5\n",
        " - `Candy Vending Box FSM Current State: None, Current Amount: 5, Amount Inserted: 5, Open Slot: False`\n",
        " - Carefully go through the example to better understand all behaviours\n",
        "\n",
        "**Conditions to follow:**\n",
        "- The output should be a string format similar to test cases mentioned below\n",
        "- Inbuilt functions which require no import and Datatype methods can be used to solve this problem but No arbitray functions or library can be used.\n",
        "- No other function name can be defined/declared than the ones asked to be declared in any of the questions presented in this notebook.\n",
        "- The code you write should pass all the test cases given.\n",
        "\n",
        "---\n",
        "\n",
        "TEST CASES:\n",
        "\n",
        "```\n",
        "Candy Vending Box FSM Current State: None, Current Amount: 5, Amount Inserted: 5, Open Slot: False\n",
        "\n",
        "Candy Vending Box FSM Current State: SKITTLES, Current Amount: 15, Amount Inserted: 10, Open Slot: False\n",
        "\n",
        "Candy Vending Box FSM Current State: CADBURY, Current Amount: 30, Amount Inserted: 15, Open Slot: False\n",
        "\n",
        "Candy Vending Box FSM Current State: TWIX, Current Amount: 0, Amount Inserted: 5, Open Slot: True\n",
        "\n",
        "Candy Vending Box FSM Current State: KITKAT, Current Amount: 25, Amount Inserted: 25, Open Slot: False\n",
        "\n",
        "Candy Vending Box FSM Current State: CADBURY, Current Amount: 30, Amount Inserted: 5, Open Slot: False\n",
        "\n",
        "Candy Vending Box FSM Current State: GUMBALL, Current Amount: 0, Amount Inserted: 10, Open Slot: True\n",
        "\n",
        "Candy Vending Box FSM Current State: None, Current Amount: 5, Amount Inserted: 5, Open Slot: False\n",
        "```\n",
        "---\n",
        "\n",
        "Hint: You can use built in methods and data type/string methods to create the solution to solve this problem. Simple nested If-Elif-Else conditions can be used to solve this problem.\n"
      ]
    },
    {
      "cell_type": "markdown",
      "metadata": {
        "id": "kWBCGJK_SLCY"
      },
      "source": [
        "### Solution"
      ]
    },
    {
      "cell_type": "code",
      "metadata": {
        "colab": {
          "base_uri": "https://localhost:8080/"
        },
        "id": "tkOg_5kxSLCa",
        "outputId": "fde351a5-9706-4601-eb94-679b7fee452a"
      },
      "source": [
        "# The Current updated state object\n",
        "class CandyVendingBoxFSM:\n",
        "  # We will initialize the starting state as None - This is what we will have\n",
        "  # to update as currrent state and the current amount present in the vending box\n",
        "  current_state = None\n",
        "  current_amount_in_vending_box = 0\n",
        "  # We will set the states of the candy vending box FSM as class variables\n",
        "  MARS = \"MARS\"\n",
        "  SKITTLES = \"SKITTLES\"\n",
        "  SNICKERS = \"SNICKERS\"\n",
        "  KITKAT = \"KITKAT\"\n",
        "  CADBURY = \"CADBURY\"\n",
        "  TWIX = \"TWIX\"\n",
        "  GUMBALL = \"GUMBALL\"\n",
        "  TOBLERONE = \"TOBLERONE\"\n",
        "\n",
        "# DECLARE the function candy_vending_box_finite_state_machine()\n",
        "def candy_vending_box_finite_state_machine(candy_and_price_tuple_list, amount_inserted = 0, open_slot = False):\n",
        "  # We can turn the tuple into a dict for easy look up as (\"key\", \"value\") pair\n",
        "  # Where the second element in the tuple will become the key and the first element will become the key\n",
        "  transition_state_dict = {key: value for value, key in  candy_and_price_tuple_list}\n",
        "\n",
        "  # Increment the amount present in the candy vending box\n",
        "  CandyVendingBoxFSM.current_amount_in_vending_box += amount_inserted\n",
        "\n",
        "  if CandyVendingBoxFSM.current_amount_in_vending_box:\n",
        "      # We set the current state as the next transition state\n",
        "      CandyVendingBoxFSM.current_state = transition_state_dict.get(CandyVendingBoxFSM.current_amount_in_vending_box, None)\n",
        "\n",
        "  if open_slot:\n",
        "    # If slot is True (opened) then the customer can remove the Candy\n",
        "    # And The current amount in the vending box becomes 0\n",
        "    CandyVendingBoxFSM.current_amount_in_vending_box = 0\n",
        "  \n",
        "  \n",
        "\n",
        "### TEST CASES ###\n",
        "\n",
        "# Initialize the candy and price values\n",
        "candy_and_price_tuple_list = [\n",
        "                                (CandyVendingBoxFSM.MARS, 10,),\n",
        "                                (CandyVendingBoxFSM.SKITTLES, 15,),\n",
        "                                (CandyVendingBoxFSM.SNICKERS, 20,),\n",
        "                                (CandyVendingBoxFSM.KITKAT, 25,),\n",
        "                                (CandyVendingBoxFSM.CADBURY, 30,),\n",
        "                                (CandyVendingBoxFSM.TWIX, 35,),\n",
        "                                (CandyVendingBoxFSM.GUMBALL, 40,),\n",
        "                                (CandyVendingBoxFSM.TOBLERONE, 45,),\n",
        "                              ]\n",
        "\n",
        "# Initialize the amount inserted and open slot values\n",
        "amount_inserted_open_slot_tuple_list = [\n",
        "                              (5, False),\n",
        "                              (10, False),\n",
        "                              (15, False),\n",
        "                              (5, True),\n",
        "                              (25, False),\n",
        "                              (5, False),\n",
        "                              (10, True),\n",
        "                              (5, False),\n",
        "                            ]\n",
        "\n",
        "for (amount_inserted, open_slot) in amount_inserted_open_slot_tuple_list:\n",
        "  # CALL the candy_vending_box_finite_state_machine with required parameters\n",
        "  candy_vending_box_finite_state_machine(candy_and_price_tuple_list, amount_inserted=amount_inserted, open_slot=open_slot)\n",
        "  # Print the output\n",
        "  print(\"Candy Vending Box FSM Current State: {0}, Current Amount: {1}, Amount Inserted: {2}, Open Slot: {3}\\n\".format(CandyVendingBoxFSM.current_state, CandyVendingBoxFSM.current_amount_in_vending_box, amount_inserted, open_slot))"
      ],
      "execution_count": null,
      "outputs": [
        {
          "output_type": "stream",
          "name": "stdout",
          "text": [
            "Candy Vending Box FSM Current State: None, Current Amount: 5, Amount Inserted: 5, Open Slot: False\n",
            "\n",
            "Candy Vending Box FSM Current State: SKITTLES, Current Amount: 15, Amount Inserted: 10, Open Slot: False\n",
            "\n",
            "Candy Vending Box FSM Current State: CADBURY, Current Amount: 30, Amount Inserted: 15, Open Slot: False\n",
            "\n",
            "Candy Vending Box FSM Current State: TWIX, Current Amount: 0, Amount Inserted: 5, Open Slot: True\n",
            "\n",
            "Candy Vending Box FSM Current State: KITKAT, Current Amount: 25, Amount Inserted: 25, Open Slot: False\n",
            "\n",
            "Candy Vending Box FSM Current State: CADBURY, Current Amount: 30, Amount Inserted: 5, Open Slot: False\n",
            "\n",
            "Candy Vending Box FSM Current State: GUMBALL, Current Amount: 0, Amount Inserted: 10, Open Slot: True\n",
            "\n",
            "Candy Vending Box FSM Current State: None, Current Amount: 5, Amount Inserted: 5, Open Slot: False\n",
            "\n"
          ]
        }
      ]
    }
  ]
}