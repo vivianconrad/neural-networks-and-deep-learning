{
  "nbformat": 4,
  "nbformat_minor": 0,
  "metadata": {
    "colab": {
      "name": "Introduction-to-NumPy.ipynb",
      "provenance": [],
      "collapsed_sections": [],
      "include_colab_link": true
    },
    "kernelspec": {
      "name": "python3",
      "display_name": "Python 3"
    }
  },
  "cells": [
    {
      "cell_type": "markdown",
      "metadata": {
        "id": "view-in-github",
        "colab_type": "text"
      },
      "source": [
        "<a href=\"https://colab.research.google.com/github/vivianconrad/neural-networks-and-deep-learning/blob/main/Introduction_to_NumPy.ipynb\" target=\"_parent\"><img src=\"https://colab.research.google.com/assets/colab-badge.svg\" alt=\"Open In Colab\"/></a>"
      ]
    },
    {
      "cell_type": "markdown",
      "metadata": {
        "id": "_WFikjqWa_NC"
      },
      "source": [
        "# Basics of Numpy\n",
        "\n",
        "- The basic data structure used in NumPy is the ndarray,\n",
        "which stands for N-dimensional array. It is a fixed-sized array in memory that contains data of the same type, such as integers or floating point values.\n",
        "\n",
        "- The data type supported by an array can be accessed via the **.dtype** attribute on the array.\n",
        "The dimensions of an array can be accessed via the **.shape** attribute that returns a tuple describing the length of each dimension."
      ]
    },
    {
      "cell_type": "code",
      "metadata": {
        "id": "vgFUDyYkftkP"
      },
      "source": [
        "# Import NumPy library, which will be use across all parts of this notebook\n",
        "import numpy as np"
      ],
      "execution_count": null,
      "outputs": []
    },
    {
      "cell_type": "markdown",
      "metadata": {
        "id": "4v-ootC0k4BN"
      },
      "source": [
        "## Part - 1: Array Creation, Generation and Combination.\n"
      ]
    },
    {
      "cell_type": "code",
      "metadata": {
        "colab": {
          "base_uri": "https://localhost:8080/"
        },
        "id": "Y9WW8XIgbXrH",
        "outputId": "4c3a6dd2-aabe-4483-cd42-5812f6fab483"
      },
      "source": [
        "# Create a list of values\n",
        "list_of_values = [1.0, 2.0, 3.0]\n",
        "# Convert the list to an array of values\n",
        "array_of_values = np.array(list_of_values)\n",
        "# Display array\n",
        "print(\"1-D Array Values:\\n\", array_of_values)\n",
        "# Display array shape - Represents the dimension of the array\n",
        "print(\"\\n1-D  Array Shape:\", array_of_values.shape)\n",
        "# Display array data type - Represents the type of values present in the array\n",
        "print(\"\\n1-D  Array Data Type:\", array_of_values.dtype)"
      ],
      "execution_count": null,
      "outputs": [
        {
          "output_type": "stream",
          "text": [
            "1-D Array Values:\n",
            " [1. 2. 3.]\n",
            "\n",
            "1-D  Array Shape: (3,)\n",
            "\n",
            "1-D  Array Data Type: float64\n"
          ],
          "name": "stdout"
        }
      ]
    },
    {
      "cell_type": "code",
      "metadata": {
        "colab": {
          "base_uri": "https://localhost:8080/"
        },
        "id": "EjgvfyJYcSKL",
        "outputId": "e017b9c1-d35d-4a87-b2cf-0298137946f2"
      },
      "source": [
        "# Create a list of values\n",
        "list_of_values = [[1.0, 2.0, 3.0], [4.0, 5.0, 6.0], [7.0, 8.0, 9.0], [1.1, 2.2, 3.3]]\n",
        "# Convert the list to an array of values\n",
        "array_of_values = np.array(list_of_values)\n",
        "# Display array\n",
        "print(\"2-D  Array Values:\\n\", array_of_values)\n",
        "# Display array shape - Represents the dimension of the array - (Rows, Columns)\n",
        "print(\"\\n2-D Array Shape:\", array_of_values.shape)\n",
        "# Display array data type - Represents the type of values present in the array\n",
        "print(\"\\n2-D Array Data Type:\", array_of_values.dtype)"
      ],
      "execution_count": null,
      "outputs": [
        {
          "output_type": "stream",
          "text": [
            "2-D  Array Values:\n",
            " [[1.  2.  3. ]\n",
            " [4.  5.  6. ]\n",
            " [7.  8.  9. ]\n",
            " [1.1 2.2 3.3]]\n",
            "\n",
            "2-D Array Shape: (4, 3)\n",
            "\n",
            "2-D Array Data Type: float64\n"
          ],
          "name": "stdout"
        }
      ]
    },
    {
      "cell_type": "code",
      "metadata": {
        "colab": {
          "base_uri": "https://localhost:8080/"
        },
        "id": "Q0pzQq_iLvPF",
        "outputId": "23f8ed37-d5db-47c6-d05b-c3089d43a0f9"
      },
      "source": [
        "# We will see what happens when one element of the list we try to convert to array is not in the format we expect it to\n",
        "\n",
        "# Create a list of values - Here '4.0' is a string when rest are float values\n",
        "list_of_values = [[1.0, 2.0, 3.0], ['4.0', 5.0, 6.0], [7.0, 8.0, 9.0], [1.1, 2.2, 3.3]]\n",
        "# Convert the list to an array of values\n",
        "array_of_values = np.array(list_of_values)\n",
        "# Display array - All values are shown to be converted to string\n",
        "print(\"2-D  Array Values:\\n\", array_of_values)\n",
        "# Display array shape - Represents the dimension of the array - (Rows, Columns)\n",
        "print(\"\\n2-D Array Shape:\", array_of_values.shape)\n",
        "# Display array data type - Represents the type of values present in the array\n",
        "print(\"\\n2-D Array Data Type:\", array_of_values.dtype)\n",
        "\n",
        "# This is important to remember because when you see data being converted to an array not being in the format you expect to be then \n",
        "# Investigate all the elements to be of the same datatype"
      ],
      "execution_count": null,
      "outputs": [
        {
          "output_type": "stream",
          "text": [
            "2-D  Array Values:\n",
            " [['1.0' '2.0' '3.0']\n",
            " ['4.0' '5.0' '6.0']\n",
            " ['7.0' '8.0' '9.0']\n",
            " ['1.1' '2.2' '3.3']]\n",
            "\n",
            "2-D Array Shape: (4, 3)\n",
            "\n",
            "2-D Array Data Type: <U32\n"
          ],
          "name": "stdout"
        }
      ]
    },
    {
      "cell_type": "code",
      "metadata": {
        "colab": {
          "base_uri": "https://localhost:8080/"
        },
        "id": "gx-VBffiMD6F",
        "outputId": "7b5523ac-7796-43ca-97d0-c942f002070c"
      },
      "source": [
        "# We will see what happens when one element of the list we try to convert to array is not in the format we expect it to\n",
        "\n",
        "# Create a list of values - Here [4, 5, 6] are integers when rest are float values\n",
        "list_of_values = [[1.0, 2.0, 3.0], [4, 5, 6], [7, 8, 9], [1.1, 2.2, 3.3]]\n",
        "# Convert the list to an array of values\n",
        "array_of_values = np.array(list_of_values)\n",
        "# Display array - All values are shown to be converted to float\n",
        "print(\"2-D  Array Values:\\n\", array_of_values)\n",
        "# Display array shape - Represents the dimension of the array - (Rows, Columns)\n",
        "print(\"\\n2-D Array Shape:\", array_of_values.shape)\n",
        "# Display array data type - Represents the type of values present in the array\n",
        "print(\"\\n2-D Array Data Type:\", array_of_values.dtype)\n",
        "\n",
        "# This is important to remember because when you see data being converted to an array not being in the format you expect to be then \n",
        "# Investigate all the elements to be of the same datatype"
      ],
      "execution_count": null,
      "outputs": [
        {
          "output_type": "stream",
          "text": [
            "2-D  Array Values:\n",
            " [[1.  2.  3. ]\n",
            " [4.  5.  6. ]\n",
            " [7.  8.  9. ]\n",
            " [1.1 2.2 3.3]]\n",
            "\n",
            "2-D Array Shape: (4, 3)\n",
            "\n",
            "2-D Array Data Type: float64\n"
          ],
          "name": "stdout"
        }
      ]
    },
    {
      "cell_type": "markdown",
      "metadata": {
        "id": "sd5fICGScdWJ"
      },
      "source": [
        "### Array Generation\n",
        "- So far we have create arrays from lists that we have already defined hence we basically converted a list to obtain an array but now we will check out how to make an array using the many create array functions present in NumPy.\n",
        "The following are how we generate arrays\n",
        "    - **empty()** - This function will create random valued float array of the dimension provided as input\n",
        "    - **zeros()** - This function will create an array where all values are 0 of the dimension provided as input\n",
        "    - **ones()** - This function will create an array where all values are 1 of the dimension provided as input"
      ]
    },
    {
      "cell_type": "code",
      "metadata": {
        "colab": {
          "base_uri": "https://localhost:8080/"
        },
        "id": "jNnxkbCKM9LF",
        "outputId": "28044724-c1d5-46c6-88c2-a3fd1d87c6fb"
      },
      "source": [
        "# We will create an array is the empty() function - This will create random valued float array of the dimension we provide\n",
        "\n",
        "# Generate an array for the dimension (2, )\n",
        "array_of_values = np.empty((2,))\n",
        "# Display array - All values are shown to be converted to float\n",
        "print(\"1-D  Array Values:\\n\", array_of_values)\n",
        "# Display array shape - Represents the dimension of the array - (Rows, Columns)\n",
        "print(\"\\n1-D Array Shape:\", array_of_values.shape)\n",
        "# Display array data type - Represents the type of values present in the array\n",
        "print(\"\\n1-D Array Data Type:\", array_of_values.dtype)\n",
        "\n",
        "# Generate an array for the dimension (3, 5)\n",
        "array_of_values = np.empty((3, 5))\n",
        "# Display array - All values are shown to be converted to float\n",
        "print(\"\\n2-D  Array Values:\\n\", array_of_values)\n",
        "# Display array shape - Represents the dimension of the array - (Rows, Columns)\n",
        "print(\"\\n2-D Array Shape:\", array_of_values.shape)\n",
        "# Display array data type - Represents the type of values present in the array\n",
        "print(\"\\n2-D Array Data Type:\", array_of_values.dtype)"
      ],
      "execution_count": null,
      "outputs": [
        {
          "output_type": "stream",
          "text": [
            "1-D  Array Values:\n",
            " [1.61430377e-316 0.00000000e+000]\n",
            "\n",
            "1-D Array Shape: (2,)\n",
            "\n",
            "1-D Array Data Type: float64\n",
            "\n",
            "2-D  Array Values:\n",
            " [[1.61558359e-316 1.03977794e-312 1.01855798e-312 9.54898106e-313\n",
            "  1.18831764e-312]\n",
            " [1.03977794e-312 1.23075756e-312 1.03977794e-312 1.12465777e-312\n",
            "  9.76118064e-313]\n",
            " [1.18831764e-312 1.18831764e-312 1.08221785e-312 4.44659081e-322\n",
            "  0.00000000e+000]]\n",
            "\n",
            "2-D Array Shape: (3, 5)\n",
            "\n",
            "2-D Array Data Type: float64\n"
          ],
          "name": "stdout"
        }
      ]
    },
    {
      "cell_type": "code",
      "metadata": {
        "colab": {
          "base_uri": "https://localhost:8080/"
        },
        "id": "_FwCn6E3evbt",
        "outputId": "62611826-16c6-4283-81e1-55b667c3d96d"
      },
      "source": [
        "# We will create an array is the zeros() function - This will create 0 valued array of the dimension we provide\n",
        "\n",
        "# Generate an array for the dimension (2, )\n",
        "array_of_values = np.zeros((2,))\n",
        "# Display array - All values are shown to be converted to float\n",
        "print(\"1-D  Array Values:\\n\", array_of_values)\n",
        "# Display array shape - Represents the dimension of the array - (Rows, Columns)\n",
        "print(\"\\n1-D Array Shape:\", array_of_values.shape)\n",
        "# Display array data type - Represents the type of values present in the array\n",
        "print(\"\\n1-D Array Data Type:\", array_of_values.dtype)\n",
        "\n",
        "# Generate an array for the dimension (3, 5)\n",
        "array_of_values = np.zeros((3, 5))\n",
        "# Display array - All values are shown to be converted to float\n",
        "print(\"\\n2-D  Array Values:\\n\", array_of_values)\n",
        "# Display array shape - Represents the dimension of the array - (Rows, Columns)\n",
        "print(\"\\n2-D Array Shape:\", array_of_values.shape)\n",
        "# Display array data type - Represents the type of values present in the array\n",
        "print(\"\\n2-D Array Data Type:\", array_of_values.dtype)"
      ],
      "execution_count": null,
      "outputs": [
        {
          "output_type": "stream",
          "text": [
            "1-D  Array Values:\n",
            " [0. 0.]\n",
            "\n",
            "1-D Array Shape: (2,)\n",
            "\n",
            "1-D Array Data Type: float64\n",
            "\n",
            "2-D  Array Values:\n",
            " [[0. 0. 0. 0. 0.]\n",
            " [0. 0. 0. 0. 0.]\n",
            " [0. 0. 0. 0. 0.]]\n",
            "\n",
            "2-D Array Shape: (3, 5)\n",
            "\n",
            "2-D Array Data Type: float64\n"
          ],
          "name": "stdout"
        }
      ]
    },
    {
      "cell_type": "code",
      "metadata": {
        "colab": {
          "base_uri": "https://localhost:8080/"
        },
        "id": "TScaoFJGhoyZ",
        "outputId": "9f6bccd9-751c-49e9-f6f6-326aa3faa290"
      },
      "source": [
        "# We will create an array is the ones() function - This will create 1 valued array of the dimension we provide\n",
        "\n",
        "# Generate an array for the dimension (2, )\n",
        "array_of_values = np.ones((2,))\n",
        "# Display array - All values are shown to be converted to float\n",
        "print(\"1-D  Array Values:\\n\", array_of_values)\n",
        "# Display array shape - Represents the dimension of the array - (Rows, Columns)\n",
        "print(\"\\n1-D Array Shape:\", array_of_values.shape)\n",
        "# Display array data type - Represents the type of values present in the array\n",
        "print(\"\\n1-D Array Data Type:\", array_of_values.dtype)\n",
        "\n",
        "# Generate an array for the dimension (3, 5)\n",
        "array_of_values = np.ones((3, 5))\n",
        "# Display array - All values are shown to be converted to float\n",
        "print(\"\\n2-D  Array Values:\\n\", array_of_values)\n",
        "# Display array shape - Represents the dimension of the array - (Rows, Columns)\n",
        "print(\"\\n2-D Array Shape:\", array_of_values.shape)\n",
        "# Display array data type - Represents the type of values present in the array\n",
        "print(\"\\n2-D Array Data Type:\", array_of_values.dtype)"
      ],
      "execution_count": null,
      "outputs": [
        {
          "output_type": "stream",
          "text": [
            "1-D  Array Values:\n",
            " [1. 1.]\n",
            "\n",
            "1-D Array Shape: (2,)\n",
            "\n",
            "1-D Array Data Type: float64\n",
            "\n",
            "2-D  Array Values:\n",
            " [[1. 1. 1. 1. 1.]\n",
            " [1. 1. 1. 1. 1.]\n",
            " [1. 1. 1. 1. 1.]]\n",
            "\n",
            "2-D Array Shape: (3, 5)\n",
            "\n",
            "2-D Array Data Type: float64\n"
          ],
          "name": "stdout"
        }
      ]
    },
    {
      "cell_type": "markdown",
      "metadata": {
        "id": "H5w380sykyyd"
      },
      "source": [
        "### Array Combination\n",
        "- Now that we have a firm idea on how to create arrays, We will further learn how to combine two or more arrays to create new arrays.\n",
        "- We can combine arrays by Vertically (vstach) stacking the rows\n",
        "- We can combine arrays by Horizontally (hstack) stacking the columns\n"
      ]
    },
    {
      "cell_type": "code",
      "metadata": {
        "colab": {
          "base_uri": "https://localhost:8080/"
        },
        "id": "0rUcXe_IhxTl",
        "outputId": "453d9c57-0924-4bf9-b001-f09bfa75275f"
      },
      "source": [
        "# Generate an array for the dimension (3, 5)\n",
        "array_1_of_values = np.array([[1, 2, 3], [4, 5, 6]])\n",
        "# Display array - All values are shown to be converted to float\n",
        "print(\"2-D  Array Values:\\n\", array_1_of_values)\n",
        "# Display array shape - Represents the dimension of the array - (Rows, Columns)\n",
        "print(\"\\n2-D Array Shape:\", array_1_of_values.shape)\n",
        "# Display array data type - Represents the type of values present in the array\n",
        "print(\"\\n2-D Array Data Type:\", array_1_of_values.dtype)\n",
        "\n",
        "# Generate an array for the dimension (3, 5)\n",
        "array_2_of_values = np.array([[1.1, 2.2, 3.3], [4.4, 5.5, 6.6]])\n",
        "# Display array - All values are shown to be converted to float\n",
        "print(\"\\n2-D  Array Values:\\n\", array_2_of_values)\n",
        "# Display array shape - Represents the dimension of the array - (Rows, Columns)\n",
        "print(\"\\n2-D Array Shape:\", array_2_of_values.shape)\n",
        "# Display array data type - Represents the type of values present in the array\n",
        "print(\"\\n2-D Array Data Type:\", array_2_of_values.dtype)"
      ],
      "execution_count": null,
      "outputs": [
        {
          "output_type": "stream",
          "text": [
            "2-D  Array Values:\n",
            " [[1 2 3]\n",
            " [4 5 6]]\n",
            "\n",
            "2-D Array Shape: (2, 3)\n",
            "\n",
            "2-D Array Data Type: int64\n",
            "\n",
            "2-D  Array Values:\n",
            " [[1.1 2.2 3.3]\n",
            " [4.4 5.5 6.6]]\n",
            "\n",
            "2-D Array Shape: (2, 3)\n",
            "\n",
            "2-D Array Data Type: float64\n"
          ],
          "name": "stdout"
        }
      ]
    },
    {
      "cell_type": "code",
      "metadata": {
        "colab": {
          "base_uri": "https://localhost:8080/"
        },
        "id": "j6WsKxB1nRBq",
        "outputId": "c6084936-2691-4414-9e9b-76af3887546b"
      },
      "source": [
        "# Generate an array for the dimension (3, 5)\n",
        "array_of_values = np.vstack((array_1_of_values, array_2_of_values))\n",
        "# Display array - All values are shown to be converted to float\n",
        "print(\"2-D  Array Values:\\n\", array_of_values)\n",
        "# Display array shape - Represents the dimension of the array - (Rows, Columns)\n",
        "print(\"\\n2-D Array Shape:\", array_of_values.shape)\n",
        "# Display array data type - Represents the type of values present in the array\n",
        "print(\"\\n2-D Array Data Type:\", array_of_values.dtype)"
      ],
      "execution_count": null,
      "outputs": [
        {
          "output_type": "stream",
          "text": [
            "2-D  Array Values:\n",
            " [[1.  2.  3. ]\n",
            " [4.  5.  6. ]\n",
            " [1.1 2.2 3.3]\n",
            " [4.4 5.5 6.6]]\n",
            "\n",
            "2-D Array Shape: (4, 3)\n",
            "\n",
            "2-D Array Data Type: float64\n"
          ],
          "name": "stdout"
        }
      ]
    },
    {
      "cell_type": "code",
      "metadata": {
        "colab": {
          "base_uri": "https://localhost:8080/"
        },
        "id": "FD839tCanvvn",
        "outputId": "03eb4ac8-710c-4cb9-a68c-15c1755068c6"
      },
      "source": [
        "# Generate an array for the dimension (3, 5)\n",
        "array_of_values = np.hstack((array_1_of_values, array_2_of_values))\n",
        "# Display array - All values are shown to be converted to float\n",
        "print(\"\\n2-D  Array Values:\\n\", array_of_values)\n",
        "# Display array shape - Represents the dimension of the array - (Rows, Columns)\n",
        "print(\"\\n2-D Array Shape:\", array_of_values.shape)\n",
        "# Display array data type - Represents the type of values present in the array\n",
        "print(\"\\n2-D Array Data Type:\", array_of_values.dtype)"
      ],
      "execution_count": null,
      "outputs": [
        {
          "output_type": "stream",
          "text": [
            "\n",
            "2-D  Array Values:\n",
            " [[1.  2.  3.  1.1 2.2 3.3]\n",
            " [4.  5.  6.  4.4 5.5 6.6]]\n",
            "\n",
            "2-D Array Shape: (2, 6)\n",
            "\n",
            "2-D Array Data Type: float64\n"
          ],
          "name": "stdout"
        }
      ]
    },
    {
      "cell_type": "markdown",
      "metadata": {
        "id": "HHFRAXt40C_r"
      },
      "source": [
        "## Part - 2: Indexing, Slicing and Reshaping Arrays.\n",
        "- An array is a sequence of values and each element in the array is present at an index value where the first element is present at 0th index and the Nth element in present at the (N-1)th position.\n",
        "- Next we will learn to transform the shape of the array itself to any other desired dimension."
      ]
    },
    {
      "cell_type": "code",
      "metadata": {
        "colab": {
          "base_uri": "https://localhost:8080/"
        },
        "id": "HcHRt4np0C_1",
        "outputId": "d5ecec18-2873-457b-a6df-a349af342fe1"
      },
      "source": [
        "# Create a list of values\n",
        "list_of_values = [1.0, 2.0, 3.0]\n",
        "# Display list\n",
        "print(\"List of values:\\n\", list_of_values)\n",
        "# We can generally index lists values\n",
        "print(\"0th Index Value in List:\", list_of_values[0])\n",
        "print(\"1st Index Value in List:\", list_of_values[1])\n",
        "print(\"2nd Index Value in List:\", list_of_values[2])\n",
        "\n",
        "# Convert the list to an array of values\n",
        "array_of_values = np.array(list_of_values)\n",
        "# Display array\n",
        "print(\"\\n1-D Array Values:\\n\", array_of_values)\n",
        "# We can also index lists values\n",
        "print(\"0th Index Value in Array:\", array_of_values[0])\n",
        "print(\"1st Index Value in Array:\", array_of_values[1])\n",
        "print(\"2nd Index Value in Array:\", array_of_values[2])"
      ],
      "execution_count": null,
      "outputs": [
        {
          "output_type": "stream",
          "text": [
            "List of values:\n",
            " [1.0, 2.0, 3.0]\n",
            "0th Index Value in List: 1.0\n",
            "1st Index Value in List: 2.0\n",
            "2nd Index Value in List: 3.0\n",
            "\n",
            "1-D Array Values:\n",
            " [1. 2. 3.]\n",
            "0th Index Value in Array: 1.0\n",
            "1st Index Value in Array: 2.0\n",
            "2nd Index Value in Array: 3.0\n"
          ],
          "name": "stdout"
        }
      ]
    },
    {
      "cell_type": "code",
      "metadata": {
        "colab": {
          "base_uri": "https://localhost:8080/",
          "height": 306
        },
        "id": "HPxPFywN-s5_",
        "outputId": "bf3fd1fe-59af-429b-fa36-ffd2d8322209"
      },
      "source": [
        "# Display array\n",
        "print(\"\\n1-D Array Values:\\n\", array_of_values)\n",
        "# Display array shape - Represents the dimension of the array - (Rows, Columns)\n",
        "print(\"\\n1-D Array Shape:\", array_of_values.shape)\n",
        "# Now we cannot access 10-1= 9th Index because there are only 9 elements present in the array of values\n",
        "# Which means there are only 0-8 index available to be accessed\n",
        "print(\"9th Index Value in Array:\", array_of_values[10])\n",
        "# This will throw index error because we are trying to access elements which are out of the bounds i.e length of the array"
      ],
      "execution_count": null,
      "outputs": [
        {
          "output_type": "stream",
          "text": [
            "\n",
            "1-D Array Values:\n",
            " [1. 2. 3.]\n",
            "\n",
            "1-D Array Shape: (3,)\n"
          ],
          "name": "stdout"
        },
        {
          "output_type": "error",
          "ename": "IndexError",
          "evalue": "ignored",
          "traceback": [
            "\u001b[0;31m---------------------------------------------------------------------------\u001b[0m",
            "\u001b[0;31mIndexError\u001b[0m                                Traceback (most recent call last)",
            "\u001b[0;32m<ipython-input-4-96cce98b6955>\u001b[0m in \u001b[0;36m<module>\u001b[0;34m()\u001b[0m\n\u001b[1;32m      5\u001b[0m \u001b[0;31m# Now we cannot access 10-1= 9th Index because there are only 9 elements present in the array of values\u001b[0m\u001b[0;34m\u001b[0m\u001b[0;34m\u001b[0m\u001b[0;34m\u001b[0m\u001b[0m\n\u001b[1;32m      6\u001b[0m \u001b[0;31m# Which means there are only 0-8 index available to be accessed\u001b[0m\u001b[0;34m\u001b[0m\u001b[0;34m\u001b[0m\u001b[0;34m\u001b[0m\u001b[0m\n\u001b[0;32m----> 7\u001b[0;31m \u001b[0mprint\u001b[0m\u001b[0;34m(\u001b[0m\u001b[0;34m\"9th Index Value in Array:\"\u001b[0m\u001b[0;34m,\u001b[0m \u001b[0marray_of_values\u001b[0m\u001b[0;34m[\u001b[0m\u001b[0;36m10\u001b[0m\u001b[0;34m]\u001b[0m\u001b[0;34m)\u001b[0m\u001b[0;34m\u001b[0m\u001b[0;34m\u001b[0m\u001b[0m\n\u001b[0m\u001b[1;32m      8\u001b[0m \u001b[0;31m# This will throw index error because we are trying to access elements which are out of the bounds i.e length of the array\u001b[0m\u001b[0;34m\u001b[0m\u001b[0;34m\u001b[0m\u001b[0;34m\u001b[0m\u001b[0m\n",
            "\u001b[0;31mIndexError\u001b[0m: index 10 is out of bounds for axis 0 with size 3"
          ]
        }
      ]
    },
    {
      "cell_type": "code",
      "metadata": {
        "colab": {
          "base_uri": "https://localhost:8080/",
          "height": 306
        },
        "id": "pFM9diH-DCCa",
        "outputId": "489e3c48-ed9c-43db-f54a-3aa740c0490d"
      },
      "source": [
        "# Display array\n",
        "print(\"\\n1-D Array Values:\\n\", array_of_values)\n",
        "# Display array shape - Represents the dimension of the array - (Rows, Columns)\n",
        "print(\"\\n2-D Array Shape:\", array_of_values.shape)\n",
        "# Now we can access 9-1= 8th Index because there are only 9 elements present in the array of values\n",
        "print(\"8th Index Value in Array:\", array_of_values[8])\n",
        "# This will not throw index error because we are trying to access elements which are in the of the bounds i.e length of the array"
      ],
      "execution_count": null,
      "outputs": [
        {
          "output_type": "stream",
          "text": [
            "\n",
            "1-D Array Values:\n",
            " [1. 2. 3.]\n",
            "\n",
            "2-D Array Shape: (3,)\n"
          ],
          "name": "stdout"
        },
        {
          "output_type": "error",
          "ename": "IndexError",
          "evalue": "ignored",
          "traceback": [
            "\u001b[0;31m---------------------------------------------------------------------------\u001b[0m",
            "\u001b[0;31mIndexError\u001b[0m                                Traceback (most recent call last)",
            "\u001b[0;32m<ipython-input-5-7c67692178dd>\u001b[0m in \u001b[0;36m<module>\u001b[0;34m()\u001b[0m\n\u001b[1;32m      4\u001b[0m \u001b[0mprint\u001b[0m\u001b[0;34m(\u001b[0m\u001b[0;34m\"\\n2-D Array Shape:\"\u001b[0m\u001b[0;34m,\u001b[0m \u001b[0marray_of_values\u001b[0m\u001b[0;34m.\u001b[0m\u001b[0mshape\u001b[0m\u001b[0;34m)\u001b[0m\u001b[0;34m\u001b[0m\u001b[0;34m\u001b[0m\u001b[0m\n\u001b[1;32m      5\u001b[0m \u001b[0;31m# Now we can access 9-1= 8th Index because there are only 9 elements present in the array of values\u001b[0m\u001b[0;34m\u001b[0m\u001b[0;34m\u001b[0m\u001b[0;34m\u001b[0m\u001b[0m\n\u001b[0;32m----> 6\u001b[0;31m \u001b[0mprint\u001b[0m\u001b[0;34m(\u001b[0m\u001b[0;34m\"8th Index Value in Array:\"\u001b[0m\u001b[0;34m,\u001b[0m \u001b[0marray_of_values\u001b[0m\u001b[0;34m[\u001b[0m\u001b[0;36m8\u001b[0m\u001b[0;34m]\u001b[0m\u001b[0;34m)\u001b[0m\u001b[0;34m\u001b[0m\u001b[0;34m\u001b[0m\u001b[0m\n\u001b[0m\u001b[1;32m      7\u001b[0m \u001b[0;31m# This will not throw index error because we are trying to access elements which are in the of the bounds i.e length of the array\u001b[0m\u001b[0;34m\u001b[0m\u001b[0;34m\u001b[0m\u001b[0;34m\u001b[0m\u001b[0m\n",
            "\u001b[0;31mIndexError\u001b[0m: index 8 is out of bounds for axis 0 with size 3"
          ]
        }
      ]
    },
    {
      "cell_type": "markdown",
      "metadata": {
        "id": "o7gCeEWFHWwG"
      },
      "source": [
        "- Next we will look at list slicing where we get a section of the array from a START index to a STOP index value, By pythons logic the STOP index will be N-1 of whatever we provide\n",
        "- Ex-1: If we slice the indexes from [0:5] then we are infact getting a section of the array from index 0 to index 5-1= 4\n",
        "- Ex-2: If we slice the indexes from [3:7] then we are infact getting a section of the array from index 3 to index 7-1= 6\n",
        "\n",
        "|        |      Index 0     |    Index 1   |    Index 2   |      Index 3     |     Index 4     |    Index 5   |     Index 6     |    Index 7   |    Index 8   |\n",
        "|--------|:----------------:|:------------:|:------------:|:----------------:|:---------------:|:------------:|:---------------:|:------------:|:------------:|\n",
        "|        |   0<br><br>1.0   | 1<br><br>2.0 | 2<br><br>3.0 |   3<br><br>4.1   |   4<br><br>5.1  | 5<br><br>6.1 |   6<br><br>7.2  | 7<br><br>8.2 | 8<br><br>9.2 |\n",
        "| Ex-1:  | 1.0<br><br>START | 2.0          | 3.0          | 4.1              | 5.1<br><br>STOP |              |                 |              |              |\n",
        "| Ex-2:  |                  |              |              | 4.1<br><br>START | 5.1             | 6.1          | 7.2<br><br>STOP |              |              |"
      ]
    },
    {
      "cell_type": "code",
      "metadata": {
        "colab": {
          "base_uri": "https://localhost:8080/"
        },
        "id": "i4xhBMBQTpjt",
        "outputId": "5318ce4b-6258-4d31-e9b7-cb4f14cd310f"
      },
      "source": [
        "# Create a list of values\n",
        "list_of_values = [1.0, 2.0, 3.0, 4.1, 5.1, 6.1, 7.2, 8.2, 9.2]\n",
        "# Convert the list to an array of values\n",
        "array_of_values = np.array(list_of_values)\n",
        "# Display array\n",
        "print(\"\\n1-D Array Values:\\n\", array_of_values)\n",
        "# We slice sections from the list [start_index: end_index: step_index]\n",
        "print(\"0th Index Value:\", array_of_values[0:5]) # This slices represents values from 0th index to 5-1= 4th index\n",
        "print(\"1st Index Value:\", array_of_values[3:7]) # This slices represents values from 3th index to 7-1= 6th index"
      ],
      "execution_count": null,
      "outputs": [
        {
          "output_type": "stream",
          "text": [
            "\n",
            "1-D Array Values:\n",
            " [1.  2.  3.  4.1 5.1 6.1 7.2 8.2 9.2]\n",
            "0th Index Value: [1.  2.  3.  4.1 5.1]\n",
            "1st Index Value: [4.1 5.1 6.1 7.2]\n"
          ],
          "name": "stdout"
        }
      ]
    },
    {
      "cell_type": "markdown",
      "metadata": {
        "id": "b2_v2rR5CD0T"
      },
      "source": [
        "- We have seen how indexes work in 1-D array, Next we can visualize and better understand indexes when it comes to 2-D arrays with the sample table given below\n",
        "\n",
        "|       |      Column 0     |      Column 1     |      Column 2     |\n",
        "|:-----:|:-----------------:|:-----------------:|:-----------------:|\n",
        "| Row 0 | 1.0<br><br>[0, 0] | 2.0<br><br>[0, 1] | 3.0<br><br>[0, 2] |\n",
        "| Row 1 | 1.1<br><br>[1, 0] | 2.1<br><br>[1, 1] | 3.1<br><br>[1, 2] |\n",
        "| Row 2 | 1.2<br><br>[2, 0] | 2.2<br><br>[2, 1] | 3.2<br><br>[2, 2] |\n",
        "\n",
        "- We can see that how each row and column starts with index 0 and goes up to N-1th positions index value.\n"
      ]
    },
    {
      "cell_type": "code",
      "metadata": {
        "colab": {
          "base_uri": "https://localhost:8080/"
        },
        "id": "Wfi0wnI__uyQ",
        "outputId": "53f2f87f-a6f5-4293-db2e-aa145d99be02"
      },
      "source": [
        "# Create a list of values\n",
        "list_of_values = [[1.0, 2.0, 3.0], [1.1, 2.1, 3.1], [1.2, 2.2, 3.2]]\n",
        "# Convert the list to an array of values\n",
        "array_of_values = np.array(list_of_values)\n",
        "# Display array\n",
        "print(\"\\n1-D Array Values:\\n\", array_of_values)\n",
        "# We can also index lists values\n",
        "print(\"0th Row and 0th Column Index Value in Array:\", array_of_values[0][0])\n",
        "print(\"1st Row and 1st Column Value in Array:\", array_of_values[1][1])\n",
        "print(\"2nd Row and 2nd Column Index Value in Array:\", array_of_values[2][2])"
      ],
      "execution_count": null,
      "outputs": [
        {
          "output_type": "stream",
          "text": [
            "\n",
            "1-D Array Values:\n",
            " [[1.  2.  3. ]\n",
            " [1.1 2.1 3.1]\n",
            " [1.2 2.2 3.2]]\n",
            "0th Row and 0th Column Index Value in Array: 1.0\n",
            "1st Row and 1st Column Value in Array: 2.1\n",
            "2nd Row and 2nd Column Index Value in Array: 3.2\n"
          ],
          "name": "stdout"
        }
      ]
    },
    {
      "cell_type": "code",
      "metadata": {
        "colab": {
          "base_uri": "https://localhost:8080/"
        },
        "id": "C9rPn0FE0C_4",
        "outputId": "f318d99b-f6c9-4092-e97d-b0aba48a7396"
      },
      "source": [
        "# Create a list of values\n",
        "list_of_values = [[1.0, 2.0, 3.0, 4.0, 5.0], [1.1, 2.1, 3.1, 4.1, 5.1], [1.2, 2.2, 3.2, 4.2, 5.2], [1.3, 2.3, 3.3, 4.3, 5.3]]\n",
        "# Convert the list to an array of values\n",
        "array_of_values = np.array(list_of_values)\n",
        "# Display array\n",
        "print(\"\\n1-D Array Values:\\n\", array_of_values)\n",
        "# We slice sections from the list [start_index: end_index: step_index]\n",
        "print(\"0th Row and 2nd to 4th Column Index Value in Array:\", array_of_values[0][2:5])"
      ],
      "execution_count": null,
      "outputs": [
        {
          "output_type": "stream",
          "text": [
            "\n",
            "1-D Array Values:\n",
            " [[1.  2.  3.  4.  5. ]\n",
            " [1.1 2.1 3.1 4.1 5.1]\n",
            " [1.2 2.2 3.2 4.2 5.2]\n",
            " [1.3 2.3 3.3 4.3 5.3]]\n",
            "0th Row and 2nd to 4th Column Index Value in Array: [3. 4. 5.]\n"
          ],
          "name": "stdout"
        }
      ]
    },
    {
      "cell_type": "code",
      "metadata": {
        "colab": {
          "base_uri": "https://localhost:8080/"
        },
        "id": "etJcG9VW0C_7",
        "outputId": "ad63906d-59ee-40bc-8e3e-c18bb399b437"
      },
      "source": [
        "# Create a list of values\n",
        "list_of_values = [[1.0, 2.0, 3.0, 4.0, 5.0], [1.1, 2.1, 3.1, 4.1, 5.1], [1.2, 2.2, 3.2, 4.2, 5.2], [1.3, 2.3, 3.3, 4.3, 5.3], [1.4, 2.4, 3.4, 4.4, 5.4], [1.5, 2.5, 3.5, 4.5, 5.5]]\n",
        "# Convert the list to an array of values\n",
        "array_of_values = np.array(list_of_values)\n",
        "# Display array\n",
        "print(\"\\n1-D Array Values:\\n\", array_of_values)\n",
        "\n",
        "# Usually we will come across this when splitting the dataset into train and test datasets\n",
        "# consider we have a dataset of (6, 5) and wish to split 4 rows into train and 2 into test\n",
        "train_array, test_array = array_of_values[:4], array_of_values[4:]\n",
        "# Display array\n",
        "print(\"\\nTrain Array:\", train_array)\n",
        "# Display array\n",
        "print(\"\\nTest Array:\", test_array)"
      ],
      "execution_count": null,
      "outputs": [
        {
          "output_type": "stream",
          "text": [
            "\n",
            "1-D Array Values:\n",
            " [[1.  2.  3.  4.  5. ]\n",
            " [1.1 2.1 3.1 4.1 5.1]\n",
            " [1.2 2.2 3.2 4.2 5.2]\n",
            " [1.3 2.3 3.3 4.3 5.3]\n",
            " [1.4 2.4 3.4 4.4 5.4]\n",
            " [1.5 2.5 3.5 4.5 5.5]]\n",
            "\n",
            "Train Array: [[1.  2.  3.  4.  5. ]\n",
            " [1.1 2.1 3.1 4.1 5.1]\n",
            " [1.2 2.2 3.2 4.2 5.2]\n",
            " [1.3 2.3 3.3 4.3 5.3]]\n",
            "\n",
            "Test Array: [[1.4 2.4 3.4 4.4 5.4]\n",
            " [1.5 2.5 3.5 4.5 5.5]]\n"
          ],
          "name": "stdout"
        }
      ]
    },
    {
      "cell_type": "code",
      "metadata": {
        "colab": {
          "base_uri": "https://localhost:8080/"
        },
        "id": "IJB8a5vi0C__",
        "outputId": "bc15eae2-6f7a-48bc-c702-c5f658024a96"
      },
      "source": [
        "array_of_values[4:]"
      ],
      "execution_count": null,
      "outputs": [
        {
          "output_type": "execute_result",
          "data": {
            "text/plain": [
              "array([[1.4, 2.4, 3.4, 4.4, 5.4],\n",
              "       [1.5, 2.5, 3.5, 4.5, 5.5]])"
            ]
          },
          "metadata": {
            "tags": []
          },
          "execution_count": 15
        }
      ]
    },
    {
      "cell_type": "markdown",
      "metadata": {
        "id": "zcopHB8z0DAB"
      },
      "source": [
        "### Reshaping Array\n",
        "- We will now learn how to reshape our arrays from one shape to another\n",
        "- Some algorithms, like the Long Short-Term Memory recurrent neural network in Keras, require input to be specified as a three-dimensional array comprised of samples, timesteps, and features.\n",
        "- It is important to know how to reshape your NumPy arrays so that your data meets the expectation of specific Python libraries."
      ]
    },
    {
      "cell_type": "code",
      "metadata": {
        "colab": {
          "base_uri": "https://localhost:8080/"
        },
        "id": "qXJEu8e00DAE",
        "outputId": "f50dd786-ba80-4712-f53e-3644e45b3c1d"
      },
      "source": [
        "# Create a list of values\n",
        "list_of_values = [1.0, 2.0, 3.0, 4.1, 5.1, 6.1, 7.2, 8.2, 9.2]\n",
        "# Convert the list to an array of values\n",
        "array_of_values = np.array(list_of_values)\n",
        "# Display array\n",
        "print(\"\\n1-D Array Values:\\n\", array_of_values)\n",
        "# Display array\n",
        "print(\"\\n2-D Array Values After Reshape (9, 1):\\n\", array_of_values.reshape(9, 1))\n",
        "# Display array\n",
        "print(\"\\n2-D Array Values After Reshape (3, 3):\\n\", array_of_values.reshape(3, 3))\n",
        "# Display array\n",
        "print(\"\\n3-D Array Values After Reshape (3, 3, 1):\\n\", array_of_values.reshape(3, 3, 1))"
      ],
      "execution_count": null,
      "outputs": [
        {
          "output_type": "stream",
          "text": [
            "\n",
            "1-D Array Values:\n",
            " [1.  2.  3.  4.1 5.1 6.1 7.2 8.2 9.2]\n",
            "\n",
            "2-D Array Values After Reshape (9, 1):\n",
            " [[1. ]\n",
            " [2. ]\n",
            " [3. ]\n",
            " [4.1]\n",
            " [5.1]\n",
            " [6.1]\n",
            " [7.2]\n",
            " [8.2]\n",
            " [9.2]]\n",
            "\n",
            "2-D Array Values After Reshape (3, 3):\n",
            " [[1.  2.  3. ]\n",
            " [4.1 5.1 6.1]\n",
            " [7.2 8.2 9.2]]\n",
            "\n",
            "3-D Array Values After Reshape (3, 3, 1):\n",
            " [[[1. ]\n",
            "  [2. ]\n",
            "  [3. ]]\n",
            "\n",
            " [[4.1]\n",
            "  [5.1]\n",
            "  [6.1]]\n",
            "\n",
            " [[7.2]\n",
            "  [8.2]\n",
            "  [9.2]]]\n"
          ],
          "name": "stdout"
        }
      ]
    },
    {
      "cell_type": "code",
      "metadata": {
        "id": "QZWmE9O90DAW",
        "colab": {
          "base_uri": "https://localhost:8080/"
        },
        "outputId": "77f0f3a3-02f5-4257-94e0-8feebb66af28"
      },
      "source": [
        "# Create a list of values\n",
        "list_of_values = [[1.0, 2.0, 3.0, 4.0, 5.0], [1.1, 2.1, 3.1, 4.1, 5.1], [1.2, 2.2, 3.2, 4.2, 5.2], [1.3, 2.3, 3.3, 4.3, 5.3]]\n",
        "# Convert the list to an array of values\n",
        "array_of_values = np.array(list_of_values)\n",
        "# Display array\n",
        "print(\"\\n2-D Array Values:\\n\", array_of_values)\n",
        "# Display array\n",
        "print(\"\\n1-D Array Values After Reshape (1, 20):\\n\", array_of_values.reshape(1, 20))\n",
        "# Display array\n",
        "print(\"\\n2-D Array Values After Reshape (2, 10):\\n\", array_of_values.reshape(2, 10))\n",
        "# Display array\n",
        "print(\"\\n3-D Array Values After Reshape (10, 2, 1):\\n\", array_of_values.reshape(10, 2, 1))"
      ],
      "execution_count": null,
      "outputs": [
        {
          "output_type": "stream",
          "text": [
            "\n",
            "2-D Array Values:\n",
            " [[1.  2.  3.  4.  5. ]\n",
            " [1.1 2.1 3.1 4.1 5.1]\n",
            " [1.2 2.2 3.2 4.2 5.2]\n",
            " [1.3 2.3 3.3 4.3 5.3]]\n",
            "\n",
            "1-D Array Values After Reshape (1, 20):\n",
            " [[1.  2.  3.  4.  5.  1.1 2.1 3.1 4.1 5.1 1.2 2.2 3.2 4.2 5.2 1.3 2.3 3.3\n",
            "  4.3 5.3]]\n",
            "\n",
            "2-D Array Values After Reshape (2, 10):\n",
            " [[1.  2.  3.  4.  5.  1.1 2.1 3.1 4.1 5.1]\n",
            " [1.2 2.2 3.2 4.2 5.2 1.3 2.3 3.3 4.3 5.3]]\n",
            "\n",
            "3-D Array Values After Reshape (10, 2, 1):\n",
            " [[[1. ]\n",
            "  [2. ]]\n",
            "\n",
            " [[3. ]\n",
            "  [4. ]]\n",
            "\n",
            " [[5. ]\n",
            "  [1.1]]\n",
            "\n",
            " [[2.1]\n",
            "  [3.1]]\n",
            "\n",
            " [[4.1]\n",
            "  [5.1]]\n",
            "\n",
            " [[1.2]\n",
            "  [2.2]]\n",
            "\n",
            " [[3.2]\n",
            "  [4.2]]\n",
            "\n",
            " [[5.2]\n",
            "  [1.3]]\n",
            "\n",
            " [[2.3]\n",
            "  [3.3]]\n",
            "\n",
            " [[4.3]\n",
            "  [5.3]]]\n"
          ],
          "name": "stdout"
        }
      ]
    },
    {
      "cell_type": "markdown",
      "metadata": {
        "id": "VPjSgzqf8FU_"
      },
      "source": [
        "## Part - 3: Array Broadcasting and Padding.\n"
      ]
    },
    {
      "cell_type": "code",
      "metadata": {
        "colab": {
          "base_uri": "https://localhost:8080/"
        },
        "id": "89qE1c8G8FVI",
        "outputId": "783d2bbb-e7ce-445a-82b7-9d97f48b36ac"
      },
      "source": [
        "# You can perform arithmetic directly on NumPy arrays, such as addition and subtraction. For\n",
        "# example, two arrays can be added together to create a new array where the values at each\n",
        "# index are added together. For example, an array a can be defined as [1, 2, 3] and array b can be\n",
        "# defined as [4, 5, 6] and adding together will result in a new array with the values [5, 7, 9].\n",
        "# Note: These are arrays of the same shape\n",
        "\n",
        "# Create a list of values\n",
        "list_of_values = [1, 2, 3]\n",
        "# Convert the list to an array of values\n",
        "array_a_of_values = np.array(list_of_values)\n",
        "\n",
        "# Create a list of values\n",
        "list_of_values = [4, 5, 6]\n",
        "# Convert the list to an array of values\n",
        "array_b_of_values = np.array(list_of_values)\n",
        "\n",
        "# Display Array\n",
        "print(\"1-D Array A:\\n\", array_a_of_values)\n",
        "print(\"\\n1-D Array B:\\n\", array_b_of_values)\n",
        "print(\"\\n1-D Array A + 1-D Array B:\\n\", array_a_of_values + array_b_of_values)\n",
        "print(\"\\n1-D Array A - 1-D Array B:\\n\", array_a_of_values - array_b_of_values)\n",
        "print(\"\\n1-D Array A * 1-D Array B:\\n\", array_a_of_values * array_b_of_values)\n",
        "print(\"\\n1-D Array A / 1-D Array B:\\n\", array_a_of_values / array_b_of_values)"
      ],
      "execution_count": null,
      "outputs": [
        {
          "output_type": "stream",
          "text": [
            "1-D Array A:\n",
            " [1 2 3]\n",
            "\n",
            "1-D Array B:\n",
            " [4 5 6]\n",
            "\n",
            "1-D Array A + 1-D Array B:\n",
            " [5 7 9]\n",
            "\n",
            "1-D Array A - 1-D Array B:\n",
            " [-3 -3 -3]\n",
            "\n",
            "1-D Array A * 1-D Array B:\n",
            " [ 4 10 18]\n",
            "\n",
            "1-D Array A / 1-D Array B:\n",
            " [0.25 0.4  0.5 ]\n"
          ],
          "name": "stdout"
        }
      ]
    },
    {
      "cell_type": "code",
      "metadata": {
        "colab": {
          "base_uri": "https://localhost:8080/",
          "height": 324
        },
        "id": "cO0mRHsK8FVO",
        "outputId": "8c512fe9-a22d-43ff-b7cc-a2a0c1eaac31"
      },
      "source": [
        "# We will now try to add arrays that are not of the same shape\n",
        "\n",
        "# Create a list of values\n",
        "list_of_values = [1, 2, 3]\n",
        "# Convert the list to an array of values\n",
        "array_a_of_values = np.array(list_of_values)\n",
        "\n",
        "# Create a list of values\n",
        "list_of_values = [4, 5, 6, 7]\n",
        "# Convert the list to an array of values\n",
        "array_b_of_values = np.array(list_of_values)\n",
        "\n",
        "# Display Array\n",
        "print(\"1-D Array A:\\n\", array_a_of_values)\n",
        "print(\"\\n1-D Array B:\\n\", array_b_of_values)\n",
        "print(\"\\n1-D Array A + 1-D Array B:\\n\", array_a_of_values + array_b_of_values)\n",
        "# This will throw an error since the arrays are not of the same shape\n",
        "\n",
        "# Strictly, arithmetic may only be performed on arrays that have the same dimensions and\n",
        "# dimensions with the same size. This means that a one-dimensional array with the length of\n",
        "# 10 can only perform arithmetic with another one-dimensional array with the length 10. This\n",
        "# limitation on array arithmetic is quite limiting indeed. Thankfully, NumPy provides a built-in\n",
        "# workaround to allow arithmetic between arrays with differing sizes."
      ],
      "execution_count": null,
      "outputs": [
        {
          "output_type": "stream",
          "text": [
            "1-D Array A:\n",
            " [1 2 3]\n",
            "\n",
            "1-D Array B:\n",
            " [4 5 6 7]\n"
          ],
          "name": "stdout"
        },
        {
          "output_type": "error",
          "ename": "ValueError",
          "evalue": "ignored",
          "traceback": [
            "\u001b[0;31m---------------------------------------------------------------------------\u001b[0m",
            "\u001b[0;31mValueError\u001b[0m                                Traceback (most recent call last)",
            "\u001b[0;32m<ipython-input-52-2acd505590cd>\u001b[0m in \u001b[0;36m<module>\u001b[0;34m()\u001b[0m\n\u001b[1;32m     14\u001b[0m \u001b[0mprint\u001b[0m\u001b[0;34m(\u001b[0m\u001b[0;34m\"1-D Array A:\\n\"\u001b[0m\u001b[0;34m,\u001b[0m \u001b[0marray_a_of_values\u001b[0m\u001b[0;34m)\u001b[0m\u001b[0;34m\u001b[0m\u001b[0;34m\u001b[0m\u001b[0m\n\u001b[1;32m     15\u001b[0m \u001b[0mprint\u001b[0m\u001b[0;34m(\u001b[0m\u001b[0;34m\"\\n1-D Array B:\\n\"\u001b[0m\u001b[0;34m,\u001b[0m \u001b[0marray_b_of_values\u001b[0m\u001b[0;34m)\u001b[0m\u001b[0;34m\u001b[0m\u001b[0;34m\u001b[0m\u001b[0m\n\u001b[0;32m---> 16\u001b[0;31m \u001b[0mprint\u001b[0m\u001b[0;34m(\u001b[0m\u001b[0;34m\"\\n1-D Array A + 1-D Array B:\\n\"\u001b[0m\u001b[0;34m,\u001b[0m \u001b[0marray_a_of_values\u001b[0m \u001b[0;34m+\u001b[0m \u001b[0marray_b_of_values\u001b[0m\u001b[0;34m)\u001b[0m\u001b[0;34m\u001b[0m\u001b[0;34m\u001b[0m\u001b[0m\n\u001b[0m\u001b[1;32m     17\u001b[0m \u001b[0;31m# This will throw an error since the arrays are not of the same shape\u001b[0m\u001b[0;34m\u001b[0m\u001b[0;34m\u001b[0m\u001b[0;34m\u001b[0m\u001b[0m\n\u001b[1;32m     18\u001b[0m \u001b[0;34m\u001b[0m\u001b[0m\n",
            "\u001b[0;31mValueError\u001b[0m: operands could not be broadcast together with shapes (3,) (4,) "
          ]
        }
      ]
    },
    {
      "cell_type": "code",
      "metadata": {
        "colab": {
          "base_uri": "https://localhost:8080/"
        },
        "id": "alAQFdWt8FVS",
        "outputId": "9368a272-344e-4664-ae96-a0bcb45cf4ae"
      },
      "source": [
        "# A single value or scalar can be used in arithmetic with a one-dimensional array. For example,\n",
        "# we can imagine a one-dimensional array a with three values [a1, a2, a3] added to a scalar b.\n",
        "\n",
        "# Create a list of values\n",
        "list_of_values = [1, 2, 3]\n",
        "# Convert the list to an array of values\n",
        "array_a_of_values = np.array(list_of_values)\n",
        "\n",
        "# Create a list of values\n",
        "list_of_values = [4, 5, 6]\n",
        "# Convert the list to an array of values\n",
        "array_b_of_values = np.array(list_of_values)\n",
        "\n",
        "# Display Array\n",
        "print(\"1-D Array A:\\n\", array_a_of_values)\n",
        "print(\"\\n1-D Array B:\\n\", array_b_of_values)\n",
        "print(\"\\n1-D Array A + scalar (10):\\n\", array_a_of_values + 10) # Broadcasting where 10 is the scalar and array_a_of_values is the array\n",
        "print(\"\\n1-D Array B * scalar (2):\\n\", array_b_of_values * 2) # Broadcasting where 2 is the scalar and array_a_of_values is the array"
      ],
      "execution_count": null,
      "outputs": [
        {
          "output_type": "stream",
          "text": [
            "1-D Array A:\n",
            " [1 2 3]\n",
            "\n",
            "1-D Array B:\n",
            " [4 5 6]\n",
            "\n",
            "1-D Array A + scalar (10):\n",
            " [11 12 13]\n",
            "\n",
            "1-D Array B * scalar (2):\n",
            " [ 8 10 12]\n"
          ],
          "name": "stdout"
        }
      ]
    },
    {
      "cell_type": "markdown",
      "metadata": {
        "id": "UNgXld19Gme9"
      },
      "source": [
        "- Consider a 2-D Array A\n",
        "\n",
        "|  |  |  |\n",
        "|------|:----:|:----:|\n",
        "| a1,1 | a1,2 | a1,3 |\n",
        "| a2,1 | a2,2 | a2,3 |\n",
        "\n",
        "- And a 2-D Array B\n",
        "\n",
        "|  |  |  |\n",
        "|------|:----:|:----:|\n",
        "| b1,1 | b1,2 | b1,3 |\n",
        "| b2,1 | b2,2 | b2,3 |\n",
        "\n",
        "- Array A + Array B would be logically summarised as the following\n",
        "\n",
        "|  |  |  |\n",
        "|------|:----:|:----:|\n",
        "| a1,1 + b1,1 | a1,2 + b1,2 | a1,3 + b1,3 |\n",
        "| a2,1 + b2,1 | a2,2 + b2,2 | a2,3 + b2,3 |"
      ]
    },
    {
      "cell_type": "code",
      "metadata": {
        "colab": {
          "base_uri": "https://localhost:8080/"
        },
        "id": "9MRLASYI8FVV",
        "outputId": "b697adb4-4ed2-46d4-ecfc-cd1d0b37b478"
      },
      "source": [
        "# Create a list of values\n",
        "list_of_values = [[1, 2, 3], [4, 5, 6]]\n",
        "# Convert the list to an array of values\n",
        "array_a_of_values = np.array(list_of_values)\n",
        "\n",
        "# Display Array\n",
        "print(\"2-D Array A:\\n\", array_a_of_values)\n",
        "print(\"\\n2-D Array A + Scalar (10):\\n\", array_a_of_values + 10) # Broadcasting where 10 is the scalar and array_a_of_values is the array"
      ],
      "execution_count": null,
      "outputs": [
        {
          "output_type": "stream",
          "text": [
            "2-D Array A:\n",
            " [[1 2 3]\n",
            " [4 5 6]]\n",
            "\n",
            "2-D Array A + Scalar (10):\n",
            " [[11 12 13]\n",
            " [14 15 16]]\n"
          ],
          "name": "stdout"
        }
      ]
    },
    {
      "cell_type": "code",
      "metadata": {
        "colab": {
          "base_uri": "https://localhost:8080/"
        },
        "id": "zPcs8v4A8FVc",
        "outputId": "3b6efaaf-bc67-411d-f1bb-1fcc12ff0a9c"
      },
      "source": [
        "# Create a list of values\n",
        "list_of_values = [[1, 2, 3], [4, 5, 6]]\n",
        "# Convert the list to an array of values\n",
        "array_a_of_values = np.array(list_of_values)\n",
        "\n",
        "# Create a list of values\n",
        "list_of_values = [20, 40, 60]\n",
        "# Convert the list to an array of values\n",
        "array_b_of_values = np.array(list_of_values)\n",
        "\n",
        "# Display Array\n",
        "print(\"2-D Array A:\\n\", array_a_of_values)\n",
        "print(\"\\n2-D Array A + 1-D Array B:\\n\", array_a_of_values + array_b_of_values) # Broadcasting where 10 is the scalar and array_a_of_values is the array"
      ],
      "execution_count": null,
      "outputs": [
        {
          "output_type": "stream",
          "text": [
            "2-D Array A:\n",
            " [[1 2 3]\n",
            " [4 5 6]]\n",
            "\n",
            "2-D Array A + 1-D Array B:\n",
            " [[21 42 63]\n",
            " [24 45 66]]\n"
          ],
          "name": "stdout"
        }
      ]
    },
    {
      "cell_type": "markdown",
      "metadata": {
        "id": "1i0b73MuJKDH"
      },
      "source": [
        "**Note**: There are even limitations to broadcasting in NumPy where \n",
        "- Consider an Array A of shape: (2, 3)\n",
        "- Consider a Scalar B of shape: (3) or Array of shape (1, 3)\n",
        "    - Scalar B of shape (3) is infact comprehended as (1, 3)\n",
        "- Now (2, **3**) and (1, **3**) have their coloumn values match\n",
        "- Hence we can apply arithemetic operations on it.\n",
        "- But we cannot perform operations on arrays that do not match the above criteria of column values matching as shown in the error above"
      ]
    }
  ]
}