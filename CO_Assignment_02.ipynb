{
  "nbformat": 4,
  "nbformat_minor": 0,
  "metadata": {
    "colab": {
      "name": "CO_Assignment_02.ipynb",
      "provenance": [],
      "collapsed_sections": []
    },
    "kernelspec": {
      "name": "python3",
      "display_name": "Python 3"
    }
  },
  "cells": [
    {
      "cell_type": "markdown",
      "metadata": {
        "id": "UX2IkvQgN0EZ"
      },
      "source": [
        "# Comparator\n",
        "Our objective is to understand and build Comparator that is able to add unsigned bits. "
      ]
    },
    {
      "cell_type": "markdown",
      "metadata": {
        "id": "MCNxmRSzQRk-"
      },
      "source": [
        "## Question - 1\n",
        "Write Python code that does the following. \n",
        "\n",
        "- Create a function: **two_bit_comparator()**, Input: **input_value_a**, **input_value_b** where input_value_a and input_value_b should be unsigned two bit binary value. This function should COMPARE the two bits and return the appropraite value, Here the output should be a three bit binary value where LSB signifies that input_a is greater than input_b, MSB signifies that input_b is greater than input_a and the Middle bit signifies that input_a is equal to input_b.\n",
        "\n",
        "    - Ex: input_value_a = 10, input_value_b = 00 then input_value_a COMPARED with input_value_b would result in output_value = 100 (Here MSB is 1 and rest are 0 signifying that input_value_a is greater than input_value_b\n",
        "    - Ex: input_value_a = 01, input_value_b = 10 then input_value_a COMPARED with input_value_b would result in output_value = 001 (Here MSB is 1 and rest are 0 signifying that input_value_b is greater than input_value_a\n",
        "    - Ex: input_value_a = 01, input_value_b = 01 then input_value_a COMPARED with input_value_b would result in output_value = 010 (Here Middle bit is 1 and rest are 0 signifying that input_value_a is greater than input_value_b\n",
        "\n",
        "**Conditions to follow:**\n",
        "- The output should be a string format similar to test cases mentioned below\n",
        "- **IMPORTANT: You cannot use any Python [mathematical operators](https://www.w3schools.com/python/gloss_python_arithmetic_operators.asp) in your solution.**\n",
        "- Inbuilt functions which require no import and Datatype methods can be used to solve this problem but No arbitray functions or library can be used.\n",
        "- No other function name can be defined/declared than the ones asked to be declared in any of the questions presented in this notebook. \n",
        "- The code you write should pass all the test cases given.\n",
        "\n",
        "\n",
        "---\n",
        "\n",
        "TEST CASES:\n",
        "\n",
        "```\n",
        "Input A: 11 COMPARED with Input B: 00 is 100\n",
        "\n",
        "Input A: 10 COMPARED with Input B: 10 is 010\n",
        "\n",
        "Input A: 00 COMPARED with Input B: 11 is 001\n",
        "\n",
        "Input A: 10 COMPARED with Input B: 01 is 100\n",
        "```\n",
        "---\n",
        "\n",
        "Hint: You can use built in methods and data type/string methods to create the solution to solve this problem. Consider using logic gates from above solutions and solving the k-map equation using those gates for a two bit comparator "
      ]
    },
    {
      "cell_type": "markdown",
      "metadata": {
        "id": "9Bt0n4fAN0Ef"
      },
      "source": [
        "### Code"
      ]
    },
    {
      "cell_type": "code",
      "metadata": {
        "id": "m-ZK0sT2N0Ei"
      },
      "source": [
        "# DECLARE the function two_bit_comparator()\n",
        "def two_bit_comparator(input_value_a, input_value_b):\n",
        "    # write code here\n",
        "\n",
        "### TEST CASES ###\n",
        "\n",
        "# Initialize the input values\n",
        "input_value_tuple_list = [('11', '00'), ('10', '10'), ('00', '11'), ('10', '01')]\n",
        "for input_value_a, input_value_b in input_value_tuple_list:\n",
        "    # CALL the two_bit_comparator with required parameters\n",
        "    output_value = two_bit_comparator(input_value_a=input_value_a, input_value_b=input_value_b)\n",
        "    # Print the output\n",
        "    print(\"Input A: {0} COMPARED with Input B: {1} is {2}\\n\".format(input_value_a, input_value_b, output_value))"
      ],
      "execution_count": null,
      "outputs": []
    },
    {
      "cell_type": "markdown",
      "metadata": {
        "id": "bpbEm8C34PTG"
      },
      "source": [
        "# Arithmetic Logic Unit (ALU)\n",
        "Our objective is to understand and build a logical ALU."
      ]
    },
    {
      "cell_type": "markdown",
      "metadata": {
        "id": "tP4KmSnb4PTU"
      },
      "source": [
        "## Question - 2\n",
        "Write Python code that does the following. \n",
        "\n",
        "- Create the following functions, that will return the appropriate response as mentioned below for a given input bit.\n",
        "    - function: **n_bit_left_shifter()**, Input: **input_value**, **n**. **input_value** where input_value will be unsigned n bit binary value and **n** will be an integer value which is the number of bits we want to left shift the input_value. This function should return the appropraite value as applied by LEFT SHIFT operation on the respective input_value bits\n",
        "        - Ex: input_value = 1110, n = 2 then input_value LEFT SHIFT by n bits would result in output_value = 1000\n",
        "        - Ex: input_value = 1001, n = 3 then input_value LEFT SHIFT by n bits would result in output_value = 0100\n",
        "    - function: **n_bit_right_shifter()**, Input: **input_value**, **input_value** where input_value will be unsigned n bit binary value and n will be the number of bits we want to right shift the input_value. This function should return the appropraite value as applied by RIGHT SHIFT operation on the respective input_value bits\n",
        "        - Ex: input_value = 1110, n = 2 then input_value RIGHT SHIFT by n bits would result in output_value = 0011\n",
        "        - Ex: input_value = 1001, n = 3 then input_value RIGHT SHIFT by n bits would result in output_value = 0001\n",
        "\n",
        "**Conditions to follow:**\n",
        "- The output should be a string format similar to test cases mentioned below\n",
        "- Inbuilt functions which require no import and Datatype methods can be used to solve this problem but No arbitray functions or library can be used.\n",
        "- No other function name can be defined/declared than the ones asked to be declared in any of the questions presented in this notebook. \n",
        "- The code you write should pass all the test cases given. \n",
        "\n",
        "\n",
        "---\n",
        "\n",
        "TEST CASES:\n",
        "\n",
        "```\n",
        "Input: 1010 when LEFT SHIFTED by N: 3 bits is 0000\n",
        "\n",
        "Input: 1010 when RIGHT SHIFTED by N: 3 bits is 0001\n",
        "\n",
        "Input: 101110 when LEFT SHIFTED by N: 4 bits is 100000\n",
        "\n",
        "Input: 101110 when RIGHT SHIFTED by N: 4 bits is 000010\n",
        "\n",
        "Input: 1111 when LEFT SHIFTED by N: 3 bits is 1000\n",
        "\n",
        "Input: 1111 when RIGHT SHIFTED by N: 3 bits is 0001\n",
        "```\n",
        "---\n",
        "\n",
        "Hint: You can use built in methods and data type/string methods to create the solution, Consider list slicing to achieve the solution."
      ]
    },
    {
      "cell_type": "markdown",
      "metadata": {
        "id": "OpXXyIBN4PTY"
      },
      "source": [
        "### Code"
      ]
    },
    {
      "cell_type": "code",
      "metadata": {
        "id": "yZxqrLRO4PTc"
      },
      "source": [
        "# DECLARE the function n_bit_left_shifter()\n",
        "def n_bit_left_shifter(input_value, n):\n",
        "    # write code here\n",
        "\n",
        "# DECLARE the function n_bit_right_shifter()\n",
        "def n_bit_right_shifter(input_value, n):\n",
        "    # write code here\n",
        "\n",
        "### TEST CASES ###\n",
        "\n",
        "# Initialize the input values\n",
        "input_value_tuple_list = [('10101', 2), ('10100', 1), ('01011', 4), ('111011', 5)]\n",
        "for input_value, n in input_value_tuple_list:\n",
        "    # CALL the n_bit_left_shifter with required parameters\n",
        "    left_shift_output_value = n_bit_left_shifter(input_value=input_value, n=n)\n",
        "    # CALL the n_bit_right_shifter with required parameters\n",
        "    right_shift_output_value = n_bit_right_shifter(input_value=input_value, n=n)\n",
        "    # Print the output\n",
        "    print(\"Input: {0} when LEFT SHIFTED by N: {1} bits is {2}\\n\".format(input_value, n, left_shift_output_value))\n",
        "    print(\"Input: {0} when RIGHT SHIFTED by N: {1} bits is {2}\\n\".format(input_value, n, right_shift_output_value))"
      ],
      "execution_count": null,
      "outputs": []
    },
    {
      "cell_type": "markdown",
      "metadata": {
        "id": "SXU9Osq04PTt"
      },
      "source": [
        "## Question - 3\n",
        "Write Python code that does the following. \n",
        "\n",
        "- Create a function: **logical_alu()**, Input: **opcode**, **input_value_a**, **input_value_b**, **n** where input_value_a and input_value_b should be unsigned n bit binary value based on the opcode which is a strictly a 3 bit binary value and n is an integer. This function should perform the operations for the respective opcodes.\n",
        "    - When opcode is of value 1 (001) then we perform AND GATE operation on the input_a and input_b values\n",
        "    - When opcode is of value 2 (010) then we perform OR GATE operation on the input_a and input_b values\n",
        "    - When opcode is of value 3 (011) then we perform XOR GATE operation on the input_a and input_b values\n",
        "    - When opcode is of value 4 (100) then we perform FOUR BIT UNSIGNED ADDITION operation on the input_a and input_b values\n",
        "    - When opcode is of value 5 (101) then we perform TWO BIT COMPARISON  operation on the input_a and input_b values\n",
        "    - When opcode is of value 6 (110) then we perform N BIT LEFT SHIFT operation on the input_a values by n bits\n",
        "    - When opcode is of value 6 (110) then we perform N BIT RIGHT SHIFT operation on the input_a values by n bits\n",
        "\n",
        "**Conditions to follow:**\n",
        "- The output should be a string format similar to test cases mentioned below\n",
        "- Inbuilt functions which require no import and Datatype methods can be used to solve this problem but No arbitray functions or library can be used.\n",
        "- No other function name can be defined/declared than the ones asked to be declared in any of the questions presented in this notebook. \n",
        "- The code you write should pass all the test cases given.\n",
        "\n",
        "\n",
        "---\n",
        "\n",
        "TEST CASES:\n",
        "\n",
        "```\n",
        "Input A: 1101, Input B: 1001 for opcode: 001 is 1001\n",
        "\n",
        "Input A: 101, Input B: 0011 for opcode: 010 is 0111\n",
        "\n",
        "Input A: 0101, Input B: 1101 for opcode: 011 is 1000\n",
        "\n",
        "Input A: 001, Input B: 1101 for opcode: 100 is 1110\n",
        "\n",
        "Input A: 10, Input B: 01 for opcode: 101 is 100\n",
        "\n",
        "Input A: 11101 with n: 3 for opcode: 110 is 01000\n",
        "\n",
        "Input A: 11101010 with n: 4 for opcode: 111 is 00001110\n",
        "```\n",
        "---\n",
        "\n",
        "Hint: You can use built in methods and data type/string methods to create the solution to solve this problem. Consider using the logic you have coded so far and converting the opcode to base 10 for easier handling."
      ]
    },
    {
      "cell_type": "markdown",
      "metadata": {
        "id": "H7yAya8h4PTw"
      },
      "source": [
        "### Code"
      ]
    },
    {
      "cell_type": "code",
      "metadata": {
        "id": "EpBs2x6u4PT4"
      },
      "source": [
        "# DECLARE the function logical_alu()\n",
        "def logical_alu(opcode, input_value_a=\"0000\", input_value_b=\"0000\", n=0):\n",
        "    # write code here\n",
        "\n",
        "### TEST CASES ###\n",
        "\n",
        "# Initialize the input values\n",
        "input_value_tuple_list = [('1101', '1001', None, '001'),('101', '0011', None, '010'),('0101', '1101', None, '011'),('001', '1101', None, '100'),('10', '01', None, '101'),('11101', '', 3, '110'),('11101010', '', 4, '111')]\n",
        "for input_value_a, input_value_b, n, opcode in input_value_tuple_list:\n",
        "    # CALL the logical_alu with required parameters\n",
        "    output_value = logical_alu(opcode=opcode, input_value_a=input_value_a, input_value_b=input_value_b, n=n)\n",
        "    # Print the output\n",
        "    if input_value_b:\n",
        "        print(\"Input A: {0}, Input B: {1} for opcode: {2} is {3}\\n\".format(input_value_a, input_value_b, opcode, output_value))\n",
        "    elif n:\n",
        "        print(\"Input A: {0} with n: {1} for opcode: {2} is {3}\\n\".format(input_value_a, n, opcode, output_value))"
      ],
      "execution_count": null,
      "outputs": []
    }
  ]
}